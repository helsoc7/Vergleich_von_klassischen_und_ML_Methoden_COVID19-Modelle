{
  "cells": [
    {
      "cell_type": "markdown",
      "metadata": {
        "id": "ac9j6BC2Qk5S"
      },
      "source": [
        "[![Open In Colab](https://colab.research.google.com/assets/colab-badge.svg)](\n",
        "https://colab.research.google.com/github/Priesemann-Group/covid19_inference/blob/master/scripts/interactive/example_one_bundesland.ipynb)"
      ]
    },
    {
      "cell_type": "markdown",
      "metadata": {
        "id": "lT8j8q8ieNCL"
      },
      "source": [
        "# Sampling-Parameter-Anaylse\n",
        "## Deutschland vom 10.03.2020 bis 10.06.2020"
      ]
    },
    {
      "cell_type": "markdown",
      "metadata": {
        "id": "cSLlUwn7ecIq"
      },
      "source": [
        "Initial definieren wir wie viele Threads wir bei dem MCMC-Sampling gleichzeitig rechnen lassen wollen (`%env OMP_NUM_Thread`). Zudem soll das `covid19_inference`-Modul installiert werden. Ferner stellen wir mit `%load_ext autoreload` und `%autoreload 2` sicher, dass automatisch die Module vor der Ausführung des Codes nachgeladen werden. Das kann insbesondere dann hilfreich sein, wenn wir Änderungen durchführen, den Kernel aber nicht neustarten wollen. Zusätzlich wird das `pytensor`-Modul geladen sowie das `pymc`. Vor allem `pymc` spielt in der Bayes'schen Inferenz eine wichtige Rolle."
      ]
    },
    {
      "cell_type": "code",
      "execution_count": null,
      "metadata": {
        "colab": {
          "base_uri": "https://localhost:8080/"
        },
        "id": "fkswEexWQk5V",
        "outputId": "9a5e0be0-2bf4-4b13-bfea-5333adf61808"
      },
      "outputs": [
        {
          "name": "stdout",
          "output_type": "stream",
          "text": [
            "env: OMP_NUM_THREADS=1\n",
            "Collecting covid19_inference\n",
            "  Downloading covid19_inference-0.5.0-py3-none-any.whl (142 kB)\n",
            "\u001b[2K     \u001b[90m━━━━━━━━━━━━━━━━━━━━━━━━━━━━━━━━━━━━━━━━\u001b[0m \u001b[32m142.6/142.6 kB\u001b[0m \u001b[31m4.0 MB/s\u001b[0m eta \u001b[36m0:00:00\u001b[0m\n",
            "\u001b[?25hRequirement already satisfied: numpy in /usr/local/lib/python3.10/dist-packages (from covid19_inference) (1.23.5)\n",
            "Requirement already satisfied: matplotlib in /usr/local/lib/python3.10/dist-packages (from covid19_inference) (3.7.1)\n",
            "Requirement already satisfied: pymc>=5.0.0 in /usr/local/lib/python3.10/dist-packages (from covid19_inference) (5.7.2)\n",
            "Requirement already satisfied: pytensor in /usr/local/lib/python3.10/dist-packages (from covid19_inference) (2.14.2)\n",
            "Requirement already satisfied: pandas in /usr/local/lib/python3.10/dist-packages (from covid19_inference) (1.5.3)\n",
            "Requirement already satisfied: pytest in /usr/local/lib/python3.10/dist-packages (from covid19_inference) (7.4.3)\n",
            "Requirement already satisfied: requests in /usr/local/lib/python3.10/dist-packages (from covid19_inference) (2.31.0)\n",
            "Collecting numpyro (from covid19_inference)\n",
            "  Downloading numpyro-0.13.2-py3-none-any.whl (312 kB)\n",
            "\u001b[2K     \u001b[90m━━━━━━━━━━━━━━━━━━━━━━━━━━━━━━━━━━━━━━━━\u001b[0m \u001b[32m312.7/312.7 kB\u001b[0m \u001b[31m17.9 MB/s\u001b[0m eta \u001b[36m0:00:00\u001b[0m\n",
            "\u001b[?25hCollecting cairosvg (from covid19_inference)\n",
            "  Downloading CairoSVG-2.7.1-py3-none-any.whl (43 kB)\n",
            "\u001b[2K     \u001b[90m━━━━━━━━━━━━━━━━━━━━━━━━━━━━━━━━━━━━━━━━\u001b[0m \u001b[32m43.2/43.2 kB\u001b[0m \u001b[31m3.7 MB/s\u001b[0m eta \u001b[36m0:00:00\u001b[0m\n",
            "\u001b[?25hCollecting watermark (from covid19_inference)\n",
            "  Downloading watermark-2.4.3-py2.py3-none-any.whl (7.6 kB)\n",
            "Requirement already satisfied: arviz>=0.13.0 in /usr/local/lib/python3.10/dist-packages (from pymc>=5.0.0->covid19_inference) (0.15.1)\n",
            "Requirement already satisfied: cachetools>=4.2.1 in /usr/local/lib/python3.10/dist-packages (from pymc>=5.0.0->covid19_inference) (5.3.2)\n",
            "Requirement already satisfied: cloudpickle in /usr/local/lib/python3.10/dist-packages (from pymc>=5.0.0->covid19_inference) (2.2.1)\n",
            "Requirement already satisfied: fastprogress>=0.2.0 in /usr/local/lib/python3.10/dist-packages (from pymc>=5.0.0->covid19_inference) (1.0.3)\n",
            "Requirement already satisfied: scipy>=1.4.1 in /usr/local/lib/python3.10/dist-packages (from pymc>=5.0.0->covid19_inference) (1.11.3)\n",
            "Requirement already satisfied: typing-extensions>=3.7.4 in /usr/local/lib/python3.10/dist-packages (from pymc>=5.0.0->covid19_inference) (4.5.0)\n",
            "Requirement already satisfied: python-dateutil>=2.8.1 in /usr/local/lib/python3.10/dist-packages (from pandas->covid19_inference) (2.8.2)\n",
            "Requirement already satisfied: pytz>=2020.1 in /usr/local/lib/python3.10/dist-packages (from pandas->covid19_inference) (2023.3.post1)\n",
            "Requirement already satisfied: setuptools>=48.0.0 in /usr/local/lib/python3.10/dist-packages (from pytensor->covid19_inference) (67.7.2)\n",
            "Requirement already satisfied: filelock in /usr/local/lib/python3.10/dist-packages (from pytensor->covid19_inference) (3.13.1)\n",
            "Requirement already satisfied: etuples in /usr/local/lib/python3.10/dist-packages (from pytensor->covid19_inference) (0.3.9)\n",
            "Requirement already satisfied: logical-unification in /usr/local/lib/python3.10/dist-packages (from pytensor->covid19_inference) (0.4.6)\n",
            "Requirement already satisfied: miniKanren in /usr/local/lib/python3.10/dist-packages (from pytensor->covid19_inference) (1.0.3)\n",
            "Requirement already satisfied: cons in /usr/local/lib/python3.10/dist-packages (from pytensor->covid19_inference) (0.4.6)\n",
            "Collecting cairocffi (from cairosvg->covid19_inference)\n",
            "  Downloading cairocffi-1.6.1-py3-none-any.whl (75 kB)\n",
            "\u001b[2K     \u001b[90m━━━━━━━━━━━━━━━━━━━━━━━━━━━━━━━━━━━━━━━━\u001b[0m \u001b[32m75.1/75.1 kB\u001b[0m \u001b[31m11.0 MB/s\u001b[0m eta \u001b[36m0:00:00\u001b[0m\n",
            "\u001b[?25hCollecting cssselect2 (from cairosvg->covid19_inference)\n",
            "  Downloading cssselect2-0.7.0-py3-none-any.whl (15 kB)\n",
            "Requirement already satisfied: defusedxml in /usr/local/lib/python3.10/dist-packages (from cairosvg->covid19_inference) (0.7.1)\n",
            "Requirement already satisfied: pillow in /usr/local/lib/python3.10/dist-packages (from cairosvg->covid19_inference) (9.4.0)\n",
            "Requirement already satisfied: tinycss2 in /usr/local/lib/python3.10/dist-packages (from cairosvg->covid19_inference) (1.2.1)\n",
            "Requirement already satisfied: contourpy>=1.0.1 in /usr/local/lib/python3.10/dist-packages (from matplotlib->covid19_inference) (1.2.0)\n",
            "Requirement already satisfied: cycler>=0.10 in /usr/local/lib/python3.10/dist-packages (from matplotlib->covid19_inference) (0.12.1)\n",
            "Requirement already satisfied: fonttools>=4.22.0 in /usr/local/lib/python3.10/dist-packages (from matplotlib->covid19_inference) (4.44.3)\n",
            "Requirement already satisfied: kiwisolver>=1.0.1 in /usr/local/lib/python3.10/dist-packages (from matplotlib->covid19_inference) (1.4.5)\n",
            "Requirement already satisfied: packaging>=20.0 in /usr/local/lib/python3.10/dist-packages (from matplotlib->covid19_inference) (23.2)\n",
            "Requirement already satisfied: pyparsing>=2.3.1 in /usr/local/lib/python3.10/dist-packages (from matplotlib->covid19_inference) (3.1.1)\n",
            "Requirement already satisfied: jax>=0.4.14 in /usr/local/lib/python3.10/dist-packages (from numpyro->covid19_inference) (0.4.20)\n",
            "Requirement already satisfied: jaxlib>=0.4.14 in /usr/local/lib/python3.10/dist-packages (from numpyro->covid19_inference) (0.4.20+cuda11.cudnn86)\n",
            "Requirement already satisfied: multipledispatch in /usr/local/lib/python3.10/dist-packages (from numpyro->covid19_inference) (1.0.0)\n",
            "Requirement already satisfied: tqdm in /usr/local/lib/python3.10/dist-packages (from numpyro->covid19_inference) (4.66.1)\n",
            "Requirement already satisfied: iniconfig in /usr/local/lib/python3.10/dist-packages (from pytest->covid19_inference) (2.0.0)\n",
            "Requirement already satisfied: pluggy<2.0,>=0.12 in /usr/local/lib/python3.10/dist-packages (from pytest->covid19_inference) (1.3.0)\n",
            "Requirement already satisfied: exceptiongroup>=1.0.0rc8 in /usr/local/lib/python3.10/dist-packages (from pytest->covid19_inference) (1.1.3)\n",
            "Requirement already satisfied: tomli>=1.0.0 in /usr/local/lib/python3.10/dist-packages (from pytest->covid19_inference) (2.0.1)\n",
            "Requirement already satisfied: charset-normalizer<4,>=2 in /usr/local/lib/python3.10/dist-packages (from requests->covid19_inference) (3.3.2)\n",
            "Requirement already satisfied: idna<4,>=2.5 in /usr/local/lib/python3.10/dist-packages (from requests->covid19_inference) (3.4)\n",
            "Requirement already satisfied: urllib3<3,>=1.21.1 in /usr/local/lib/python3.10/dist-packages (from requests->covid19_inference) (2.0.7)\n",
            "Requirement already satisfied: certifi>=2017.4.17 in /usr/local/lib/python3.10/dist-packages (from requests->covid19_inference) (2023.7.22)\n",
            "Requirement already satisfied: ipython>=6.0 in /usr/local/lib/python3.10/dist-packages (from watermark->covid19_inference) (7.34.0)\n",
            "Requirement already satisfied: importlib-metadata>=1.4 in /usr/local/lib/python3.10/dist-packages (from watermark->covid19_inference) (6.8.0)\n",
            "Requirement already satisfied: xarray>=0.21.0 in /usr/local/lib/python3.10/dist-packages (from arviz>=0.13.0->pymc>=5.0.0->covid19_inference) (2023.7.0)\n",
            "Requirement already satisfied: h5netcdf>=1.0.2 in /usr/local/lib/python3.10/dist-packages (from arviz>=0.13.0->pymc>=5.0.0->covid19_inference) (1.3.0)\n",
            "Requirement already satisfied: xarray-einstats>=0.3 in /usr/local/lib/python3.10/dist-packages (from arviz>=0.13.0->pymc>=5.0.0->covid19_inference) (0.6.0)\n",
            "Requirement already satisfied: zipp>=0.5 in /usr/local/lib/python3.10/dist-packages (from importlib-metadata>=1.4->watermark->covid19_inference) (3.17.0)\n",
            "Collecting jedi>=0.16 (from ipython>=6.0->watermark->covid19_inference)\n",
            "  Downloading jedi-0.19.1-py2.py3-none-any.whl (1.6 MB)\n",
            "\u001b[2K     \u001b[90m━━━━━━━━━━━━━━━━━━━━━━━━━━━━━━━━━━━━━━━━\u001b[0m \u001b[32m1.6/1.6 MB\u001b[0m \u001b[31m22.4 MB/s\u001b[0m eta \u001b[36m0:00:00\u001b[0m\n",
            "\u001b[?25hRequirement already satisfied: decorator in /usr/local/lib/python3.10/dist-packages (from ipython>=6.0->watermark->covid19_inference) (4.4.2)\n",
            "Requirement already satisfied: pickleshare in /usr/local/lib/python3.10/dist-packages (from ipython>=6.0->watermark->covid19_inference) (0.7.5)\n",
            "Requirement already satisfied: traitlets>=4.2 in /usr/local/lib/python3.10/dist-packages (from ipython>=6.0->watermark->covid19_inference) (5.7.1)\n",
            "Requirement already satisfied: prompt-toolkit!=3.0.0,!=3.0.1,<3.1.0,>=2.0.0 in /usr/local/lib/python3.10/dist-packages (from ipython>=6.0->watermark->covid19_inference) (3.0.41)\n",
            "Requirement already satisfied: pygments in /usr/local/lib/python3.10/dist-packages (from ipython>=6.0->watermark->covid19_inference) (2.16.1)\n",
            "Requirement already satisfied: backcall in /usr/local/lib/python3.10/dist-packages (from ipython>=6.0->watermark->covid19_inference) (0.2.0)\n",
            "Requirement already satisfied: matplotlib-inline in /usr/local/lib/python3.10/dist-packages (from ipython>=6.0->watermark->covid19_inference) (0.1.6)\n",
            "Requirement already satisfied: pexpect>4.3 in /usr/local/lib/python3.10/dist-packages (from ipython>=6.0->watermark->covid19_inference) (4.8.0)\n",
            "Requirement already satisfied: ml-dtypes>=0.2.0 in /usr/local/lib/python3.10/dist-packages (from jax>=0.4.14->numpyro->covid19_inference) (0.2.0)\n",
            "Requirement already satisfied: opt-einsum in /usr/local/lib/python3.10/dist-packages (from jax>=0.4.14->numpyro->covid19_inference) (3.3.0)\n",
            "Requirement already satisfied: six>=1.5 in /usr/local/lib/python3.10/dist-packages (from python-dateutil>=2.8.1->pandas->covid19_inference) (1.16.0)\n",
            "Requirement already satisfied: cffi>=1.1.0 in /usr/local/lib/python3.10/dist-packages (from cairocffi->cairosvg->covid19_inference) (1.16.0)\n",
            "Requirement already satisfied: toolz in /usr/local/lib/python3.10/dist-packages (from logical-unification->pytensor->covid19_inference) (0.12.0)\n",
            "Requirement already satisfied: webencodings in /usr/local/lib/python3.10/dist-packages (from cssselect2->cairosvg->covid19_inference) (0.5.1)\n",
            "Requirement already satisfied: pycparser in /usr/local/lib/python3.10/dist-packages (from cffi>=1.1.0->cairocffi->cairosvg->covid19_inference) (2.21)\n",
            "Requirement already satisfied: h5py in /usr/local/lib/python3.10/dist-packages (from h5netcdf>=1.0.2->arviz>=0.13.0->pymc>=5.0.0->covid19_inference) (3.9.0)\n",
            "Requirement already satisfied: parso<0.9.0,>=0.8.3 in /usr/local/lib/python3.10/dist-packages (from jedi>=0.16->ipython>=6.0->watermark->covid19_inference) (0.8.3)\n",
            "Requirement already satisfied: ptyprocess>=0.5 in /usr/local/lib/python3.10/dist-packages (from pexpect>4.3->ipython>=6.0->watermark->covid19_inference) (0.7.0)\n",
            "Requirement already satisfied: wcwidth in /usr/local/lib/python3.10/dist-packages (from prompt-toolkit!=3.0.0,!=3.0.1,<3.1.0,>=2.0.0->ipython>=6.0->watermark->covid19_inference) (0.2.10)\n",
            "Installing collected packages: jedi, cssselect2, cairocffi, watermark, numpyro, cairosvg, covid19_inference\n",
            "Successfully installed cairocffi-1.6.1 cairosvg-2.7.1 covid19_inference-0.5.0 cssselect2-0.7.0 jedi-0.19.1 numpyro-0.13.2 watermark-2.4.3\n"
          ]
        }
      ],
      "source": [
        "# use 1 thread per chain\n",
        "%env OMP_NUM_THREADS=1\n",
        "\n",
        "!pip install covid19_inference\n",
        "%load_ext autoreload\n",
        "%autoreload 2\n",
        "import pytensor\n",
        "#pytensor.config.mode = \"NUMBA\"\n",
        "import pymc as pm"
      ]
    },
    {
      "cell_type": "markdown",
      "metadata": {
        "id": "9FtxDRZLeKaJ"
      },
      "source": []
    },
    {
      "cell_type": "markdown",
      "metadata": {
        "id": "iX-kpTBVQk5X"
      },
      "source": [
        "\n",
        "\n",
        "# Beispiel für Deutschland\n",
        "Hier verwenden wir JHU-Daten.\n",
        "\n",
        "\n",
        "An dieser Stelle werden zunächst die Voraussetzungen geladen. Diese sollten zuvor installiert worden sein, damit wir diese auch importieren können.\n"
      ]
    },
    {
      "cell_type": "code",
      "execution_count": null,
      "metadata": {
        "id": "acus8X8YQk5Y"
      },
      "outputs": [],
      "source": [
        "import datetime\n",
        "import sys\n",
        "import numpy as np\n",
        "import matplotlib as mpl\n",
        "import matplotlib.pyplot as plt\n",
        "import pytensor.tensor as at\n",
        "import pymc as pm\n",
        "import timeit"
      ]
    },
    {
      "cell_type": "markdown",
      "metadata": {
        "id": "cxXXHta-gi_s"
      },
      "source": [
        "Nun importieren wir das installierte Modul `covid19_inference`"
      ]
    },
    {
      "cell_type": "code",
      "execution_count": null,
      "metadata": {
        "id": "iCvB2HUBQk5Y"
      },
      "outputs": [],
      "source": [
        "\n",
        "try:\n",
        "    import covid19_inference as cov19\n",
        "except ModuleNotFoundError:\n",
        "    sys.path.append(\"../../\")\n",
        "    import covid19_inference as cov19"
      ]
    },
    {
      "cell_type": "markdown",
      "metadata": {
        "id": "SXI8EaROQk5Y"
      },
      "source": [
        "\n",
        "## Datengenerierung\n",
        "\n",
        "Als nächstes wir das Datenset geladen bzw. heruntergeladen. Es gibt insgesamt viele möglichen Download-Ressourcen, jedoch verwenden wir in diesem Fall den von der John Hopkins Universität.\n",
        "[Github-Repository Link für die csv-Datei](https://raw.githubusercontent.com/CSSEGISandData/COVID-19/master/csse_covid_19_data/csse_covid_19_time_series/time_series_covid19_confirmed_global.csv)\n"
      ]
    },
    {
      "cell_type": "code",
      "execution_count": null,
      "metadata": {
        "id": "su3jWZ_fQk5Z"
      },
      "outputs": [],
      "source": [
        "jhu = (\n",
        "    cov19.data_retrieval.JHU()\n",
        ")\n",
        "jhu.download_all_available_data(force_download=False)"
      ]
    },
    {
      "cell_type": "markdown",
      "metadata": {
        "id": "fgUAONEMQk5Z"
      },
      "source": [
        "Wir können auf die Daten nun mithilfe von jhu.daten zugreifen.\n",
        "\n",
        "Wir erstellen erstmal einen intialen Zeitraum vom 10.03.2020 bis zum 16.04.2020\n"
      ]
    },
    {
      "cell_type": "code",
      "execution_count": null,
      "metadata": {
        "id": "1OIHd1R4Qk5Z"
      },
      "outputs": [],
      "source": [
        "bd = datetime.datetime(2020, 3, 10)  # For the date filter\n",
        "ed = datetime.datetime(2020, 6, 10)"
      ]
    },
    {
      "cell_type": "markdown",
      "metadata": {
        "id": "LsFyHaexhIKX"
      },
      "source": [
        "Hier werden die totalen Fallzahlen bzw. neu gemeldeten Fallzahlen aus dem Datensatz gefiltert. Wir geben dabei den Üebrgabeparameter `country=\"Germany\"` an, da wir die Datenanalyse für Deutschland durchführen wollen."
      ]
    },
    {
      "cell_type": "code",
      "execution_count": null,
      "metadata": {
        "id": "KpFI3-pJQk5a"
      },
      "outputs": [],
      "source": [
        "total_cases_obs = jhu.get_total(\n",
        "    country=\"Germany\", data_begin=bd, data_end=ed\n",
        ")\n",
        "new_cases_obs = jhu.get_new(\n",
        "    country=\"Germany\", data_begin=bd, data_end=ed\n",
        ")"
      ]
    },
    {
      "cell_type": "markdown",
      "metadata": {
        "id": "vrjFzgp4Qk5a"
      },
      "source": [
        "\n",
        "\n",
        "## Modellerstellung\n",
        "Um das Modell zu erstellen, werden zunächst einige Parameter gesetzt.\n",
        "\n",
        "\n",
        "*   diff_data_sim\n",
        "*   num_days_forecast\n",
        "\n",
        "\n"
      ]
    },
    {
      "cell_type": "code",
      "execution_count": null,
      "metadata": {
        "id": "IDFOW3ASQk5b"
      },
      "outputs": [],
      "source": [
        "diff_data_sim = 16\n",
        "num_days_forecast = 10"
      ]
    },
    {
      "cell_type": "markdown",
      "metadata": {
        "id": "Ia40Fr3via-X"
      },
      "source": [
        "*   `prior_date_mild_dist_begin`: Wir setzen einen Zeitpunkt fest für den Beginn der ersten politischen Maßnahme\n",
        "*   `prior_date_strong_dist_begin`: Wir setzen einen Zeitpunkt für die nächste politische Maßnahme\n",
        "*   `prior_date_contact_ban_begin`: Wir setzen einen Zeitpunkt für das Einsetzen der ersten Kontaktsperre"
      ]
    },
    {
      "cell_type": "code",
      "execution_count": null,
      "metadata": {
        "id": "naqgTJyYQk5b"
      },
      "outputs": [],
      "source": [
        "# We set the priors for the changepoints here\n",
        "prior_date_mild_dist_begin = datetime.datetime(2020, 3, 9)\n",
        "prior_date_strong_dist_begin = datetime.datetime(2020, 3, 16)\n",
        "prior_date_contact_ban_begin = datetime.datetime(2020, 3, 23)"
      ]
    },
    {
      "cell_type": "markdown",
      "metadata": {
        "id": "XapfO43IixJC"
      },
      "source": [
        "\n",
        "*   `change_points`: Ein Dictionary, das jeweils Einträge für die 3 politischen Maßnahmen enthält. Dazu werden jeweils Parameter gesetzt, wie der Prior für die Ansteckungsrate λ\n",
        "*   pr_mean_date_transient\n",
        "*   pr_sigma_date_transient\n",
        "*   pr_median_lambda\n",
        "*   pr_sigma_lambda"
      ]
    },
    {
      "cell_type": "code",
      "execution_count": null,
      "metadata": {
        "id": "kxgIDXEcQk5b"
      },
      "outputs": [],
      "source": [
        "change_points = [\n",
        "    dict(\n",
        "        pr_mean_date_transient=prior_date_mild_dist_begin,\n",
        "        pr_sigma_date_transient=3,\n",
        "        pr_median_lambda=0.2,\n",
        "        pr_sigma_lambda=1,\n",
        "\n",
        "    ),\n",
        "    dict(\n",
        "        pr_mean_date_transient=prior_date_strong_dist_begin,\n",
        "        pr_sigma_date_transient=1.5,\n",
        "        pr_median_lambda=1 / 8,\n",
        "        pr_sigma_lambda=1,\n",
        "    ),\n",
        "    dict(\n",
        "        pr_mean_date_transient=prior_date_contact_ban_begin,\n",
        "        pr_sigma_date_transient=1.5,\n",
        "        pr_median_lambda=1 / 8 / 2,\n",
        "        pr_sigma_lambda=1,\n",
        "    ),\n",
        "]"
      ]
    },
    {
      "cell_type": "markdown",
      "metadata": {
        "id": "SkUlZ8HgQk5b"
      },
      "source": [
        "*  `params_model:` Ein Dictionary, das verschiedene Parameter enthält. Zum Einen die neu gemeldeten Fallzahlen, aber auch die Länge der Vorhersage sowie die Anzahl der Population\n",
        "*   `pr_delay`: Hier wollen wir den Prior setzen für den Parameter der Meldeverzögerung\n"
      ]
    },
    {
      "cell_type": "code",
      "execution_count": null,
      "metadata": {
        "id": "UmVjiaUaQk5b"
      },
      "outputs": [],
      "source": [
        "params_model = dict(\n",
        "    new_cases_obs=new_cases_obs[:],\n",
        "    data_begin=bd,\n",
        "    fcast_len=num_days_forecast,\n",
        "    diff_data_sim=diff_data_sim,\n",
        "    N_population=4e6,\n",
        ")\n",
        "# Median of the prior for the delay in case reporting, we assume 10 days\n",
        "pr_delay = 10"
      ]
    },
    {
      "cell_type": "markdown",
      "metadata": {
        "id": "TRxxrqgzQk5c"
      },
      "source": [
        "Mit dem zuvor definieren params_model wollen wir nun ein sogenanntes Cov19-Modell erstellen. Dazu initialiseren wir dieses Objekt mit einem Array für die zeitabhängige Infektionsrate λ (`lambda_t_log`). Ferner setzen wir die Priori-Verteilung der Genesungsrate μ. Zudem wird auch `I_begin` durch einen Prior bestimmt.\n",
        "Um das SIR-Modell zu erstellen benötigt es dann die zeitabhängige Infektionsrate (`lambda_t_log`), die Genesungsrate μ und `I_begin`. Wir speichern das SIR-Modell in der Variablen `new_cases`. Diese wird dann verändert mit der `delay`-Funktion, in der wir die Meldungen um einen lognormal Verzögerungswert verändern. Als letztes wird noch der Wochenendeffekt betrachtet. Hier wird die Funktion `week_modulation` auf das SIR-Modell angewandt.\n",
        "Zuletzt wird noch die `student_t_likelihoo`d-Funktion auf das SIR-Modell angewandt.\n"
      ]
    },
    {
      "cell_type": "code",
      "execution_count": null,
      "metadata": {
        "id": "8huHr0CgEOfE"
      },
      "outputs": [],
      "source": [
        "with cov19.model.Cov19Model(**params_model) as this_model:\n",
        "    # Create the an array of the time dependent infection rate lambda\n",
        "    lambda_t_log = cov19.model.lambda_t_with_sigmoids(\n",
        "        pr_median_lambda_0=0.4,\n",
        "        pr_sigma_lambda_0=0.5,\n",
        "        change_points_list=change_points,  # The change point priors we constructed earlier\n",
        "        name_lambda_t=\"lambda_t\",  # Name for the variable in the trace (see later)\n",
        "    )\n",
        "\n",
        "    # set prior distribution for the recovery rate\n",
        "    mu = pm.LogNormal(name=\"mu\", mu=np.log(1 / 8), sigma=0.2)\n",
        "\n",
        "    # This builds a decorrelated prior for I_begin for faster inference.\n",
        "    # It is not necessary to use it, one can simply remove it and use the default argument\n",
        "    # for pr_I_begin in cov19.SIR\n",
        "    I_begin = cov19.model.uncorrelated_prior_I(\n",
        "        lambda_t_log=lambda_t_log,\n",
        "        mu=mu,\n",
        "        pr_median_delay=pr_delay,\n",
        "        name_I_begin=\"I_begin\",\n",
        "        name_I_begin_ratio_log=\"I_begin_ratio_log\",\n",
        "        pr_sigma_I_begin=2,\n",
        "        n_data_points_used=5,\n",
        "    )\n",
        "\n",
        "    # Use lambda_t_log and mu to run the SIR model\n",
        "    new_cases = cov19.model.SIR(\n",
        "        lambda_t_log=lambda_t_log,\n",
        "        mu=mu,\n",
        "        I_begin=I_begin,\n",
        "    )\n",
        "\n",
        "    # Delay the cases by a lognormal reporting delay\n",
        "    new_cases = cov19.model.delay_cases(\n",
        "        cases=new_cases,\n",
        "        delay_kernel=\"lognormal\",\n",
        "        median_delay_kwargs={\n",
        "            \"name\": \"delay\",\n",
        "            \"mu\": pr_delay,\n",
        "            \"sigma\": 0.2,\n",
        "        },\n",
        "    )\n",
        "\n",
        "    # Modulate the inferred cases by a abs(sin(x)) function, to account for weekend effects\n",
        "    # Also adds the \"new_cases\" variable to the trace that has all model features.\n",
        "    new_cases = cov19.model.week_modulation(\n",
        "        cases=new_cases,\n",
        "        week_modulation_type=\"step\",\n",
        "        weekend_factor_kwargs={\n",
        "            \"name\": \"weekend_factor\",\n",
        "            \"mu\": np.log(0.3),\n",
        "            \"sigma\": 0.5,\n",
        "        },\n",
        "        weekend_days=(6, 7),\n",
        "    )\n",
        "    pm.Deterministic(\"new_cases\", new_cases)\n",
        "\n",
        "    # Define the likelihood, uses the new_cases_obs set as model parameter\n",
        "    cov19.model.student_t_likelihood(new_cases)"
      ]
    },
    {
      "cell_type": "markdown",
      "metadata": {
        "id": "Oh7gC_aoQk5c"
      },
      "source": [
        "\n",
        "## MCMC sampling\n",
        "\n",
        "Wir haben nun das Modell gebaut. Jetzt können wir den MCMC-Algorithmus anwenden, um uns Samples für die Verteilungen und den zugrundeliegenden Parameter zu generieren.\n",
        "\n",
        "\n",
        "\n",
        "\n"
      ]
    },
    {
      "cell_type": "markdown",
      "metadata": {
        "id": "_d4C6uWBwGwE"
      },
      "source": [
        "### Erstelle nun erst einmal 7 verschiedene Traces für den Modellvergleich"
      ]
    },
    {
      "cell_type": "code",
      "execution_count": null,
      "metadata": {
        "colab": {
          "base_uri": "https://localhost:8080/"
        },
        "id": "3nOM0f9FDfyu",
        "outputId": "51c6ba90-ac0a-4a7b-8e2c-0f4710c7e597"
      },
      "outputs": [
        {
          "data": {
            "text/html": [
              "\n",
              "<style>\n",
              "    /* Turns off some styling */\n",
              "    progress {\n",
              "        /* gets rid of default border in Firefox and Opera. */\n",
              "        border: none;\n",
              "        /* Needs to be in here for Safari polyfill so background images work as expected. */\n",
              "        background-size: auto;\n",
              "    }\n",
              "    progress:not([value]), progress:not([value])::-webkit-progress-bar {\n",
              "        background: repeating-linear-gradient(45deg, #7e7e7e, #7e7e7e 10px, #5c5c5c 10px, #5c5c5c 20px);\n",
              "    }\n",
              "    .progress-bar-interrupted, .progress-bar-interrupted::-webkit-progress-bar {\n",
              "        background: #F44336;\n",
              "    }\n",
              "</style>\n"
            ],
            "text/plain": [
              "<IPython.core.display.HTML object>"
            ]
          },
          "metadata": {},
          "output_type": "display_data"
        },
        {
          "data": {
            "text/html": [
              "\n",
              "    <div>\n",
              "      <progress value='15877' class='' max='200000' style='width:300px; height:20px; vertical-align: middle;'></progress>\n",
              "      7.94% [15877/200000 00:56&lt;11:00 Average Loss = 858.3]\n",
              "    </div>\n",
              "    "
            ],
            "text/plain": [
              "<IPython.core.display.HTML object>"
            ]
          },
          "metadata": {},
          "output_type": "display_data"
        },
        {
          "data": {
            "text/html": [
              "\n",
              "<style>\n",
              "    /* Turns off some styling */\n",
              "    progress {\n",
              "        /* gets rid of default border in Firefox and Opera. */\n",
              "        border: none;\n",
              "        /* Needs to be in here for Safari polyfill so background images work as expected. */\n",
              "        background-size: auto;\n",
              "    }\n",
              "    progress:not([value]), progress:not([value])::-webkit-progress-bar {\n",
              "        background: repeating-linear-gradient(45deg, #7e7e7e, #7e7e7e 10px, #5c5c5c 10px, #5c5c5c 20px);\n",
              "    }\n",
              "    .progress-bar-interrupted, .progress-bar-interrupted::-webkit-progress-bar {\n",
              "        background: #F44336;\n",
              "    }\n",
              "</style>\n"
            ],
            "text/plain": [
              "<IPython.core.display.HTML object>"
            ]
          },
          "metadata": {},
          "output_type": "display_data"
        },
        {
          "data": {
            "text/html": [
              "\n",
              "    <div>\n",
              "      <progress value='1000' class='' max='1000' style='width:300px; height:20px; vertical-align: middle;'></progress>\n",
              "      100.00% [1000/1000 18:19&lt;00:00 Sampling chain 0, 0 divergences]\n",
              "    </div>\n",
              "    "
            ],
            "text/plain": [
              "<IPython.core.display.HTML object>"
            ]
          },
          "metadata": {},
          "output_type": "display_data"
        },
        {
          "data": {
            "text/html": [
              "\n",
              "<style>\n",
              "    /* Turns off some styling */\n",
              "    progress {\n",
              "        /* gets rid of default border in Firefox and Opera. */\n",
              "        border: none;\n",
              "        /* Needs to be in here for Safari polyfill so background images work as expected. */\n",
              "        background-size: auto;\n",
              "    }\n",
              "    progress:not([value]), progress:not([value])::-webkit-progress-bar {\n",
              "        background: repeating-linear-gradient(45deg, #7e7e7e, #7e7e7e 10px, #5c5c5c 10px, #5c5c5c 20px);\n",
              "    }\n",
              "    .progress-bar-interrupted, .progress-bar-interrupted::-webkit-progress-bar {\n",
              "        background: #F44336;\n",
              "    }\n",
              "</style>\n"
            ],
            "text/plain": [
              "<IPython.core.display.HTML object>"
            ]
          },
          "metadata": {},
          "output_type": "display_data"
        },
        {
          "data": {
            "text/html": [
              "\n",
              "    <div>\n",
              "      <progress value='1000' class='' max='1000' style='width:300px; height:20px; vertical-align: middle;'></progress>\n",
              "      100.00% [1000/1000 17:57&lt;00:00 Sampling chain 1, 0 divergences]\n",
              "    </div>\n",
              "    "
            ],
            "text/plain": [
              "<IPython.core.display.HTML object>"
            ]
          },
          "metadata": {},
          "output_type": "display_data"
        },
        {
          "name": "stdout",
          "output_type": "stream",
          "text": [
            "Die Samples wurden in 2564.830895693 Sekunden hinzugefügt für 500 Tunes und 500 für die Spur trace1 Inference data with groups:\n",
            "\t> posterior\n",
            "\t> sample_stats\n",
            "\t> observed_data hinzugefügt\n"
          ]
        }
      ],
      "source": [
        "start_time = timeit.default_timer()\n",
        "with this_model:\n",
        "  tune = 500\n",
        "  draws = 500\n",
        "  trace1 = pm.sample(tune=500, draws=500, init=\"advi+adapt_diag\", target_accept=0.9)\n",
        "\n",
        "elapsed_time = timeit.default_timer() - start_time\n",
        "print(f\"Die Samples wurden in {elapsed_time} Sekunden hinzugefügt für {tune} Tunes und {draws} für die Spur trace1 {trace1} hinzugefügt\")"
      ]
    },
    {
      "cell_type": "code",
      "execution_count": null,
      "metadata": {
        "colab": {
          "base_uri": "https://localhost:8080/"
        },
        "id": "BQqWhe0YDLqi",
        "outputId": "58bc940e-7064-4f1b-de44-77b337f30ec9"
      },
      "outputs": [
        {
          "data": {
            "text/html": [
              "\n",
              "<style>\n",
              "    /* Turns off some styling */\n",
              "    progress {\n",
              "        /* gets rid of default border in Firefox and Opera. */\n",
              "        border: none;\n",
              "        /* Needs to be in here for Safari polyfill so background images work as expected. */\n",
              "        background-size: auto;\n",
              "    }\n",
              "    progress:not([value]), progress:not([value])::-webkit-progress-bar {\n",
              "        background: repeating-linear-gradient(45deg, #7e7e7e, #7e7e7e 10px, #5c5c5c 10px, #5c5c5c 20px);\n",
              "    }\n",
              "    .progress-bar-interrupted, .progress-bar-interrupted::-webkit-progress-bar {\n",
              "        background: #F44336;\n",
              "    }\n",
              "</style>\n"
            ],
            "text/plain": [
              "<IPython.core.display.HTML object>"
            ]
          },
          "metadata": {},
          "output_type": "display_data"
        },
        {
          "data": {
            "text/html": [
              "\n",
              "    <div>\n",
              "      <progress value='16752' class='' max='200000' style='width:300px; height:20px; vertical-align: middle;'></progress>\n",
              "      8.38% [16752/200000 01:01&lt;11:12 Average Loss = 855.48]\n",
              "    </div>\n",
              "    "
            ],
            "text/plain": [
              "<IPython.core.display.HTML object>"
            ]
          },
          "metadata": {},
          "output_type": "display_data"
        },
        {
          "data": {
            "text/html": [
              "\n",
              "<style>\n",
              "    /* Turns off some styling */\n",
              "    progress {\n",
              "        /* gets rid of default border in Firefox and Opera. */\n",
              "        border: none;\n",
              "        /* Needs to be in here for Safari polyfill so background images work as expected. */\n",
              "        background-size: auto;\n",
              "    }\n",
              "    progress:not([value]), progress:not([value])::-webkit-progress-bar {\n",
              "        background: repeating-linear-gradient(45deg, #7e7e7e, #7e7e7e 10px, #5c5c5c 10px, #5c5c5c 20px);\n",
              "    }\n",
              "    .progress-bar-interrupted, .progress-bar-interrupted::-webkit-progress-bar {\n",
              "        background: #F44336;\n",
              "    }\n",
              "</style>\n"
            ],
            "text/plain": [
              "<IPython.core.display.HTML object>"
            ]
          },
          "metadata": {},
          "output_type": "display_data"
        },
        {
          "data": {
            "text/html": [
              "\n",
              "    <div>\n",
              "      <progress value='600' class='' max='600' style='width:300px; height:20px; vertical-align: middle;'></progress>\n",
              "      100.00% [600/600 13:22&lt;00:00 Sampling chain 0, 0 divergences]\n",
              "    </div>\n",
              "    "
            ],
            "text/plain": [
              "<IPython.core.display.HTML object>"
            ]
          },
          "metadata": {},
          "output_type": "display_data"
        },
        {
          "data": {
            "text/html": [
              "\n",
              "<style>\n",
              "    /* Turns off some styling */\n",
              "    progress {\n",
              "        /* gets rid of default border in Firefox and Opera. */\n",
              "        border: none;\n",
              "        /* Needs to be in here for Safari polyfill so background images work as expected. */\n",
              "        background-size: auto;\n",
              "    }\n",
              "    progress:not([value]), progress:not([value])::-webkit-progress-bar {\n",
              "        background: repeating-linear-gradient(45deg, #7e7e7e, #7e7e7e 10px, #5c5c5c 10px, #5c5c5c 20px);\n",
              "    }\n",
              "    .progress-bar-interrupted, .progress-bar-interrupted::-webkit-progress-bar {\n",
              "        background: #F44336;\n",
              "    }\n",
              "</style>\n"
            ],
            "text/plain": [
              "<IPython.core.display.HTML object>"
            ]
          },
          "metadata": {},
          "output_type": "display_data"
        },
        {
          "data": {
            "text/html": [
              "\n",
              "    <div>\n",
              "      <progress value='600' class='' max='600' style='width:300px; height:20px; vertical-align: middle;'></progress>\n",
              "      100.00% [600/600 13:18&lt;00:00 Sampling chain 1, 0 divergences]\n",
              "    </div>\n",
              "    "
            ],
            "text/plain": [
              "<IPython.core.display.HTML object>"
            ]
          },
          "metadata": {},
          "output_type": "display_data"
        },
        {
          "name": "stdout",
          "output_type": "stream",
          "text": [
            "Die Samples wurden in 1718.737755351 Sekunden hinzugefügt für 100 Tunes und 500 für die Spur trace2 Inference data with groups:\n",
            "\t> posterior\n",
            "\t> sample_stats\n",
            "\t> observed_data hinzugefügt\n"
          ]
        }
      ],
      "source": [
        "start_time = timeit.default_timer()\n",
        "with this_model:\n",
        "  tune = 100\n",
        "  draws = 500\n",
        "  trace2 = pm.sample(tune=100, draws=500, init=\"advi+adapt_diag\", target_accept=0.9)\n",
        "\n",
        "elapsed_time = timeit.default_timer() - start_time\n",
        "print(f\"Die Samples wurden in {elapsed_time} Sekunden hinzugefügt für {tune} Tunes und {draws} für die Spur trace2 {trace2} hinzugefügt\")"
      ]
    },
    {
      "cell_type": "markdown",
      "metadata": {
        "id": "MM_AWLReeFWU"
      },
      "source": [
        "Zunächst wollen wir mit 1000 Vorab-Schritten und 1000 Samples unsere Spur erstellen"
      ]
    },
    {
      "cell_type": "code",
      "execution_count": null,
      "metadata": {
        "colab": {
          "base_uri": "https://localhost:8080/"
        },
        "id": "xdTJycKZQk5c",
        "outputId": "0bb6bca8-71ef-4788-daa0-db66f4a48fb8"
      },
      "outputs": [
        {
          "name": "stderr",
          "output_type": "stream",
          "text": [
            "WARNING:pymc.sampling.mcmc:Only 100 samples in chain.\n"
          ]
        },
        {
          "data": {
            "text/html": [
              "\n",
              "<style>\n",
              "    /* Turns off some styling */\n",
              "    progress {\n",
              "        /* gets rid of default border in Firefox and Opera. */\n",
              "        border: none;\n",
              "        /* Needs to be in here for Safari polyfill so background images work as expected. */\n",
              "        background-size: auto;\n",
              "    }\n",
              "    progress:not([value]), progress:not([value])::-webkit-progress-bar {\n",
              "        background: repeating-linear-gradient(45deg, #7e7e7e, #7e7e7e 10px, #5c5c5c 10px, #5c5c5c 20px);\n",
              "    }\n",
              "    .progress-bar-interrupted, .progress-bar-interrupted::-webkit-progress-bar {\n",
              "        background: #F44336;\n",
              "    }\n",
              "</style>\n"
            ],
            "text/plain": [
              "<IPython.core.display.HTML object>"
            ]
          },
          "metadata": {},
          "output_type": "display_data"
        },
        {
          "data": {
            "text/html": [
              "\n",
              "    <div>\n",
              "      <progress value='18093' class='' max='200000' style='width:300px; height:20px; vertical-align: middle;'></progress>\n",
              "      9.05% [18093/200000 01:05&lt;11:03 Average Loss = 848.74]\n",
              "    </div>\n",
              "    "
            ],
            "text/plain": [
              "<IPython.core.display.HTML object>"
            ]
          },
          "metadata": {},
          "output_type": "display_data"
        },
        {
          "data": {
            "text/html": [
              "\n",
              "<style>\n",
              "    /* Turns off some styling */\n",
              "    progress {\n",
              "        /* gets rid of default border in Firefox and Opera. */\n",
              "        border: none;\n",
              "        /* Needs to be in here for Safari polyfill so background images work as expected. */\n",
              "        background-size: auto;\n",
              "    }\n",
              "    progress:not([value]), progress:not([value])::-webkit-progress-bar {\n",
              "        background: repeating-linear-gradient(45deg, #7e7e7e, #7e7e7e 10px, #5c5c5c 10px, #5c5c5c 20px);\n",
              "    }\n",
              "    .progress-bar-interrupted, .progress-bar-interrupted::-webkit-progress-bar {\n",
              "        background: #F44336;\n",
              "    }\n",
              "</style>\n"
            ],
            "text/plain": [
              "<IPython.core.display.HTML object>"
            ]
          },
          "metadata": {},
          "output_type": "display_data"
        },
        {
          "data": {
            "text/html": [
              "\n",
              "    <div>\n",
              "      <progress value='200' class='' max='200' style='width:300px; height:20px; vertical-align: middle;'></progress>\n",
              "      100.00% [200/200 03:15&lt;00:00 Sampling chain 0, 0 divergences]\n",
              "    </div>\n",
              "    "
            ],
            "text/plain": [
              "<IPython.core.display.HTML object>"
            ]
          },
          "metadata": {},
          "output_type": "display_data"
        },
        {
          "data": {
            "text/html": [
              "\n",
              "<style>\n",
              "    /* Turns off some styling */\n",
              "    progress {\n",
              "        /* gets rid of default border in Firefox and Opera. */\n",
              "        border: none;\n",
              "        /* Needs to be in here for Safari polyfill so background images work as expected. */\n",
              "        background-size: auto;\n",
              "    }\n",
              "    progress:not([value]), progress:not([value])::-webkit-progress-bar {\n",
              "        background: repeating-linear-gradient(45deg, #7e7e7e, #7e7e7e 10px, #5c5c5c 10px, #5c5c5c 20px);\n",
              "    }\n",
              "    .progress-bar-interrupted, .progress-bar-interrupted::-webkit-progress-bar {\n",
              "        background: #F44336;\n",
              "    }\n",
              "</style>\n"
            ],
            "text/plain": [
              "<IPython.core.display.HTML object>"
            ]
          },
          "metadata": {},
          "output_type": "display_data"
        },
        {
          "data": {
            "text/html": [
              "\n",
              "    <div>\n",
              "      <progress value='200' class='' max='200' style='width:300px; height:20px; vertical-align: middle;'></progress>\n",
              "      100.00% [200/200 03:06&lt;00:00 Sampling chain 1, 0 divergences]\n",
              "    </div>\n",
              "    "
            ],
            "text/plain": [
              "<IPython.core.display.HTML object>"
            ]
          },
          "metadata": {},
          "output_type": "display_data"
        },
        {
          "name": "stdout",
          "output_type": "stream",
          "text": [
            "Die Samples wurden in 503.5049709799996 Sekunden hinzugefügt für 100 Tunes und 100 für die Spur trace2 Inference data with groups:\n",
            "\t> posterior\n",
            "\t> sample_stats\n",
            "\t> observed_data hinzugefügt\n"
          ]
        }
      ],
      "source": [
        "start_time = timeit.default_timer()\n",
        "with this_model:\n",
        "  tune = 100\n",
        "  draws = 100\n",
        "  trace3 = pm.sample(tune=100, draws=100, init=\"advi+adapt_diag\", target_accept=0.9)\n",
        "\n",
        "elapsed_time = timeit.default_timer() - start_time\n",
        "print(f\"Die Samples wurden in {elapsed_time} Sekunden hinzugefügt für {tune} Tunes und {draws} für die Spur trace2 {trace3} hinzugefügt\")"
      ]
    },
    {
      "cell_type": "code",
      "execution_count": null,
      "metadata": {
        "colab": {
          "base_uri": "https://localhost:8080/"
        },
        "id": "VkIVGZQqqvFd",
        "outputId": "89fd3db3-7e8f-4afb-859f-7f56a2e14864"
      },
      "outputs": [
        {
          "name": "stderr",
          "output_type": "stream",
          "text": [
            "WARNING:pymc.sampling.mcmc:Only 100 samples in chain.\n"
          ]
        },
        {
          "data": {
            "text/html": [
              "\n",
              "<style>\n",
              "    /* Turns off some styling */\n",
              "    progress {\n",
              "        /* gets rid of default border in Firefox and Opera. */\n",
              "        border: none;\n",
              "        /* Needs to be in here for Safari polyfill so background images work as expected. */\n",
              "        background-size: auto;\n",
              "    }\n",
              "    progress:not([value]), progress:not([value])::-webkit-progress-bar {\n",
              "        background: repeating-linear-gradient(45deg, #7e7e7e, #7e7e7e 10px, #5c5c5c 10px, #5c5c5c 20px);\n",
              "    }\n",
              "    .progress-bar-interrupted, .progress-bar-interrupted::-webkit-progress-bar {\n",
              "        background: #F44336;\n",
              "    }\n",
              "</style>\n"
            ],
            "text/plain": [
              "<IPython.core.display.HTML object>"
            ]
          },
          "metadata": {},
          "output_type": "display_data"
        },
        {
          "data": {
            "text/html": [
              "\n",
              "    <div>\n",
              "      <progress value='8858' class='' max='200000' style='width:300px; height:20px; vertical-align: middle;'></progress>\n",
              "      4.43% [8858/200000 00:31&lt;11:24 Average Loss = 910.08]\n",
              "    </div>\n",
              "    "
            ],
            "text/plain": [
              "<IPython.core.display.HTML object>"
            ]
          },
          "metadata": {},
          "output_type": "display_data"
        },
        {
          "data": {
            "text/html": [
              "\n",
              "<style>\n",
              "    /* Turns off some styling */\n",
              "    progress {\n",
              "        /* gets rid of default border in Firefox and Opera. */\n",
              "        border: none;\n",
              "        /* Needs to be in here for Safari polyfill so background images work as expected. */\n",
              "        background-size: auto;\n",
              "    }\n",
              "    progress:not([value]), progress:not([value])::-webkit-progress-bar {\n",
              "        background: repeating-linear-gradient(45deg, #7e7e7e, #7e7e7e 10px, #5c5c5c 10px, #5c5c5c 20px);\n",
              "    }\n",
              "    .progress-bar-interrupted, .progress-bar-interrupted::-webkit-progress-bar {\n",
              "        background: #F44336;\n",
              "    }\n",
              "</style>\n"
            ],
            "text/plain": [
              "<IPython.core.display.HTML object>"
            ]
          },
          "metadata": {},
          "output_type": "display_data"
        },
        {
          "data": {
            "text/html": [
              "\n",
              "    <div>\n",
              "      <progress value='150' class='' max='150' style='width:300px; height:20px; vertical-align: middle;'></progress>\n",
              "      100.00% [150/150 04:23&lt;00:00 Sampling chain 0, 0 divergences]\n",
              "    </div>\n",
              "    "
            ],
            "text/plain": [
              "<IPython.core.display.HTML object>"
            ]
          },
          "metadata": {},
          "output_type": "display_data"
        },
        {
          "data": {
            "text/html": [
              "\n",
              "<style>\n",
              "    /* Turns off some styling */\n",
              "    progress {\n",
              "        /* gets rid of default border in Firefox and Opera. */\n",
              "        border: none;\n",
              "        /* Needs to be in here for Safari polyfill so background images work as expected. */\n",
              "        background-size: auto;\n",
              "    }\n",
              "    progress:not([value]), progress:not([value])::-webkit-progress-bar {\n",
              "        background: repeating-linear-gradient(45deg, #7e7e7e, #7e7e7e 10px, #5c5c5c 10px, #5c5c5c 20px);\n",
              "    }\n",
              "    .progress-bar-interrupted, .progress-bar-interrupted::-webkit-progress-bar {\n",
              "        background: #F44336;\n",
              "    }\n",
              "</style>\n"
            ],
            "text/plain": [
              "<IPython.core.display.HTML object>"
            ]
          },
          "metadata": {},
          "output_type": "display_data"
        },
        {
          "data": {
            "text/html": [
              "\n",
              "    <div>\n",
              "      <progress value='150' class='' max='150' style='width:300px; height:20px; vertical-align: middle;'></progress>\n",
              "      100.00% [150/150 04:08&lt;00:00 Sampling chain 1, 0 divergences]\n",
              "    </div>\n",
              "    "
            ],
            "text/plain": [
              "<IPython.core.display.HTML object>"
            ]
          },
          "metadata": {},
          "output_type": "display_data"
        },
        {
          "name": "stdout",
          "output_type": "stream",
          "text": [
            "Die Samples wurden in 600.3857243009998 Sekunden hinzugefügt für 50 Tunes und 100 für die Spur trace4 Inference data with groups:\n",
            "\t> posterior\n",
            "\t> sample_stats\n",
            "\t> observed_data hinzugefügt\n"
          ]
        }
      ],
      "source": [
        "start_time = timeit.default_timer()\n",
        "with this_model:\n",
        "  tune = 50\n",
        "  draws = 100\n",
        "  trace4 = pm.sample(tune=50, draws=100, init=\"advi+adapt_diag\", target_accept=0.9)\n",
        "\n",
        "elapsed_time = timeit.default_timer() - start_time\n",
        "print(f\"Die Samples wurden in {elapsed_time} Sekunden hinzugefügt für {tune} Tunes und {draws} für die Spur trace4 {trace4} hinzugefügt\")"
      ]
    },
    {
      "cell_type": "code",
      "execution_count": null,
      "metadata": {
        "colab": {
          "base_uri": "https://localhost:8080/"
        },
        "id": "AZf9CCBnDwT2",
        "outputId": "079c3830-7882-4260-dfc3-d7805c4b501a"
      },
      "outputs": [
        {
          "name": "stderr",
          "output_type": "stream",
          "text": [
            "WARNING:pymc.sampling.mcmc:Only 50 samples in chain.\n"
          ]
        },
        {
          "data": {
            "text/html": [
              "\n",
              "<style>\n",
              "    /* Turns off some styling */\n",
              "    progress {\n",
              "        /* gets rid of default border in Firefox and Opera. */\n",
              "        border: none;\n",
              "        /* Needs to be in here for Safari polyfill so background images work as expected. */\n",
              "        background-size: auto;\n",
              "    }\n",
              "    progress:not([value]), progress:not([value])::-webkit-progress-bar {\n",
              "        background: repeating-linear-gradient(45deg, #7e7e7e, #7e7e7e 10px, #5c5c5c 10px, #5c5c5c 20px);\n",
              "    }\n",
              "    .progress-bar-interrupted, .progress-bar-interrupted::-webkit-progress-bar {\n",
              "        background: #F44336;\n",
              "    }\n",
              "</style>\n"
            ],
            "text/plain": [
              "<IPython.core.display.HTML object>"
            ]
          },
          "metadata": {},
          "output_type": "display_data"
        },
        {
          "data": {
            "text/html": [
              "\n",
              "    <div>\n",
              "      <progress value='15089' class='' max='200000' style='width:300px; height:20px; vertical-align: middle;'></progress>\n",
              "      7.54% [15089/200000 00:54&lt;11:13 Average Loss = 861.7]\n",
              "    </div>\n",
              "    "
            ],
            "text/plain": [
              "<IPython.core.display.HTML object>"
            ]
          },
          "metadata": {},
          "output_type": "display_data"
        },
        {
          "data": {
            "text/html": [
              "\n",
              "<style>\n",
              "    /* Turns off some styling */\n",
              "    progress {\n",
              "        /* gets rid of default border in Firefox and Opera. */\n",
              "        border: none;\n",
              "        /* Needs to be in here for Safari polyfill so background images work as expected. */\n",
              "        background-size: auto;\n",
              "    }\n",
              "    progress:not([value]), progress:not([value])::-webkit-progress-bar {\n",
              "        background: repeating-linear-gradient(45deg, #7e7e7e, #7e7e7e 10px, #5c5c5c 10px, #5c5c5c 20px);\n",
              "    }\n",
              "    .progress-bar-interrupted, .progress-bar-interrupted::-webkit-progress-bar {\n",
              "        background: #F44336;\n",
              "    }\n",
              "</style>\n"
            ],
            "text/plain": [
              "<IPython.core.display.HTML object>"
            ]
          },
          "metadata": {},
          "output_type": "display_data"
        },
        {
          "data": {
            "text/html": [
              "\n",
              "    <div>\n",
              "      <progress value='150' class='' max='150' style='width:300px; height:20px; vertical-align: middle;'></progress>\n",
              "      100.00% [150/150 02:36&lt;00:00 Sampling chain 0, 0 divergences]\n",
              "    </div>\n",
              "    "
            ],
            "text/plain": [
              "<IPython.core.display.HTML object>"
            ]
          },
          "metadata": {},
          "output_type": "display_data"
        },
        {
          "data": {
            "text/html": [
              "\n",
              "<style>\n",
              "    /* Turns off some styling */\n",
              "    progress {\n",
              "        /* gets rid of default border in Firefox and Opera. */\n",
              "        border: none;\n",
              "        /* Needs to be in here for Safari polyfill so background images work as expected. */\n",
              "        background-size: auto;\n",
              "    }\n",
              "    progress:not([value]), progress:not([value])::-webkit-progress-bar {\n",
              "        background: repeating-linear-gradient(45deg, #7e7e7e, #7e7e7e 10px, #5c5c5c 10px, #5c5c5c 20px);\n",
              "    }\n",
              "    .progress-bar-interrupted, .progress-bar-interrupted::-webkit-progress-bar {\n",
              "        background: #F44336;\n",
              "    }\n",
              "</style>\n"
            ],
            "text/plain": [
              "<IPython.core.display.HTML object>"
            ]
          },
          "metadata": {},
          "output_type": "display_data"
        },
        {
          "data": {
            "text/html": [
              "\n",
              "    <div>\n",
              "      <progress value='150' class='' max='150' style='width:300px; height:20px; vertical-align: middle;'></progress>\n",
              "      100.00% [150/150 02:48&lt;00:00 Sampling chain 1, 0 divergences]\n",
              "    </div>\n",
              "    "
            ],
            "text/plain": [
              "<IPython.core.display.HTML object>"
            ]
          },
          "metadata": {},
          "output_type": "display_data"
        },
        {
          "name": "stdout",
          "output_type": "stream",
          "text": [
            "Die Samples wurden in 436.43080476200066 Sekunden hinzugefügt für 100 Tunes und 50 für die Spur trace5 Inference data with groups:\n",
            "\t> posterior\n",
            "\t> sample_stats\n",
            "\t> observed_data hinzugefügt\n"
          ]
        }
      ],
      "source": [
        "start_time = timeit.default_timer()\n",
        "with this_model:\n",
        "  tune = 100\n",
        "  draws = 50\n",
        "  trace5 = pm.sample(tune=100, draws=50, init=\"advi+adapt_diag\", target_accept=0.9)\n",
        "\n",
        "elapsed_time = timeit.default_timer() - start_time\n",
        "print(f\"Die Samples wurden in {elapsed_time} Sekunden hinzugefügt für {tune} Tunes und {draws} für die Spur trace5 {trace5} hinzugefügt\")"
      ]
    },
    {
      "cell_type": "code",
      "execution_count": null,
      "metadata": {
        "colab": {
          "base_uri": "https://localhost:8080/"
        },
        "id": "6mwyomq_D2Ib",
        "outputId": "8d2a6014-5fa8-4845-fddd-c6845368e3bc"
      },
      "outputs": [
        {
          "name": "stderr",
          "output_type": "stream",
          "text": [
            "WARNING:pymc.sampling.mcmc:Only 100 samples in chain.\n"
          ]
        },
        {
          "data": {
            "text/html": [
              "\n",
              "<style>\n",
              "    /* Turns off some styling */\n",
              "    progress {\n",
              "        /* gets rid of default border in Firefox and Opera. */\n",
              "        border: none;\n",
              "        /* Needs to be in here for Safari polyfill so background images work as expected. */\n",
              "        background-size: auto;\n",
              "    }\n",
              "    progress:not([value]), progress:not([value])::-webkit-progress-bar {\n",
              "        background: repeating-linear-gradient(45deg, #7e7e7e, #7e7e7e 10px, #5c5c5c 10px, #5c5c5c 20px);\n",
              "    }\n",
              "    .progress-bar-interrupted, .progress-bar-interrupted::-webkit-progress-bar {\n",
              "        background: #F44336;\n",
              "    }\n",
              "</style>\n"
            ],
            "text/plain": [
              "<IPython.core.display.HTML object>"
            ]
          },
          "metadata": {},
          "output_type": "display_data"
        },
        {
          "data": {
            "text/html": [
              "\n",
              "    <div>\n",
              "      <progress value='11153' class='' max='200000' style='width:300px; height:20px; vertical-align: middle;'></progress>\n",
              "      5.58% [11153/200000 00:39&lt;11:03 Average Loss = 884.06]\n",
              "    </div>\n",
              "    "
            ],
            "text/plain": [
              "<IPython.core.display.HTML object>"
            ]
          },
          "metadata": {},
          "output_type": "display_data"
        },
        {
          "data": {
            "text/html": [
              "\n",
              "<style>\n",
              "    /* Turns off some styling */\n",
              "    progress {\n",
              "        /* gets rid of default border in Firefox and Opera. */\n",
              "        border: none;\n",
              "        /* Needs to be in here for Safari polyfill so background images work as expected. */\n",
              "        background-size: auto;\n",
              "    }\n",
              "    progress:not([value]), progress:not([value])::-webkit-progress-bar {\n",
              "        background: repeating-linear-gradient(45deg, #7e7e7e, #7e7e7e 10px, #5c5c5c 10px, #5c5c5c 20px);\n",
              "    }\n",
              "    .progress-bar-interrupted, .progress-bar-interrupted::-webkit-progress-bar {\n",
              "        background: #F44336;\n",
              "    }\n",
              "</style>\n"
            ],
            "text/plain": [
              "<IPython.core.display.HTML object>"
            ]
          },
          "metadata": {},
          "output_type": "display_data"
        },
        {
          "data": {
            "text/html": [
              "\n",
              "    <div>\n",
              "      <progress value='150' class='' max='150' style='width:300px; height:20px; vertical-align: middle;'></progress>\n",
              "      100.00% [150/150 04:03&lt;00:00 Sampling chain 0, 0 divergences]\n",
              "    </div>\n",
              "    "
            ],
            "text/plain": [
              "<IPython.core.display.HTML object>"
            ]
          },
          "metadata": {},
          "output_type": "display_data"
        },
        {
          "data": {
            "text/html": [
              "\n",
              "<style>\n",
              "    /* Turns off some styling */\n",
              "    progress {\n",
              "        /* gets rid of default border in Firefox and Opera. */\n",
              "        border: none;\n",
              "        /* Needs to be in here for Safari polyfill so background images work as expected. */\n",
              "        background-size: auto;\n",
              "    }\n",
              "    progress:not([value]), progress:not([value])::-webkit-progress-bar {\n",
              "        background: repeating-linear-gradient(45deg, #7e7e7e, #7e7e7e 10px, #5c5c5c 10px, #5c5c5c 20px);\n",
              "    }\n",
              "    .progress-bar-interrupted, .progress-bar-interrupted::-webkit-progress-bar {\n",
              "        background: #F44336;\n",
              "    }\n",
              "</style>\n"
            ],
            "text/plain": [
              "<IPython.core.display.HTML object>"
            ]
          },
          "metadata": {},
          "output_type": "display_data"
        },
        {
          "data": {
            "text/html": [
              "\n",
              "    <div>\n",
              "      <progress value='150' class='' max='150' style='width:300px; height:20px; vertical-align: middle;'></progress>\n",
              "      100.00% [150/150 03:22&lt;00:00 Sampling chain 1, 0 divergences]\n",
              "    </div>\n",
              "    "
            ],
            "text/plain": [
              "<IPython.core.display.HTML object>"
            ]
          },
          "metadata": {},
          "output_type": "display_data"
        },
        {
          "name": "stdout",
          "output_type": "stream",
          "text": [
            "Die Samples wurden in 543.2225444570004 Sekunden hinzugefügt für 50 Tunes und 100 für die Spur trace6 Inference data with groups:\n",
            "\t> posterior\n",
            "\t> sample_stats\n",
            "\t> observed_data hinzugefügt\n"
          ]
        }
      ],
      "source": [
        "start_time = timeit.default_timer()\n",
        "with this_model:\n",
        "  tune = 50\n",
        "  draws = 100\n",
        "  trace6 = pm.sample(tune=50, draws=100, init=\"advi+adapt_diag\", target_accept=0.9)\n",
        "\n",
        "elapsed_time = timeit.default_timer() - start_time\n",
        "print(f\"Die Samples wurden in {elapsed_time} Sekunden hinzugefügt für {tune} Tunes und {draws} für die Spur trace6 {trace6} hinzugefügt\")"
      ]
    },
    {
      "cell_type": "markdown",
      "metadata": {
        "id": "51w9_HGdeLLW"
      },
      "source": [
        "Danach erstellen wir wieder eine Spur, aber dieses Mal mit 500 Samples, aber mit 1000 Vorab-Schritten"
      ]
    },
    {
      "cell_type": "code",
      "execution_count": null,
      "metadata": {
        "colab": {
          "base_uri": "https://localhost:8080/"
        },
        "id": "94o8lpgKIAXl",
        "outputId": "a65fc135-0f81-41ce-8522-d3b7150450c7"
      },
      "outputs": [
        {
          "name": "stderr",
          "output_type": "stream",
          "text": [
            "WARNING:pymc.sampling.mcmc:Only 50 samples in chain.\n"
          ]
        },
        {
          "data": {
            "text/html": [
              "\n",
              "<style>\n",
              "    /* Turns off some styling */\n",
              "    progress {\n",
              "        /* gets rid of default border in Firefox and Opera. */\n",
              "        border: none;\n",
              "        /* Needs to be in here for Safari polyfill so background images work as expected. */\n",
              "        background-size: auto;\n",
              "    }\n",
              "    progress:not([value]), progress:not([value])::-webkit-progress-bar {\n",
              "        background: repeating-linear-gradient(45deg, #7e7e7e, #7e7e7e 10px, #5c5c5c 10px, #5c5c5c 20px);\n",
              "    }\n",
              "    .progress-bar-interrupted, .progress-bar-interrupted::-webkit-progress-bar {\n",
              "        background: #F44336;\n",
              "    }\n",
              "</style>\n"
            ],
            "text/plain": [
              "<IPython.core.display.HTML object>"
            ]
          },
          "metadata": {},
          "output_type": "display_data"
        },
        {
          "data": {
            "text/html": [
              "\n",
              "    <div>\n",
              "      <progress value='19854' class='' max='200000' style='width:300px; height:20px; vertical-align: middle;'></progress>\n",
              "      9.93% [19854/200000 01:13&lt;11:08 Average Loss = 841.85]\n",
              "    </div>\n",
              "    "
            ],
            "text/plain": [
              "<IPython.core.display.HTML object>"
            ]
          },
          "metadata": {},
          "output_type": "display_data"
        },
        {
          "data": {
            "text/html": [
              "\n",
              "<style>\n",
              "    /* Turns off some styling */\n",
              "    progress {\n",
              "        /* gets rid of default border in Firefox and Opera. */\n",
              "        border: none;\n",
              "        /* Needs to be in here for Safari polyfill so background images work as expected. */\n",
              "        background-size: auto;\n",
              "    }\n",
              "    progress:not([value]), progress:not([value])::-webkit-progress-bar {\n",
              "        background: repeating-linear-gradient(45deg, #7e7e7e, #7e7e7e 10px, #5c5c5c 10px, #5c5c5c 20px);\n",
              "    }\n",
              "    .progress-bar-interrupted, .progress-bar-interrupted::-webkit-progress-bar {\n",
              "        background: #F44336;\n",
              "    }\n",
              "</style>\n"
            ],
            "text/plain": [
              "<IPython.core.display.HTML object>"
            ]
          },
          "metadata": {},
          "output_type": "display_data"
        },
        {
          "data": {
            "text/html": [
              "\n",
              "    <div>\n",
              "      <progress value='100' class='' max='100' style='width:300px; height:20px; vertical-align: middle;'></progress>\n",
              "      100.00% [100/100 01:42&lt;00:00 Sampling chain 0, 0 divergences]\n",
              "    </div>\n",
              "    "
            ],
            "text/plain": [
              "<IPython.core.display.HTML object>"
            ]
          },
          "metadata": {},
          "output_type": "display_data"
        },
        {
          "data": {
            "text/html": [
              "\n",
              "<style>\n",
              "    /* Turns off some styling */\n",
              "    progress {\n",
              "        /* gets rid of default border in Firefox and Opera. */\n",
              "        border: none;\n",
              "        /* Needs to be in here for Safari polyfill so background images work as expected. */\n",
              "        background-size: auto;\n",
              "    }\n",
              "    progress:not([value]), progress:not([value])::-webkit-progress-bar {\n",
              "        background: repeating-linear-gradient(45deg, #7e7e7e, #7e7e7e 10px, #5c5c5c 10px, #5c5c5c 20px);\n",
              "    }\n",
              "    .progress-bar-interrupted, .progress-bar-interrupted::-webkit-progress-bar {\n",
              "        background: #F44336;\n",
              "    }\n",
              "</style>\n"
            ],
            "text/plain": [
              "<IPython.core.display.HTML object>"
            ]
          },
          "metadata": {},
          "output_type": "display_data"
        },
        {
          "data": {
            "text/html": [
              "\n",
              "    <div>\n",
              "      <progress value='100' class='' max='100' style='width:300px; height:20px; vertical-align: middle;'></progress>\n",
              "      100.00% [100/100 01:43&lt;00:00 Sampling chain 1, 0 divergences]\n",
              "    </div>\n",
              "    "
            ],
            "text/plain": [
              "<IPython.core.display.HTML object>"
            ]
          },
          "metadata": {},
          "output_type": "display_data"
        },
        {
          "name": "stdout",
          "output_type": "stream",
          "text": [
            "Die Samples wurden in 338.1356748369999 Sekunden hinzugefügt für 50 Tunes und 50 für die Spur trace7 Inference data with groups:\n",
            "\t> posterior\n",
            "\t> sample_stats\n",
            "\t> observed_data hinzugefügt\n"
          ]
        }
      ],
      "source": [
        "start_time = timeit.default_timer()\n",
        "with this_model:\n",
        "  tune = 50\n",
        "  draws = 50\n",
        "  trace7 = pm.sample(tune=50, draws=50, init=\"advi+adapt_diag\", target_accept=0.9)\n",
        "\n",
        "elapsed_time = timeit.default_timer() - start_time\n",
        "print(f\"Die Samples wurden in {elapsed_time} Sekunden hinzugefügt für {tune} Tunes und {draws} für die Spur trace7 {trace7} hinzugefügt\")"
      ]
    },
    {
      "cell_type": "markdown",
      "metadata": {
        "id": "gRDE1zc_jOS0"
      },
      "source": [
        "Wir lassen uns für jede Spur zunächst einmal den traceplot anzeigen."
      ]
    },
    {
      "cell_type": "markdown",
      "metadata": {
        "id": "_qliy_UZeaMy"
      },
      "source": [
        "Diese beiden Modelle wollen wir zunächst einmal vergleichen."
      ]
    },
    {
      "cell_type": "markdown",
      "metadata": {
        "id": "TLwbceHMwdDO"
      },
      "source": [
        "### Berechne pro Spur den NMSE"
      ]
    },
    {
      "cell_type": "code",
      "execution_count": null,
      "metadata": {
        "colab": {
          "base_uri": "https://localhost:8080/"
        },
        "id": "NlrZ3YX4wgPf",
        "outputId": "6f8092c5-a8eb-4d48-916c-c0a56e61e40b"
      },
      "outputs": [
        {
          "name": "stdout",
          "output_type": "stream",
          "text": [
            "Varianz der neu beobachteten Fälle: 3228203.0352968676\n",
            "Trace trace1:\n",
            "Mean Squared Error: 4636270.585080419\n",
            "Normalized Mean Squared Error: 1.4361768867657558\n",
            "\n",
            "Trace trace2:\n",
            "Mean Squared Error: 4658030.6352684535\n",
            "Normalized Mean Squared Error: 1.4429174944506233\n",
            "\n",
            "Trace trace3:\n",
            "Mean Squared Error: 4662954.130216008\n",
            "Normalized Mean Squared Error: 1.4444426447877372\n",
            "\n",
            "Trace trace4:\n",
            "Mean Squared Error: 4660342.025519246\n",
            "Normalized Mean Squared Error: 1.4436334934833732\n",
            "\n",
            "Trace trace5:\n",
            "Mean Squared Error: 4651650.327702687\n",
            "Normalized Mean Squared Error: 1.440941067473756\n",
            "\n",
            "Trace trace6:\n",
            "Mean Squared Error: 4665962.400133395\n",
            "Normalized Mean Squared Error: 1.445374516136749\n",
            "\n",
            "Trace trace7:\n",
            "Mean Squared Error: 4620760.759539642\n",
            "Normalized Mean Squared Error: 1.4313724102903937\n",
            "\n"
          ]
        },
        {
          "data": {
            "text/plain": [
              "({'trace1': 4636270.585080419,\n",
              "  'trace2': 4658030.6352684535,\n",
              "  'trace3': 4662954.130216008,\n",
              "  'trace4': 4660342.025519246,\n",
              "  'trace5': 4651650.327702687,\n",
              "  'trace6': 4665962.400133395,\n",
              "  'trace7': 4620760.759539642},\n",
              " {'trace1': 1.4361768867657558,\n",
              "  'trace2': 1.4429174944506233,\n",
              "  'trace3': 1.4444426447877372,\n",
              "  'trace4': 1.4436334934833732,\n",
              "  'trace5': 1.440941067473756,\n",
              "  'trace6': 1.445374516136749,\n",
              "  'trace7': 1.4313724102903937})"
            ]
          },
          "execution_count": 19,
          "metadata": {},
          "output_type": "execute_result"
        }
      ],
      "source": [
        "# Beobachtete und vorhergesagte Fälle für jeden Trace\n",
        "observed_cases = new_cases_obs\n",
        "predicted_cases_traces = {\n",
        "    \"trace1\": trace1.posterior[\"new_cases\"].mean(dim=(\"chain\", \"draw\")).values[:len(new_cases_obs)],\n",
        "    \"trace2\": trace2.posterior[\"new_cases\"].mean(dim=(\"chain\", \"draw\")).values[:len(new_cases_obs)],\n",
        "    \"trace3\": trace3.posterior[\"new_cases\"].mean(dim=(\"chain\", \"draw\")).values[:len(new_cases_obs)],\n",
        "    \"trace4\": trace4.posterior[\"new_cases\"].mean(dim=(\"chain\", \"draw\")).values[:len(new_cases_obs)],\n",
        "    \"trace5\": trace5.posterior[\"new_cases\"].mean(dim=(\"chain\", \"draw\")).values[:len(new_cases_obs)],\n",
        "    \"trace6\": trace6.posterior[\"new_cases\"].mean(dim=(\"chain\", \"draw\")).values[:len(new_cases_obs)],\n",
        "    \"trace7\": trace7.posterior[\"new_cases\"].mean(dim=(\"chain\", \"draw\")).values[:len(new_cases_obs)],\n",
        "}\n",
        "\n",
        "# Varianz der beobachteten Fälle\n",
        "variance_observed = observed_cases.var()\n",
        "print(\"Varianz der neu beobachteten Fälle:\", variance_observed)\n",
        "\n",
        "# Berechne den Mean Squared Error (MSE) und den Normalized Mean Squared Error (NMSE) für jeden Trace\n",
        "mse_values = {}\n",
        "nmse_values = {}\n",
        "\n",
        "for trace_name, predicted_cases in predicted_cases_traces.items():\n",
        "    # Berechne die quadratischen Fehler\n",
        "    squared_errors = (observed_cases - predicted_cases)**2\n",
        "\n",
        "    # Berechne den Durchschnitt der quadratischen Fehler (MSE)\n",
        "    mse = squared_errors.mean()\n",
        "    mse_values[trace_name] = mse\n",
        "\n",
        "    # Berechne den Normalized Mean Squared Error (NMSE)\n",
        "    nmse = mse / variance_observed\n",
        "    nmse_values[trace_name] = nmse\n",
        "\n",
        "    print(f\"Trace {trace_name}:\")\n",
        "    print(\"Mean Squared Error:\", mse)\n",
        "    print(\"Normalized Mean Squared Error:\", nmse)\n",
        "    print()\n",
        "\n",
        "# Rückgabe der berechneten Werte, falls sie weiterverwendet werden sollen\n",
        "mse_values, nmse_values"
      ]
    },
    {
      "cell_type": "code",
      "execution_count": null,
      "metadata": {
        "colab": {
          "base_uri": "https://localhost:8080/",
          "height": 564
        },
        "id": "kM-4RWixCXzm",
        "outputId": "9539648b-2e08-4da3-bc49-14655e4324e9"
      },
      "outputs": [
        {
          "data": {
            "image/png": "[encoded data removed]",
            "text/plain": [
              "<Figure size 1000x600 with 1 Axes>"
            ]
          },
          "metadata": {},
          "output_type": "display_data"
        }
      ],
      "source": [
        "import matplotlib.pyplot as plt\n",
        "\n",
        "# Ihre berechneten NMSE-Werte\n",
        "nmse_values = {\n",
        "    \"trace1\": 1.440265,\n",
        "    \"trace2\": 1.440996,\n",
        "    \"trace3\": 1.453841,\n",
        "    \"trace4\": 1.436889,\n",
        "    \"trace5\": 1.441595,\n",
        "    \"trace6\": 1.444795,\n",
        "    \"trace7\": 1.441095,\n",
        "}\n",
        "\n",
        "# Plotten Sie die NMSE-Werte\n",
        "trace_names = list(nmse_values.keys())\n",
        "nmse_scores = list(nmse_values.values())\n",
        "\n",
        "plt.figure(figsize=(10, 6))\n",
        "plt.bar(trace_names, nmse_scores, color='blue')\n",
        "plt.title('Normalized Mean Squared Error (NMSE) für jeden Trace')\n",
        "plt.xlabel('Trace')\n",
        "plt.ylabel('NMSE')\n",
        "plt.ylim(0, max(nmse_scores) + 0.001)  # Einstellen der y-Achsenbegrenzung\n",
        "\n",
        "# Finden Sie den Trace mit dem niedrigsten NMSE-Wert\n",
        "best_trace_name = min(nmse_values, key=nmse_values.get)\n",
        "best_trace_value = nmse_values[best_trace_name]\n",
        "\n",
        "# Hinzufügen einer Linie für den niedrigsten NMSE-Wert\n",
        "plt.axhline(best_trace_value, color='red', linestyle='dashed', linewidth=2, label=f'Best Trace ({best_trace_name})')\n",
        "\n",
        "plt.legend()  # Anzeigen der Legende\n",
        "\n",
        "plt.show()"
      ]
    },
    {
      "cell_type": "markdown",
      "metadata": {
        "id": "1SrV3b3JvbK5"
      },
      "source": [
        "### Berechne pro Spur den Log-Likelihood\n",
        "\n"
      ]
    },
    {
      "cell_type": "code",
      "execution_count": null,
      "metadata": {
        "colab": {
          "base_uri": "https://localhost:8080/",
          "height": 279
        },
        "id": "Gznz1B3delbd",
        "outputId": "f4389f9c-93c5-4580-a9f8-fee92a263dea"
      },
      "outputs": [
        {
          "data": {
            "text/html": [
              "\n",
              "<style>\n",
              "    /* Turns off some styling */\n",
              "    progress {\n",
              "        /* gets rid of default border in Firefox and Opera. */\n",
              "        border: none;\n",
              "        /* Needs to be in here for Safari polyfill so background images work as expected. */\n",
              "        background-size: auto;\n",
              "    }\n",
              "    progress:not([value]), progress:not([value])::-webkit-progress-bar {\n",
              "        background: repeating-linear-gradient(45deg, #7e7e7e, #7e7e7e 10px, #5c5c5c 10px, #5c5c5c 20px);\n",
              "    }\n",
              "    .progress-bar-interrupted, .progress-bar-interrupted::-webkit-progress-bar {\n",
              "        background: #F44336;\n",
              "    }\n",
              "</style>\n"
            ],
            "text/plain": [
              "<IPython.core.display.HTML object>"
            ]
          },
          "metadata": {},
          "output_type": "display_data"
        },
        {
          "data": {
            "text/html": [
              "\n",
              "    <div>\n",
              "      <progress value='1000' class='' max='1000' style='width:300px; height:20px; vertical-align: middle;'></progress>\n",
              "      100.00% [1000/1000 00:01&lt;00:00]\n",
              "    </div>\n",
              "    "
            ],
            "text/plain": [
              "<IPython.core.display.HTML object>"
            ]
          },
          "metadata": {},
          "output_type": "display_data"
        },
        {
          "name": "stdout",
          "output_type": "stream",
          "text": [
            "trace1-Log-Likelihood erfolgreich\n"
          ]
        },
        {
          "data": {
            "text/html": [
              "\n",
              "<style>\n",
              "    /* Turns off some styling */\n",
              "    progress {\n",
              "        /* gets rid of default border in Firefox and Opera. */\n",
              "        border: none;\n",
              "        /* Needs to be in here for Safari polyfill so background images work as expected. */\n",
              "        background-size: auto;\n",
              "    }\n",
              "    progress:not([value]), progress:not([value])::-webkit-progress-bar {\n",
              "        background: repeating-linear-gradient(45deg, #7e7e7e, #7e7e7e 10px, #5c5c5c 10px, #5c5c5c 20px);\n",
              "    }\n",
              "    .progress-bar-interrupted, .progress-bar-interrupted::-webkit-progress-bar {\n",
              "        background: #F44336;\n",
              "    }\n",
              "</style>\n"
            ],
            "text/plain": [
              "<IPython.core.display.HTML object>"
            ]
          },
          "metadata": {},
          "output_type": "display_data"
        },
        {
          "data": {
            "text/html": [
              "\n",
              "    <div>\n",
              "      <progress value='1000' class='' max='1000' style='width:300px; height:20px; vertical-align: middle;'></progress>\n",
              "      100.00% [1000/1000 00:02&lt;00:00]\n",
              "    </div>\n",
              "    "
            ],
            "text/plain": [
              "<IPython.core.display.HTML object>"
            ]
          },
          "metadata": {},
          "output_type": "display_data"
        },
        {
          "name": "stdout",
          "output_type": "stream",
          "text": [
            "trace2-Log-Likelihood erfolgreich\n"
          ]
        },
        {
          "data": {
            "text/html": [
              "\n",
              "<style>\n",
              "    /* Turns off some styling */\n",
              "    progress {\n",
              "        /* gets rid of default border in Firefox and Opera. */\n",
              "        border: none;\n",
              "        /* Needs to be in here for Safari polyfill so background images work as expected. */\n",
              "        background-size: auto;\n",
              "    }\n",
              "    progress:not([value]), progress:not([value])::-webkit-progress-bar {\n",
              "        background: repeating-linear-gradient(45deg, #7e7e7e, #7e7e7e 10px, #5c5c5c 10px, #5c5c5c 20px);\n",
              "    }\n",
              "    .progress-bar-interrupted, .progress-bar-interrupted::-webkit-progress-bar {\n",
              "        background: #F44336;\n",
              "    }\n",
              "</style>\n"
            ],
            "text/plain": [
              "<IPython.core.display.HTML object>"
            ]
          },
          "metadata": {},
          "output_type": "display_data"
        },
        {
          "data": {
            "text/html": [
              "\n",
              "    <div>\n",
              "      <progress value='200' class='' max='200' style='width:300px; height:20px; vertical-align: middle;'></progress>\n",
              "      100.00% [200/200 00:00&lt;00:00]\n",
              "    </div>\n",
              "    "
            ],
            "text/plain": [
              "<IPython.core.display.HTML object>"
            ]
          },
          "metadata": {},
          "output_type": "display_data"
        },
        {
          "name": "stdout",
          "output_type": "stream",
          "text": [
            "trace3-Log-Likelihood erfolgreich\n"
          ]
        },
        {
          "data": {
            "text/html": [
              "\n",
              "<style>\n",
              "    /* Turns off some styling */\n",
              "    progress {\n",
              "        /* gets rid of default border in Firefox and Opera. */\n",
              "        border: none;\n",
              "        /* Needs to be in here for Safari polyfill so background images work as expected. */\n",
              "        background-size: auto;\n",
              "    }\n",
              "    progress:not([value]), progress:not([value])::-webkit-progress-bar {\n",
              "        background: repeating-linear-gradient(45deg, #7e7e7e, #7e7e7e 10px, #5c5c5c 10px, #5c5c5c 20px);\n",
              "    }\n",
              "    .progress-bar-interrupted, .progress-bar-interrupted::-webkit-progress-bar {\n",
              "        background: #F44336;\n",
              "    }\n",
              "</style>\n"
            ],
            "text/plain": [
              "<IPython.core.display.HTML object>"
            ]
          },
          "metadata": {},
          "output_type": "display_data"
        },
        {
          "data": {
            "text/html": [
              "\n",
              "    <div>\n",
              "      <progress value='200' class='' max='200' style='width:300px; height:20px; vertical-align: middle;'></progress>\n",
              "      100.00% [200/200 00:00&lt;00:00]\n",
              "    </div>\n",
              "    "
            ],
            "text/plain": [
              "<IPython.core.display.HTML object>"
            ]
          },
          "metadata": {},
          "output_type": "display_data"
        },
        {
          "name": "stdout",
          "output_type": "stream",
          "text": [
            "trace4-Log-Likelihood erfolgreich\n"
          ]
        },
        {
          "data": {
            "text/html": [
              "\n",
              "<style>\n",
              "    /* Turns off some styling */\n",
              "    progress {\n",
              "        /* gets rid of default border in Firefox and Opera. */\n",
              "        border: none;\n",
              "        /* Needs to be in here for Safari polyfill so background images work as expected. */\n",
              "        background-size: auto;\n",
              "    }\n",
              "    progress:not([value]), progress:not([value])::-webkit-progress-bar {\n",
              "        background: repeating-linear-gradient(45deg, #7e7e7e, #7e7e7e 10px, #5c5c5c 10px, #5c5c5c 20px);\n",
              "    }\n",
              "    .progress-bar-interrupted, .progress-bar-interrupted::-webkit-progress-bar {\n",
              "        background: #F44336;\n",
              "    }\n",
              "</style>\n"
            ],
            "text/plain": [
              "<IPython.core.display.HTML object>"
            ]
          },
          "metadata": {},
          "output_type": "display_data"
        },
        {
          "data": {
            "text/html": [
              "\n",
              "    <div>\n",
              "      <progress value='100' class='' max='100' style='width:300px; height:20px; vertical-align: middle;'></progress>\n",
              "      100.00% [100/100 00:00&lt;00:00]\n",
              "    </div>\n",
              "    "
            ],
            "text/plain": [
              "<IPython.core.display.HTML object>"
            ]
          },
          "metadata": {},
          "output_type": "display_data"
        },
        {
          "name": "stdout",
          "output_type": "stream",
          "text": [
            "trace5-Log-Likelihood erfolgreich\n"
          ]
        },
        {
          "data": {
            "text/html": [
              "\n",
              "<style>\n",
              "    /* Turns off some styling */\n",
              "    progress {\n",
              "        /* gets rid of default border in Firefox and Opera. */\n",
              "        border: none;\n",
              "        /* Needs to be in here for Safari polyfill so background images work as expected. */\n",
              "        background-size: auto;\n",
              "    }\n",
              "    progress:not([value]), progress:not([value])::-webkit-progress-bar {\n",
              "        background: repeating-linear-gradient(45deg, #7e7e7e, #7e7e7e 10px, #5c5c5c 10px, #5c5c5c 20px);\n",
              "    }\n",
              "    .progress-bar-interrupted, .progress-bar-interrupted::-webkit-progress-bar {\n",
              "        background: #F44336;\n",
              "    }\n",
              "</style>\n"
            ],
            "text/plain": [
              "<IPython.core.display.HTML object>"
            ]
          },
          "metadata": {},
          "output_type": "display_data"
        },
        {
          "data": {
            "text/html": [
              "\n",
              "    <div>\n",
              "      <progress value='200' class='' max='200' style='width:300px; height:20px; vertical-align: middle;'></progress>\n",
              "      100.00% [200/200 00:00&lt;00:00]\n",
              "    </div>\n",
              "    "
            ],
            "text/plain": [
              "<IPython.core.display.HTML object>"
            ]
          },
          "metadata": {},
          "output_type": "display_data"
        },
        {
          "name": "stdout",
          "output_type": "stream",
          "text": [
            "trace6-Log-Likelihood erfolgreich\n"
          ]
        },
        {
          "data": {
            "text/html": [
              "\n",
              "<style>\n",
              "    /* Turns off some styling */\n",
              "    progress {\n",
              "        /* gets rid of default border in Firefox and Opera. */\n",
              "        border: none;\n",
              "        /* Needs to be in here for Safari polyfill so background images work as expected. */\n",
              "        background-size: auto;\n",
              "    }\n",
              "    progress:not([value]), progress:not([value])::-webkit-progress-bar {\n",
              "        background: repeating-linear-gradient(45deg, #7e7e7e, #7e7e7e 10px, #5c5c5c 10px, #5c5c5c 20px);\n",
              "    }\n",
              "    .progress-bar-interrupted, .progress-bar-interrupted::-webkit-progress-bar {\n",
              "        background: #F44336;\n",
              "    }\n",
              "</style>\n"
            ],
            "text/plain": [
              "<IPython.core.display.HTML object>"
            ]
          },
          "metadata": {},
          "output_type": "display_data"
        },
        {
          "data": {
            "text/html": [
              "\n",
              "    <div>\n",
              "      <progress value='100' class='' max='100' style='width:300px; height:20px; vertical-align: middle;'></progress>\n",
              "      100.00% [100/100 00:00&lt;00:00]\n",
              "    </div>\n",
              "    "
            ],
            "text/plain": [
              "<IPython.core.display.HTML object>"
            ]
          },
          "metadata": {},
          "output_type": "display_data"
        },
        {
          "name": "stdout",
          "output_type": "stream",
          "text": [
            "trace7-Log-Likelihood erfolgreich\n"
          ]
        }
      ],
      "source": [
        "with this_model:\n",
        "    pm.compute_log_likelihood(trace1)\n",
        "    print(\"trace1-Log-Likelihood erfolgreich\")\n",
        "with this_model:\n",
        "    pm.compute_log_likelihood(trace2)\n",
        "    print(\"trace2-Log-Likelihood erfolgreich\")\n",
        "with this_model:\n",
        "    pm.compute_log_likelihood(trace3)\n",
        "    print(\"trace3-Log-Likelihood erfolgreich\")\n",
        "with this_model:\n",
        "    pm.compute_log_likelihood(trace4)\n",
        "    print(\"trace4-Log-Likelihood erfolgreich\")\n",
        "with this_model:\n",
        "    pm.compute_log_likelihood(trace5)\n",
        "    print(\"trace5-Log-Likelihood erfolgreich\")\n",
        "with this_model:\n",
        "    pm.compute_log_likelihood(trace6)\n",
        "    print(\"trace6-Log-Likelihood erfolgreich\")\n",
        "with this_model:\n",
        "    pm.compute_log_likelihood(trace7)\n",
        "    print(\"trace7-Log-Likelihood erfolgreich\")"
      ]
    },
    {
      "cell_type": "markdown",
      "metadata": {
        "id": "V9wuTky2exv1"
      },
      "source": [
        "### Als nächstes wird der LOO-Score jeweils angezeigt."
      ]
    },
    {
      "cell_type": "code",
      "execution_count": null,
      "metadata": {
        "colab": {
          "base_uri": "https://localhost:8080/"
        },
        "id": "zON4CJGme0V0",
        "outputId": "10917105-2996-41b6-8534-c5d4b384d551"
      },
      "outputs": [
        {
          "name": "stderr",
          "output_type": "stream",
          "text": [
            "/usr/local/lib/python3.10/dist-packages/arviz/utils.py:184: NumbaDeprecationWarning: The 'nopython' keyword argument was not supplied to the 'numba.jit' decorator. The implicit default value for this argument is currently False, but it will be changed to True in Numba 0.59.0. See https://numba.readthedocs.io/en/stable/reference/deprecation.html#deprecation-of-object-mode-fall-back-behaviour-when-using-jit for details.\n",
            "  numba_fn = numba.jit(**self.kwargs)(self.function)\n",
            "/usr/local/lib/python3.10/dist-packages/arviz/utils.py:184: NumbaDeprecationWarning: The 'nopython' keyword argument was not supplied to the 'numba.jit' decorator. The implicit default value for this argument is currently False, but it will be changed to True in Numba 0.59.0. See https://numba.readthedocs.io/en/stable/reference/deprecation.html#deprecation-of-object-mode-fall-back-behaviour-when-using-jit for details.\n",
            "  numba_fn = numba.jit(**self.kwargs)(self.function)\n"
          ]
        },
        {
          "data": {
            "text/plain": [
              "Computed from 1000 posterior samples and 93 observations log-likelihood matrix.\n",
              "\n",
              "         Estimate       SE\n",
              "elpd_loo  -696.18     9.46\n",
              "p_loo        7.80        -\n",
              "------\n",
              "\n",
              "Pareto k diagnostic values:\n",
              "                         Count   Pct.\n",
              "(-Inf, 0.5]   (good)       93  100.0%\n",
              " (0.5, 0.7]   (ok)          0    0.0%\n",
              "   (0.7, 1]   (bad)         0    0.0%\n",
              "   (1, Inf)   (very bad)    0    0.0%"
            ]
          },
          "execution_count": 26,
          "metadata": {},
          "output_type": "execute_result"
        }
      ],
      "source": [
        "import arviz as az\n",
        "model_loo1 = az.loo(trace1)\n",
        "model_loo1\n"
      ]
    },
    {
      "cell_type": "code",
      "execution_count": null,
      "metadata": {
        "colab": {
          "base_uri": "https://localhost:8080/"
        },
        "id": "179-XY0uv6PD",
        "outputId": "8b1218a5-e5fc-4550-b5ed-48566e41753e"
      },
      "outputs": [
        {
          "data": {
            "text/plain": [
              "Computed from 1000 posterior samples and 93 observations log-likelihood matrix.\n",
              "\n",
              "         Estimate       SE\n",
              "elpd_loo  -695.87     9.41\n",
              "p_loo        7.51        -\n",
              "------\n",
              "\n",
              "Pareto k diagnostic values:\n",
              "                         Count   Pct.\n",
              "(-Inf, 0.5]   (good)       91   97.8%\n",
              " (0.5, 0.7]   (ok)          2    2.2%\n",
              "   (0.7, 1]   (bad)         0    0.0%\n",
              "   (1, Inf)   (very bad)    0    0.0%"
            ]
          },
          "execution_count": 27,
          "metadata": {},
          "output_type": "execute_result"
        }
      ],
      "source": [
        "model_loo2 = az.loo(trace2)\n",
        "model_loo2"
      ]
    },
    {
      "cell_type": "code",
      "execution_count": null,
      "metadata": {
        "colab": {
          "base_uri": "https://localhost:8080/"
        },
        "id": "kdKYlGhCDp_0",
        "outputId": "809135c7-ad6c-40b0-a6f6-5f0c0bb1fab2"
      },
      "outputs": [
        {
          "name": "stderr",
          "output_type": "stream",
          "text": [
            "/usr/local/lib/python3.10/dist-packages/arviz/stats/stats.py:803: UserWarning: Estimated shape parameter of Pareto distribution is greater than 0.7 for one or more samples. You should consider using a more robust model, this is because importance sampling is less likely to work well if the marginal posterior and LOO posterior are very different. This is more likely to happen with a non-robust model and highly influential observations.\n",
            "  warnings.warn(\n"
          ]
        },
        {
          "data": {
            "text/plain": [
              "Computed from 200 posterior samples and 93 observations log-likelihood matrix.\n",
              "\n",
              "         Estimate       SE\n",
              "elpd_loo  -696.03     9.44\n",
              "p_loo        7.85        -\n",
              "\n",
              "There has been a warning during the calculation. Please check the results.\n",
              "------\n",
              "\n",
              "Pareto k diagnostic values:\n",
              "                         Count   Pct.\n",
              "(-Inf, 0.5]   (good)       91   97.8%\n",
              " (0.5, 0.7]   (ok)          1    1.1%\n",
              "   (0.7, 1]   (bad)         1    1.1%\n",
              "   (1, Inf)   (very bad)    0    0.0%"
            ]
          },
          "execution_count": 28,
          "metadata": {},
          "output_type": "execute_result"
        }
      ],
      "source": [
        "model_loo3 = az.loo(trace3)\n",
        "model_loo3"
      ]
    },
    {
      "cell_type": "code",
      "execution_count": null,
      "metadata": {
        "colab": {
          "base_uri": "https://localhost:8080/"
        },
        "id": "QauDawUqDsnp",
        "outputId": "dd34b66b-1603-4a09-aed3-0ce9b61401ab"
      },
      "outputs": [
        {
          "data": {
            "text/plain": [
              "Computed from 200 posterior samples and 93 observations log-likelihood matrix.\n",
              "\n",
              "         Estimate       SE\n",
              "elpd_loo  -696.61     9.46\n",
              "p_loo        8.46        -\n",
              "------\n",
              "\n",
              "Pareto k diagnostic values:\n",
              "                         Count   Pct.\n",
              "(-Inf, 0.5]   (good)       90   96.8%\n",
              " (0.5, 0.7]   (ok)          3    3.2%\n",
              "   (0.7, 1]   (bad)         0    0.0%\n",
              "   (1, Inf)   (very bad)    0    0.0%"
            ]
          },
          "execution_count": 29,
          "metadata": {},
          "output_type": "execute_result"
        }
      ],
      "source": [
        "model_loo4 = az.loo(trace4)\n",
        "model_loo4"
      ]
    },
    {
      "cell_type": "code",
      "execution_count": null,
      "metadata": {
        "colab": {
          "base_uri": "https://localhost:8080/"
        },
        "id": "xCqWrRBhDvBz",
        "outputId": "d5815b79-9fb5-4ad6-9023-ce1c2c0f5114"
      },
      "outputs": [
        {
          "data": {
            "text/plain": [
              "Computed from 100 posterior samples and 93 observations log-likelihood matrix.\n",
              "\n",
              "         Estimate       SE\n",
              "elpd_loo  -695.20     9.37\n",
              "p_loo        6.59        -\n",
              "------\n",
              "\n",
              "Pareto k diagnostic values:\n",
              "                         Count   Pct.\n",
              "(-Inf, 0.5]   (good)       83   89.2%\n",
              " (0.5, 0.7]   (ok)         10   10.8%\n",
              "   (0.7, 1]   (bad)         0    0.0%\n",
              "   (1, Inf)   (very bad)    0    0.0%"
            ]
          },
          "execution_count": 30,
          "metadata": {},
          "output_type": "execute_result"
        }
      ],
      "source": [
        "model_loo5 = az.loo(trace5)\n",
        "model_loo5"
      ]
    },
    {
      "cell_type": "code",
      "execution_count": null,
      "metadata": {
        "colab": {
          "base_uri": "https://localhost:8080/"
        },
        "id": "JB_KDLNJDxdC",
        "outputId": "75f1fb17-6b84-4e21-f912-b7ea12857dc3"
      },
      "outputs": [
        {
          "data": {
            "text/plain": [
              "Computed from 200 posterior samples and 93 observations log-likelihood matrix.\n",
              "\n",
              "         Estimate       SE\n",
              "elpd_loo  -695.61     9.33\n",
              "p_loo        7.16        -\n",
              "------\n",
              "\n",
              "Pareto k diagnostic values:\n",
              "                         Count   Pct.\n",
              "(-Inf, 0.5]   (good)       93  100.0%\n",
              " (0.5, 0.7]   (ok)          0    0.0%\n",
              "   (0.7, 1]   (bad)         0    0.0%\n",
              "   (1, Inf)   (very bad)    0    0.0%"
            ]
          },
          "execution_count": 31,
          "metadata": {},
          "output_type": "execute_result"
        }
      ],
      "source": [
        "model_loo6 = az.loo(trace6)\n",
        "model_loo6"
      ]
    },
    {
      "cell_type": "code",
      "execution_count": null,
      "metadata": {
        "colab": {
          "base_uri": "https://localhost:8080/"
        },
        "id": "ydsWI4JnUXR2",
        "outputId": "e07ee7d5-9c3b-4efe-80e5-dcbb5bf20b04"
      },
      "outputs": [
        {
          "name": "stderr",
          "output_type": "stream",
          "text": [
            "/usr/local/lib/python3.10/dist-packages/arviz/stats/stats.py:803: UserWarning: Estimated shape parameter of Pareto distribution is greater than 0.7 for one or more samples. You should consider using a more robust model, this is because importance sampling is less likely to work well if the marginal posterior and LOO posterior are very different. This is more likely to happen with a non-robust model and highly influential observations.\n",
            "  warnings.warn(\n"
          ]
        },
        {
          "data": {
            "text/plain": [
              "Computed from 100 posterior samples and 93 observations log-likelihood matrix.\n",
              "\n",
              "         Estimate       SE\n",
              "elpd_loo  -695.53     9.43\n",
              "p_loo        7.24        -\n",
              "\n",
              "There has been a warning during the calculation. Please check the results.\n",
              "------\n",
              "\n",
              "Pareto k diagnostic values:\n",
              "                         Count   Pct.\n",
              "(-Inf, 0.5]   (good)       89   95.7%\n",
              " (0.5, 0.7]   (ok)          2    2.2%\n",
              "   (0.7, 1]   (bad)         2    2.2%\n",
              "   (1, Inf)   (very bad)    0    0.0%"
            ]
          },
          "execution_count": 32,
          "metadata": {},
          "output_type": "execute_result"
        }
      ],
      "source": [
        "model_loo7 = az.loo(trace7)\n",
        "model_loo7"
      ]
    },
    {
      "cell_type": "markdown",
      "metadata": {
        "id": "ch3dQvDue-4d"
      },
      "source": [
        "### Vergleiche nun den LOO-Score der traces"
      ]
    },
    {
      "cell_type": "code",
      "execution_count": null,
      "metadata": {
        "colab": {
          "base_uri": "https://localhost:8080/"
        },
        "id": "a8o0sd16fBkm",
        "outputId": "f81f904f-0e53-4612-e020-7d6ac4f157a1"
      },
      "outputs": [
        {
          "name": "stderr",
          "output_type": "stream",
          "text": [
            "/usr/local/lib/python3.10/dist-packages/arviz/stats/stats.py:803: UserWarning: Estimated shape parameter of Pareto distribution is greater than 0.7 for one or more samples. You should consider using a more robust model, this is because importance sampling is less likely to work well if the marginal posterior and LOO posterior are very different. This is more likely to happen with a non-robust model and highly influential observations.\n",
            "  warnings.warn(\n"
          ]
        },
        {
          "name": "stdout",
          "output_type": "stream",
          "text": [
            "        rank    elpd_loo     p_loo  elpd_diff  weight        se       dse  \\\n",
            "trace5     0 -695.199418  6.594500   0.000000     1.0  9.372159  0.000000   \n",
            "trace7     1 -695.528916  7.239035   0.329497     0.0  9.428515  0.355990   \n",
            "trace6     2 -695.607491  7.157730   0.408073     0.0  9.333427  0.422483   \n",
            "trace2     3 -695.871799  7.508858   0.672380     0.0  9.406189  0.378061   \n",
            "trace3     4 -696.033147  7.850095   0.833729     0.0  9.442180  0.396902   \n",
            "trace1     5 -696.183492  7.804302   0.984074     0.0  9.459591  0.348311   \n",
            "trace4     6 -696.608380  8.458909   1.408962     0.0  9.456929  0.322093   \n",
            "\n",
            "        warning scale  \n",
            "trace5    False   log  \n",
            "trace7     True   log  \n",
            "trace6    False   log  \n",
            "trace2    False   log  \n",
            "trace3     True   log  \n",
            "trace1    False   log  \n",
            "trace4    False   log  \n"
          ]
        },
        {
          "name": "stderr",
          "output_type": "stream",
          "text": [
            "/usr/local/lib/python3.10/dist-packages/arviz/stats/stats.py:803: UserWarning: Estimated shape parameter of Pareto distribution is greater than 0.7 for one or more samples. You should consider using a more robust model, this is because importance sampling is less likely to work well if the marginal posterior and LOO posterior are very different. This is more likely to happen with a non-robust model and highly influential observations.\n",
            "  warnings.warn(\n"
          ]
        }
      ],
      "source": [
        "\n",
        "traces = {\"trace1\": trace1, \"trace2\": trace2, \"trace3\": trace3, \"trace4\": trace4, \"trace5\": trace5, \"trace6\": trace6, \"trace7\": trace7}\n",
        "\n",
        "\n",
        "\n",
        "# Vergleich durchführen\n",
        "df_comp_loo = az.compare(traces, ic=\"loo\")\n",
        "\n",
        "# Ausgabe anzeigen\n",
        "print(df_comp_loo)\n"
      ]
    },
    {
      "cell_type": "code",
      "execution_count": null,
      "metadata": {
        "colab": {
          "base_uri": "https://localhost:8080/",
          "height": 694
        },
        "id": "OwkIeBkhfI_4",
        "outputId": "18341c82-b2e7-492b-8ecf-42ce3eb0d2d7"
      },
      "outputs": [
        {
          "data": {
            "image/png": "[encoded data removed]",
            "text/plain": [
              "<Figure size 600x700 with 1 Axes>"
            ]
          },
          "metadata": {},
          "output_type": "display_data"
        }
      ],
      "source": [
        "az.plot_compare(df_comp_loo, insample_dev=False);"
      ]
    },
    {
      "cell_type": "markdown",
      "metadata": {
        "id": "BcoB2-wyvyY5"
      },
      "source": [
        "### Vergleiche nun den WAIC-Score der traces"
      ]
    },
    {
      "cell_type": "code",
      "execution_count": null,
      "metadata": {
        "colab": {
          "base_uri": "https://localhost:8080/",
          "height": 868
        },
        "id": "RhZPOa0OHzDi",
        "outputId": "a33ecb20-621b-408f-ba7e-6eb04c6def2f"
      },
      "outputs": [
        {
          "name": "stderr",
          "output_type": "stream",
          "text": [
            "/usr/local/lib/python3.10/dist-packages/arviz/stats/stats.py:1645: UserWarning: For one or more samples the posterior variance of the log predictive densities exceeds 0.4. This could be indication of WAIC starting to fail. \n",
            "See http://arxiv.org/abs/1507.04544 for details\n",
            "  warnings.warn(\n",
            "/usr/local/lib/python3.10/dist-packages/arviz/stats/stats.py:1645: UserWarning: For one or more samples the posterior variance of the log predictive densities exceeds 0.4. This could be indication of WAIC starting to fail. \n",
            "See http://arxiv.org/abs/1507.04544 for details\n",
            "  warnings.warn(\n",
            "/usr/local/lib/python3.10/dist-packages/arviz/stats/stats.py:1645: UserWarning: For one or more samples the posterior variance of the log predictive densities exceeds 0.4. This could be indication of WAIC starting to fail. \n",
            "See http://arxiv.org/abs/1507.04544 for details\n",
            "  warnings.warn(\n"
          ]
        },
        {
          "data": {
            "text/plain": [
              "<Axes: title={'center': 'Model comparison\\nhigher is better'}, xlabel='elpd_waic (log)', ylabel='ranked models'>"
            ]
          },
          "execution_count": 35,
          "metadata": {},
          "output_type": "execute_result"
        },
        {
          "data": {
            "image/png": "[encoded data removed]",
            "text/plain": [
              "<Figure size 600x700 with 1 Axes>"
            ]
          },
          "metadata": {},
          "output_type": "display_data"
        }
      ],
      "source": [
        "traces = {\"trace1\": trace1, \"trace2\": trace2, \"trace3\": trace3, \"trace4\": trace4, \"trace5\": trace5, \"trace6\": trace6, \"trace7\": trace7}\n",
        "\n",
        "waic_values = []\n",
        "\n",
        "for trace_name, trace in traces.items():\n",
        "    model = this_model\n",
        "    waic = pm.waic(trace)\n",
        "    waic_values.append(waic)\n",
        "# Erstellen eines Dictionaries für den Vergleich\n",
        "compare_dict = {f\"{trace_name}\": waic for trace_name, waic in zip(traces.keys(), waic_values)}\n",
        "\n",
        "# Vergleichsobjekt erstellen\n",
        "comp_waic = az.compare(compare_dict, ic=\"waic\")\n",
        "\n",
        "# Plot erstellen\n",
        "az.plot_compare(comp_waic, insample_dev=False)"
      ]
    },
    {
      "cell_type": "markdown",
      "metadata": {
        "id": "_FIQAkYPv2nz"
      },
      "source": [
        "### Vergleiche nun die Pareto-K-Werte"
      ]
    },
    {
      "cell_type": "code",
      "execution_count": null,
      "metadata": {
        "colab": {
          "base_uri": "https://localhost:8080/",
          "height": 538
        },
        "id": "iZX0vEILhUUd",
        "outputId": "c5673c0e-5140-4c8c-e341-683453a4924f"
      },
      "outputs": [
        {
          "name": "stderr",
          "output_type": "stream",
          "text": [
            "/usr/local/lib/python3.10/dist-packages/arviz/stats/stats.py:803: UserWarning: Estimated shape parameter of Pareto distribution is greater than 0.7 for one or more samples. You should consider using a more robust model, this is because importance sampling is less likely to work well if the marginal posterior and LOO posterior are very different. This is more likely to happen with a non-robust model and highly influential observations.\n",
            "  warnings.warn(\n",
            "/usr/local/lib/python3.10/dist-packages/arviz/stats/stats.py:803: UserWarning: Estimated shape parameter of Pareto distribution is greater than 0.7 for one or more samples. You should consider using a more robust model, this is because importance sampling is less likely to work well if the marginal posterior and LOO posterior are very different. This is more likely to happen with a non-robust model and highly influential observations.\n",
            "  warnings.warn(\n"
          ]
        },
        {
          "data": {
            "image/png": "[encoded data removed]",
            "text/plain": [
              "<Figure size 640x480 with 1 Axes>"
            ]
          },
          "metadata": {},
          "output_type": "display_data"
        }
      ],
      "source": [
        "# Extrahiere Pareto-k-Werte für alle Traces\n",
        "pareto_k_values = [az.loo(trace, pointwise=True).pareto_k.values for trace in traces.values()]\n",
        "\n",
        "# Konvertiere die Liste in ein numpy array\n",
        "pareto_k_array = np.array(pareto_k_values)\n",
        "\n",
        "# Eigener Plot erstellen\n",
        "fig, ax = plt.subplots()\n",
        "\n",
        "# Jeder Trace wird als eine eigene Linie dargestellt\n",
        "for i, pareto_k in enumerate(pareto_k_array):\n",
        "    ax.plot(pareto_k, label=f\"Trace {i + 1}\")\n",
        "\n",
        "ax.set_xlabel(\"Datenpunkt\")\n",
        "ax.axhline(y=0.5, color='black', linestyle='--', label='Schwellenwert Pareto-k=0.5')\n",
        "ax.set_ylabel(\"Pareto k\")\n",
        "ax.legend()\n",
        "\n",
        "plt.show()\n"
      ]
    },
    {
      "cell_type": "code",
      "execution_count": null,
      "metadata": {
        "colab": {
          "base_uri": "https://localhost:8080/"
        },
        "id": "mtFhBrxIMczT",
        "outputId": "092b4bd1-1874-440a-8233-2a590d3a1aba"
      },
      "outputs": [
        {
          "name": "stdout",
          "output_type": "stream",
          "text": [
            "Trace 1: 0 problematische Datenpunkte\n",
            "Trace 2: 2 problematische Datenpunkte\n",
            "Trace 3: 2 problematische Datenpunkte\n",
            "Trace 4: 3 problematische Datenpunkte\n",
            "Trace 5: 10 problematische Datenpunkte\n",
            "Trace 6: 0 problematische Datenpunkte\n",
            "Trace 7: 4 problematische Datenpunkte\n",
            "Gesamter Prozentsatz der problematischen Datenpunkte: 3.23%\n"
          ]
        }
      ],
      "source": [
        "# Schwellenwert für problematische Pareto-k-Werte\n",
        "threshold = 0.5\n",
        "\n",
        "# Zähle die Anzahl der problematischen Datenpunkte für jeden Trace\n",
        "problematic_points_count = np.sum(pareto_k_array > threshold, axis=1)\n",
        "\n",
        "# Zeige die Anzahl der problematischen Datenpunkte für jeden Trace an\n",
        "for i, count in enumerate(problematic_points_count):\n",
        "    print(f\"Trace {i + 1}: {count} problematische Datenpunkte\")\n",
        "\n",
        "# Gesamtanzahl der Datenpunkte\n",
        "total_data_points = pareto_k_array.shape[1]\n",
        "\n",
        "# Berechne den Prozentsatz der problematischen Datenpunkte insgesamt\n",
        "percentage_problematic = np.sum(problematic_points_count) / (len(traces) * total_data_points) * 100\n",
        "\n",
        "print(f\"Gesamter Prozentsatz der problematischen Datenpunkte: {percentage_problematic:.2f}%\")"
      ]
    },
    {
      "cell_type": "markdown",
      "metadata": {
        "id": "GwQmVXvnv8h2"
      },
      "source": [
        "### Vergleiche nun die RHat-Werte"
      ]
    },
    {
      "cell_type": "code",
      "execution_count": null,
      "metadata": {
        "colab": {
          "base_uri": "https://localhost:8080/",
          "height": 430
        },
        "id": "1QBczbYQF7eb",
        "outputId": "85eba8b1-e1b3-4d15-e71c-2c823e1e5356"
      },
      "outputs": [
        {
          "data": {
            "image/png": "[encoded data removed]",
            "text/plain": [
              "<Figure size 640x480 with 1 Axes>"
            ]
          },
          "metadata": {},
          "output_type": "display_data"
        }
      ],
      "source": [
        "\n",
        "traces = [trace1, trace2, trace3, trace4, trace5, trace6, trace7]\n",
        "\n",
        "# Rhat-Werte für alle traces erhalten und den Durchschnitt berechnen\n",
        "rhats = {f\"trace{i+1}\": az.summary(trace)[\"r_hat\"].mean().item() for i, trace in enumerate(traces)}\n",
        "\n",
        "# Visualisierung der Durchschnittlichen Rhat-Werte\n",
        "fig, ax = plt.subplots()\n",
        "ax.bar(rhats.keys(), rhats.values(), color='skyblue')\n",
        "ax.axhline(y=1.0, color='red', linestyle='--', label='Schwellenwert Rhat=1.0')\n",
        "ax.set_ylabel('Durchschnittlicher Rhat-Wert')\n",
        "ax.legend()\n",
        "plt.show()"
      ]
    },
    {
      "cell_type": "code",
      "execution_count": 1,
      "metadata": {
        "id": "oIfWBC9LKR2s"
      },
      "outputs": [],
      "source": [
        "import pandas as pd\n",
        "def compare_traces(traces, execution_times):\n",
        "    # Berechne den Normalized Mean Squared Error (NMSE) für jeden Trace\n",
        "    with this_model:\n",
        "      nmse_values = []\n",
        "      for trace_name, trace in traces.items():\n",
        "          predicted_cases = trace.posterior[\"new_cases\"].mean(dim=(\"chain\", \"draw\")).values[:len(new_cases_obs)]\n",
        "          nmse = np.mean((observed_cases - predicted_cases)**2) / variance_observed\n",
        "          nmse_values.append(nmse)\n",
        "\n",
        "\n",
        "      # Berechne den LOO-Score für jeden Trace\n",
        "      loo_values = [az.loo(trace) for trace in traces.values()]\n",
        "      loo_elpd_values = [loo.loo_i.sum() for loo in loo_values]\n",
        "\n",
        "      # Berechne den WAIC-Score für jeden Trace\n",
        "      waic_values = [pm.waic(trace) for trace in traces.values()]\n",
        "      waic_elpd_values = [waic.waic_i.sum() for waic in waic_values]\n",
        "      # Berechne die Pareto-K-Werte für jeden Trace\n",
        "      pareto_k_values = [az.loo(trace, pointwise=True).pareto_k.values for trace in traces.values()]\n",
        "\n",
        "      # Berechne den Durchschnitt der Rhat-Werte für jeden Trace\n",
        "      rhats = {f\"{trace_name}\": az.summary(trace)[\"r_hat\"].mean().item() for trace_name, trace in traces.items()}\n",
        "\n",
        "      # Füge die Ausführungszeiten hinzu\n",
        "      execution_times_dict = {f\"{trace_name}\": exec_time for trace_name, exec_time in zip(traces.keys(), execution_times)}\n",
        "\n",
        "      # Fasse alle Metriken in einem DataFrame zusammen\n",
        "      metrics_df = pd.DataFrame({\n",
        "          \"NMSE\": nmse_values,\n",
        "          \"LOO ELPD\": loo_elpd_values,\n",
        "          \"WAIC ELPD\": waic_elpd_values,\n",
        "          \"Rhat\": rhats,\n",
        "          \"Execution Time\": execution_times_dict,\n",
        "      }, index=traces.keys())\n",
        "\n",
        "      # Gewichte die Metriken (je niedriger, desto besser)\n",
        "      weights = {\n",
        "          \"NMSE\": 1,\n",
        "          \"LOO ELPD\": -1,\n",
        "          \"WAIC ELPD\": -1,\n",
        "          \"Rhat\": 1,\n",
        "          \"Execution Time\": 1,\n",
        "      }\n",
        "\n",
        "      weighted_metrics = metrics_df * weights\n",
        "\n",
        "      # Berechne den Gesamtwert für jeden Trace\n",
        "      total_values = weighted_metrics.sum(axis=1)\n",
        "\n",
        "      # Finde den besten Trace (geringster Gesamtwert)\n",
        "      best_trace_name = total_values.idxmin()\n",
        "\n",
        "      return metrics_df, best_trace_name"
      ]
    },
    {
      "cell_type": "markdown",
      "metadata": {
        "id": "AoXK8G7te9Q_"
      },
      "source": []
    },
    {
      "cell_type": "code",
      "execution_count": null,
      "metadata": {
        "colab": {
          "base_uri": "https://localhost:8080/"
        },
        "id": "i9mb8wKnpN_Y",
        "outputId": "f73e453d-ab21-4f54-cae2-011b3bf435aa"
      },
      "outputs": [
        {
          "name": "stderr",
          "output_type": "stream",
          "text": [
            "/usr/local/lib/python3.10/dist-packages/arviz/stats/stats.py:1645: UserWarning: For one or more samples the posterior variance of the log predictive densities exceeds 0.4. This could be indication of WAIC starting to fail. \n",
            "See http://arxiv.org/abs/1507.04544 for details\n",
            "  warnings.warn(\n",
            "/usr/local/lib/python3.10/dist-packages/arviz/stats/stats.py:1645: UserWarning: For one or more samples the posterior variance of the log predictive densities exceeds 0.4. This could be indication of WAIC starting to fail. \n",
            "See http://arxiv.org/abs/1507.04544 for details\n",
            "  warnings.warn(\n",
            "/usr/local/lib/python3.10/dist-packages/arviz/stats/stats.py:1645: UserWarning: For one or more samples the posterior variance of the log predictive densities exceeds 0.4. This could be indication of WAIC starting to fail. \n",
            "See http://arxiv.org/abs/1507.04544 for details\n",
            "  warnings.warn(\n",
            "/usr/local/lib/python3.10/dist-packages/arviz/stats/stats.py:1645: UserWarning: For one or more samples the posterior variance of the log predictive densities exceeds 0.4. This could be indication of WAIC starting to fail. \n",
            "See http://arxiv.org/abs/1507.04544 for details\n",
            "  warnings.warn(\n",
            "/usr/local/lib/python3.10/dist-packages/arviz/stats/stats.py:1645: UserWarning: For one or more samples the posterior variance of the log predictive densities exceeds 0.4. This could be indication of WAIC starting to fail. \n",
            "See http://arxiv.org/abs/1507.04544 for details\n",
            "  warnings.warn(\n"
          ]
        },
        {
          "name": "stdout",
          "output_type": "stream",
          "text": [
            "Metriken für jeden Trace:\n",
            "            NMSE                                           LOO ELPD  \\\n",
            "trace1  1.440265  <xarray.DataArray 'loo_i' ()>\\narray(-695.9523...   \n",
            "trace2  1.440996  <xarray.DataArray 'loo_i' ()>\\narray(-695.9549...   \n",
            "trace3  1.453841  <xarray.DataArray 'loo_i' ()>\\narray(-696.4046...   \n",
            "trace4  1.436889  <xarray.DataArray 'loo_i' ()>\\narray(-695.8890...   \n",
            "trace5  1.441595  <xarray.DataArray 'loo_i' ()>\\narray(-695.2570...   \n",
            "trace6  1.444795  <xarray.DataArray 'loo_i' ()>\\narray(-695.6506...   \n",
            "trace7  1.441095  <xarray.DataArray 'loo_i' ()>\\narray(-695.4940...   \n",
            "\n",
            "                                                WAIC ELPD      Rhat  \\\n",
            "trace1  <xarray.DataArray 'waic_i' ()>\\narray(-695.908...  1.000684   \n",
            "trace2  <xarray.DataArray 'waic_i' ()>\\narray(-695.922...  1.000356   \n",
            "trace3  <xarray.DataArray 'waic_i' ()>\\narray(-696.333...  1.012619   \n",
            "trace4  <xarray.DataArray 'waic_i' ()>\\narray(-695.789...  1.009343   \n",
            "trace5  <xarray.DataArray 'waic_i' ()>\\narray(-695.191...  1.017089   \n",
            "trace6  <xarray.DataArray 'waic_i' ()>\\narray(-695.562...  1.023321   \n",
            "trace7  <xarray.DataArray 'waic_i' ()>\\narray(-695.432...  1.042172   \n",
            "\n",
            "        Execution Time  \n",
            "trace1            2926  \n",
            "trace2            1735  \n",
            "trace3             592  \n",
            "trace4             525  \n",
            "trace5             428  \n",
            "trace6             492  \n",
            "trace7             377  \n",
            "\n",
            "Bester Trace: trace7\n"
          ]
        }
      ],
      "source": [
        "# Traces in einem Dictionary speichern\n",
        "traces = {\"trace1\": trace1, \"trace2\": trace2, \"trace3\": trace3, \"trace4\": trace4, \"trace5\": trace5, \"trace6\": trace6, \"trace7\": trace7}\n",
        "execution_times=[2926,1735,592,525,428,492,377]\n",
        "# Funktion aufrufen\n",
        "metrics_df, best_trace = compare_traces(traces, execution_times)\n",
        "\n",
        "# Ausgabe anzeigen\n",
        "print(\"Metriken für jeden Trace:\")\n",
        "print(metrics_df)\n",
        "print(\"\\nBester Trace:\", best_trace)\n"
      ]
    }
  ],
  "metadata": {
    "colab": {
      "provenance": []
    },
    "kernelspec": {
      "display_name": "Python [conda env:dev_env]",
      "language": "python",
      "name": "conda-env-dev_env-py"
    },
    "language_info": {
      "codemirror_mode": {
        "name": "ipython",
        "version": 3
      },
      "file_extension": ".py",
      "mimetype": "text/x-python",
      "name": "python",
      "nbconvert_exporter": "python",
      "pygments_lexer": "ipython3",
      "version": "3.10.4"
    }
  },
  "nbformat": 4,
  "nbformat_minor": 0
}
