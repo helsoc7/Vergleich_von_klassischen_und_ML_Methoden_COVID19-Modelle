{
  "cells": [
    {
      "cell_type": "markdown",
      "metadata": {
        "id": "ac9j6BC2Qk5S"
      },
      "source": [
        "[![Open In Colab](https://colab.research.google.com/assets/colab-badge.svg)](\n",
        "https://colab.research.google.com/github/Priesemann-Group/covid19_inference/blob/master/scripts/interactive/example_one_bundesland.ipynb)"
      ]
    },
    {
      "cell_type": "markdown",
      "metadata": {
        "id": "lT8j8q8ieNCL"
      },
      "source": [
        "# Parametersensivitätsanalyse für lambda_0\n",
        "## Deutschland vom 10.03.2020 bis 10.06.2020"
      ]
    },
    {
      "cell_type": "markdown",
      "metadata": {
        "id": "cSLlUwn7ecIq"
      },
      "source": [
        "Initial definieren wir wie viele Threads wir bei dem MCMC-Sampling gleichzeitig rechnen lassen wollen (`%env OMP_NUM_Thread`). Zudem soll das `covid19_inference`-Modul installiert werden. Ferner stellen wir mit `%load_ext autoreload` und `%autoreload 2` sicher, dass automatisch die Module vor der Ausführung des Codes nachgeladen werden. Das kann insbesondere dann hilfreich sein, wenn wir Änderungen durchführen, den Kernel aber nicht neustarten wollen. Zusätzlich wird das `pytensor`-Modul geladen sowie das `pymc`. Vor allem `pymc` spielt in der Bayes'schen Inferenz eine wichtige Rolle."
      ]
    },
    {
      "cell_type": "code",
      "execution_count": null,
      "metadata": {
        "colab": {
          "base_uri": "https://localhost:8080/"
        },
        "id": "fkswEexWQk5V",
        "outputId": "a691a72e-0de3-44fa-eba1-038a549b425c"
      },
      "outputs": [
        {
          "name": "stdout",
          "output_type": "stream",
          "text": [
            "env: OMP_NUM_THREADS=1\n",
            "Requirement already satisfied: covid19_inference in /usr/local/lib/python3.10/dist-packages (0.5.0)\n",
            "Requirement already satisfied: numpy in /usr/local/lib/python3.10/dist-packages (from covid19_inference) (1.23.5)\n",
            "Requirement already satisfied: matplotlib in /usr/local/lib/python3.10/dist-packages (from covid19_inference) (3.7.1)\n",
            "Requirement already satisfied: pymc>=5.0.0 in /usr/local/lib/python3.10/dist-packages (from covid19_inference) (5.7.2)\n",
            "Requirement already satisfied: pytensor in /usr/local/lib/python3.10/dist-packages (from covid19_inference) (2.14.2)\n",
            "Requirement already satisfied: pandas in /usr/local/lib/python3.10/dist-packages (from covid19_inference) (1.5.3)\n",
            "Requirement already satisfied: pytest in /usr/local/lib/python3.10/dist-packages (from covid19_inference) (7.4.3)\n",
            "Requirement already satisfied: requests in /usr/local/lib/python3.10/dist-packages (from covid19_inference) (2.31.0)\n",
            "Requirement already satisfied: numpyro in /usr/local/lib/python3.10/dist-packages (from covid19_inference) (0.13.2)\n",
            "Requirement already satisfied: cairosvg in /usr/local/lib/python3.10/dist-packages (from covid19_inference) (2.7.1)\n",
            "Requirement already satisfied: watermark in /usr/local/lib/python3.10/dist-packages (from covid19_inference) (2.4.3)\n",
            "Requirement already satisfied: arviz>=0.13.0 in /usr/local/lib/python3.10/dist-packages (from pymc>=5.0.0->covid19_inference) (0.15.1)\n",
            "Requirement already satisfied: cachetools>=4.2.1 in /usr/local/lib/python3.10/dist-packages (from pymc>=5.0.0->covid19_inference) (5.3.2)\n",
            "Requirement already satisfied: cloudpickle in /usr/local/lib/python3.10/dist-packages (from pymc>=5.0.0->covid19_inference) (2.2.1)\n",
            "Requirement already satisfied: fastprogress>=0.2.0 in /usr/local/lib/python3.10/dist-packages (from pymc>=5.0.0->covid19_inference) (1.0.3)\n",
            "Requirement already satisfied: scipy>=1.4.1 in /usr/local/lib/python3.10/dist-packages (from pymc>=5.0.0->covid19_inference) (1.11.3)\n",
            "Requirement already satisfied: typing-extensions>=3.7.4 in /usr/local/lib/python3.10/dist-packages (from pymc>=5.0.0->covid19_inference) (4.5.0)\n",
            "Requirement already satisfied: python-dateutil>=2.8.1 in /usr/local/lib/python3.10/dist-packages (from pandas->covid19_inference) (2.8.2)\n",
            "Requirement already satisfied: pytz>=2020.1 in /usr/local/lib/python3.10/dist-packages (from pandas->covid19_inference) (2023.3.post1)\n",
            "Requirement already satisfied: setuptools>=48.0.0 in /usr/local/lib/python3.10/dist-packages (from pytensor->covid19_inference) (67.7.2)\n",
            "Requirement already satisfied: filelock in /usr/local/lib/python3.10/dist-packages (from pytensor->covid19_inference) (3.13.1)\n",
            "Requirement already satisfied: etuples in /usr/local/lib/python3.10/dist-packages (from pytensor->covid19_inference) (0.3.9)\n",
            "Requirement already satisfied: logical-unification in /usr/local/lib/python3.10/dist-packages (from pytensor->covid19_inference) (0.4.6)\n",
            "Requirement already satisfied: miniKanren in /usr/local/lib/python3.10/dist-packages (from pytensor->covid19_inference) (1.0.3)\n",
            "Requirement already satisfied: cons in /usr/local/lib/python3.10/dist-packages (from pytensor->covid19_inference) (0.4.6)\n",
            "Requirement already satisfied: cairocffi in /usr/local/lib/python3.10/dist-packages (from cairosvg->covid19_inference) (1.6.1)\n",
            "Requirement already satisfied: cssselect2 in /usr/local/lib/python3.10/dist-packages (from cairosvg->covid19_inference) (0.7.0)\n",
            "Requirement already satisfied: defusedxml in /usr/local/lib/python3.10/dist-packages (from cairosvg->covid19_inference) (0.7.1)\n",
            "Requirement already satisfied: pillow in /usr/local/lib/python3.10/dist-packages (from cairosvg->covid19_inference) (9.4.0)\n",
            "Requirement already satisfied: tinycss2 in /usr/local/lib/python3.10/dist-packages (from cairosvg->covid19_inference) (1.2.1)\n",
            "Requirement already satisfied: contourpy>=1.0.1 in /usr/local/lib/python3.10/dist-packages (from matplotlib->covid19_inference) (1.2.0)\n",
            "Requirement already satisfied: cycler>=0.10 in /usr/local/lib/python3.10/dist-packages (from matplotlib->covid19_inference) (0.12.1)\n",
            "Requirement already satisfied: fonttools>=4.22.0 in /usr/local/lib/python3.10/dist-packages (from matplotlib->covid19_inference) (4.44.3)\n",
            "Requirement already satisfied: kiwisolver>=1.0.1 in /usr/local/lib/python3.10/dist-packages (from matplotlib->covid19_inference) (1.4.5)\n",
            "Requirement already satisfied: packaging>=20.0 in /usr/local/lib/python3.10/dist-packages (from matplotlib->covid19_inference) (23.2)\n",
            "Requirement already satisfied: pyparsing>=2.3.1 in /usr/local/lib/python3.10/dist-packages (from matplotlib->covid19_inference) (3.1.1)\n",
            "Requirement already satisfied: jax>=0.4.14 in /usr/local/lib/python3.10/dist-packages (from numpyro->covid19_inference) (0.4.20)\n",
            "Requirement already satisfied: jaxlib>=0.4.14 in /usr/local/lib/python3.10/dist-packages (from numpyro->covid19_inference) (0.4.20+cuda11.cudnn86)\n",
            "Requirement already satisfied: multipledispatch in /usr/local/lib/python3.10/dist-packages (from numpyro->covid19_inference) (1.0.0)\n",
            "Requirement already satisfied: tqdm in /usr/local/lib/python3.10/dist-packages (from numpyro->covid19_inference) (4.66.1)\n",
            "Requirement already satisfied: iniconfig in /usr/local/lib/python3.10/dist-packages (from pytest->covid19_inference) (2.0.0)\n",
            "Requirement already satisfied: pluggy<2.0,>=0.12 in /usr/local/lib/python3.10/dist-packages (from pytest->covid19_inference) (1.3.0)\n",
            "Requirement already satisfied: exceptiongroup>=1.0.0rc8 in /usr/local/lib/python3.10/dist-packages (from pytest->covid19_inference) (1.1.3)\n",
            "Requirement already satisfied: tomli>=1.0.0 in /usr/local/lib/python3.10/dist-packages (from pytest->covid19_inference) (2.0.1)\n",
            "Requirement already satisfied: charset-normalizer<4,>=2 in /usr/local/lib/python3.10/dist-packages (from requests->covid19_inference) (3.3.2)\n",
            "Requirement already satisfied: idna<4,>=2.5 in /usr/local/lib/python3.10/dist-packages (from requests->covid19_inference) (3.4)\n",
            "Requirement already satisfied: urllib3<3,>=1.21.1 in /usr/local/lib/python3.10/dist-packages (from requests->covid19_inference) (2.0.7)\n",
            "Requirement already satisfied: certifi>=2017.4.17 in /usr/local/lib/python3.10/dist-packages (from requests->covid19_inference) (2023.7.22)\n",
            "Requirement already satisfied: ipython>=6.0 in /usr/local/lib/python3.10/dist-packages (from watermark->covid19_inference) (7.34.0)\n",
            "Requirement already satisfied: importlib-metadata>=1.4 in /usr/local/lib/python3.10/dist-packages (from watermark->covid19_inference) (6.8.0)\n",
            "Requirement already satisfied: xarray>=0.21.0 in /usr/local/lib/python3.10/dist-packages (from arviz>=0.13.0->pymc>=5.0.0->covid19_inference) (2023.7.0)\n",
            "Requirement already satisfied: h5netcdf>=1.0.2 in /usr/local/lib/python3.10/dist-packages (from arviz>=0.13.0->pymc>=5.0.0->covid19_inference) (1.3.0)\n",
            "Requirement already satisfied: xarray-einstats>=0.3 in /usr/local/lib/python3.10/dist-packages (from arviz>=0.13.0->pymc>=5.0.0->covid19_inference) (0.6.0)\n",
            "Requirement already satisfied: zipp>=0.5 in /usr/local/lib/python3.10/dist-packages (from importlib-metadata>=1.4->watermark->covid19_inference) (3.17.0)\n",
            "Requirement already satisfied: jedi>=0.16 in /usr/local/lib/python3.10/dist-packages (from ipython>=6.0->watermark->covid19_inference) (0.19.1)\n",
            "Requirement already satisfied: decorator in /usr/local/lib/python3.10/dist-packages (from ipython>=6.0->watermark->covid19_inference) (4.4.2)\n",
            "Requirement already satisfied: pickleshare in /usr/local/lib/python3.10/dist-packages (from ipython>=6.0->watermark->covid19_inference) (0.7.5)\n",
            "Requirement already satisfied: traitlets>=4.2 in /usr/local/lib/python3.10/dist-packages (from ipython>=6.0->watermark->covid19_inference) (5.7.1)\n",
            "Requirement already satisfied: prompt-toolkit!=3.0.0,!=3.0.1,<3.1.0,>=2.0.0 in /usr/local/lib/python3.10/dist-packages (from ipython>=6.0->watermark->covid19_inference) (3.0.41)\n",
            "Requirement already satisfied: pygments in /usr/local/lib/python3.10/dist-packages (from ipython>=6.0->watermark->covid19_inference) (2.16.1)\n",
            "Requirement already satisfied: backcall in /usr/local/lib/python3.10/dist-packages (from ipython>=6.0->watermark->covid19_inference) (0.2.0)\n",
            "Requirement already satisfied: matplotlib-inline in /usr/local/lib/python3.10/dist-packages (from ipython>=6.0->watermark->covid19_inference) (0.1.6)\n",
            "Requirement already satisfied: pexpect>4.3 in /usr/local/lib/python3.10/dist-packages (from ipython>=6.0->watermark->covid19_inference) (4.8.0)\n",
            "Requirement already satisfied: ml-dtypes>=0.2.0 in /usr/local/lib/python3.10/dist-packages (from jax>=0.4.14->numpyro->covid19_inference) (0.2.0)\n",
            "Requirement already satisfied: opt-einsum in /usr/local/lib/python3.10/dist-packages (from jax>=0.4.14->numpyro->covid19_inference) (3.3.0)\n",
            "Requirement already satisfied: six>=1.5 in /usr/local/lib/python3.10/dist-packages (from python-dateutil>=2.8.1->pandas->covid19_inference) (1.16.0)\n",
            "Requirement already satisfied: cffi>=1.1.0 in /usr/local/lib/python3.10/dist-packages (from cairocffi->cairosvg->covid19_inference) (1.16.0)\n",
            "Requirement already satisfied: toolz in /usr/local/lib/python3.10/dist-packages (from logical-unification->pytensor->covid19_inference) (0.12.0)\n",
            "Requirement already satisfied: webencodings in /usr/local/lib/python3.10/dist-packages (from cssselect2->cairosvg->covid19_inference) (0.5.1)\n",
            "Requirement already satisfied: pycparser in /usr/local/lib/python3.10/dist-packages (from cffi>=1.1.0->cairocffi->cairosvg->covid19_inference) (2.21)\n",
            "Requirement already satisfied: h5py in /usr/local/lib/python3.10/dist-packages (from h5netcdf>=1.0.2->arviz>=0.13.0->pymc>=5.0.0->covid19_inference) (3.9.0)\n",
            "Requirement already satisfied: parso<0.9.0,>=0.8.3 in /usr/local/lib/python3.10/dist-packages (from jedi>=0.16->ipython>=6.0->watermark->covid19_inference) (0.8.3)\n",
            "Requirement already satisfied: ptyprocess>=0.5 in /usr/local/lib/python3.10/dist-packages (from pexpect>4.3->ipython>=6.0->watermark->covid19_inference) (0.7.0)\n",
            "Requirement already satisfied: wcwidth in /usr/local/lib/python3.10/dist-packages (from prompt-toolkit!=3.0.0,!=3.0.1,<3.1.0,>=2.0.0->ipython>=6.0->watermark->covid19_inference) (0.2.10)\n",
            "The autoreload extension is already loaded. To reload it, use:\n",
            "  %reload_ext autoreload\n"
          ]
        }
      ],
      "source": [
        "# use 1 thread per chain\n",
        "%env OMP_NUM_THREADS=1\n",
        "\n",
        "!pip install covid19_inference\n",
        "%load_ext autoreload\n",
        "%autoreload 2\n",
        "import pytensor\n",
        "import pymc as pm"
      ]
    },
    {
      "cell_type": "markdown",
      "metadata": {
        "id": "9FtxDRZLeKaJ"
      },
      "source": []
    },
    {
      "cell_type": "markdown",
      "metadata": {
        "id": "iX-kpTBVQk5X"
      },
      "source": [
        "\n",
        "\n",
        "# Beispiel für Deutschland\n",
        "Hier verwenden wir JHU-Daten.\n",
        "\n",
        "\n",
        "An dieser Stelle werden zunächst die Voraussetzungen geladen. Diese sollten zuvor installiert worden sein, damit wir diese auch importieren können.\n"
      ]
    },
    {
      "cell_type": "code",
      "execution_count": null,
      "metadata": {
        "id": "acus8X8YQk5Y"
      },
      "outputs": [],
      "source": [
        "import datetime\n",
        "import sys\n",
        "import numpy as np\n",
        "import matplotlib as mpl\n",
        "import matplotlib.pyplot as plt\n",
        "import pytensor.tensor as at\n",
        "import pymc as pm\n",
        "import timeit"
      ]
    },
    {
      "cell_type": "markdown",
      "metadata": {
        "id": "cxXXHta-gi_s"
      },
      "source": [
        "Nun importieren wir das installierte Modul `covid19_inference`"
      ]
    },
    {
      "cell_type": "code",
      "execution_count": null,
      "metadata": {
        "id": "iCvB2HUBQk5Y"
      },
      "outputs": [],
      "source": [
        "\n",
        "try:\n",
        "    import covid19_inference as cov19\n",
        "except ModuleNotFoundError:\n",
        "    sys.path.append(\"../../\")\n",
        "    import covid19_inference as cov19"
      ]
    },
    {
      "cell_type": "markdown",
      "metadata": {
        "id": "SXI8EaROQk5Y"
      },
      "source": [
        "\n",
        "## Datengenerierung\n",
        "\n",
        "Als nächstes wir das Datenset geladen bzw. heruntergeladen. Es gibt insgesamt viele möglichen Download-Ressourcen, jedoch verwenden wir in diesem Fall den von der John Hopkins Universität.\n",
        "[Github-Repository Link für die csv-Datei](https://raw.githubusercontent.com/CSSEGISandData/COVID-19/master/csse_covid_19_data/csse_covid_19_time_series/time_series_covid19_confirmed_global.csv)\n"
      ]
    },
    {
      "cell_type": "code",
      "execution_count": null,
      "metadata": {
        "id": "su3jWZ_fQk5Z"
      },
      "outputs": [],
      "source": [
        "jhu = (\n",
        "    cov19.data_retrieval.JHU()\n",
        ")\n",
        "jhu.download_all_available_data(force_download=False)"
      ]
    },
    {
      "cell_type": "markdown",
      "metadata": {
        "id": "fgUAONEMQk5Z"
      },
      "source": [
        "Wir können auf die Daten nun mithilfe von jhu.daten zugreifen.\n",
        "\n",
        "Wir erstellen erstmal einen intialen Zeitraum vom 10.03.2020 bis zum 16.04.2020\n"
      ]
    },
    {
      "cell_type": "code",
      "execution_count": null,
      "metadata": {
        "id": "1OIHd1R4Qk5Z"
      },
      "outputs": [],
      "source": [
        "bd = datetime.datetime(2020, 3, 10)  # For the date filter\n",
        "ed = datetime.datetime(2020, 6, 10)"
      ]
    },
    {
      "cell_type": "markdown",
      "metadata": {
        "id": "LsFyHaexhIKX"
      },
      "source": [
        "Hier werden die totalen Fallzahlen bzw. neu gemeldeten Fallzahlen aus dem Datensatz gefiltert. Wir geben dabei den Üebrgabeparameter `country=\"Germany\"` an, da wir die Datenanalyse für Deutschland durchführen wollen."
      ]
    },
    {
      "cell_type": "code",
      "execution_count": null,
      "metadata": {
        "id": "KpFI3-pJQk5a"
      },
      "outputs": [],
      "source": [
        "total_cases_obs = jhu.get_total(\n",
        "    country=\"Germany\", data_begin=bd, data_end=ed\n",
        ")\n",
        "new_cases_obs = jhu.get_new(\n",
        "    country=\"Germany\", data_begin=bd, data_end=ed\n",
        ")"
      ]
    },
    {
      "cell_type": "markdown",
      "metadata": {
        "id": "vrjFzgp4Qk5a"
      },
      "source": [
        "\n",
        "\n",
        "## Modellerstellung\n",
        "Um das Modell zu erstellen, werden zunächst einige Parameter gesetzt.\n",
        "\n",
        "\n",
        "*   diff_data_sim\n",
        "*   num_days_forecast\n",
        "\n",
        "\n"
      ]
    },
    {
      "cell_type": "code",
      "execution_count": null,
      "metadata": {
        "id": "IDFOW3ASQk5b"
      },
      "outputs": [],
      "source": [
        "diff_data_sim = 16\n",
        "num_days_forecast = 10"
      ]
    },
    {
      "cell_type": "markdown",
      "metadata": {
        "id": "Ia40Fr3via-X"
      },
      "source": [
        "*   `prior_date_mild_dist_begin`: Wir setzen einen Zeitpunkt fest für den Beginn der ersten politischen Maßnahme\n",
        "*   `prior_date_strong_dist_begin`: Wir setzen einen Zeitpunkt für die nächste politische Maßnahme\n",
        "*   `prior_date_contact_ban_begin`: Wir setzen einen Zeitpunkt für das Einsetzen der ersten Kontaktsperre"
      ]
    },
    {
      "cell_type": "code",
      "execution_count": null,
      "metadata": {
        "id": "naqgTJyYQk5b"
      },
      "outputs": [],
      "source": [
        "# We set the priors for the changepoints here\n",
        "prior_date_mild_dist_begin = datetime.datetime(2020, 3, 9)\n",
        "prior_date_strong_dist_begin = datetime.datetime(2020, 3, 16)\n",
        "prior_date_contact_ban_begin = datetime.datetime(2020, 3, 23)"
      ]
    },
    {
      "cell_type": "markdown",
      "metadata": {
        "id": "XapfO43IixJC"
      },
      "source": [
        "\n",
        "*   `change_points`: Ein Dictionary, das jeweils Einträge für die 3 politischen Maßnahmen enthält. Dazu werden jeweils Parameter gesetzt, wie der Prior für die Ansteckungsrate λ\n",
        "*   pr_mean_date_transient\n",
        "*   pr_sigma_date_transient\n",
        "*   pr_median_lambda\n",
        "*   pr_sigma_lambda"
      ]
    },
    {
      "cell_type": "code",
      "execution_count": null,
      "metadata": {
        "id": "kxgIDXEcQk5b"
      },
      "outputs": [],
      "source": [
        "change_points = [\n",
        "    dict(\n",
        "        pr_mean_date_transient=prior_date_mild_dist_begin,\n",
        "        pr_sigma_date_transient=3,\n",
        "        pr_median_lambda=0.2,\n",
        "        pr_sigma_lambda=1,\n",
        "\n",
        "    ),\n",
        "    dict(\n",
        "        pr_mean_date_transient=prior_date_strong_dist_begin,\n",
        "        pr_sigma_date_transient=1.5,\n",
        "        pr_median_lambda=1 / 8,\n",
        "        pr_sigma_lambda=1,\n",
        "    ),\n",
        "    dict(\n",
        "        pr_mean_date_transient=prior_date_contact_ban_begin,\n",
        "        pr_sigma_date_transient=1.5,\n",
        "        pr_median_lambda=1 / 8 / 2,\n",
        "        pr_sigma_lambda=1,\n",
        "    ),\n",
        "]"
      ]
    },
    {
      "cell_type": "markdown",
      "metadata": {
        "id": "SkUlZ8HgQk5b"
      },
      "source": [
        "*  `params_model:` Ein Dictionary, das verschiedene Parameter enthält. Zum Einen die neu gemeldeten Fallzahlen, aber auch die Länge der Vorhersage sowie die Anzahl der Population\n",
        "*   `pr_delay`: Hier wollen wir den Prior setzen für den Parameter der Meldeverzögerung\n"
      ]
    },
    {
      "cell_type": "code",
      "execution_count": null,
      "metadata": {
        "id": "UmVjiaUaQk5b"
      },
      "outputs": [],
      "source": [
        "params_model = dict(\n",
        "    new_cases_obs=new_cases_obs[:],\n",
        "    data_begin=bd,\n",
        "    fcast_len=num_days_forecast,\n",
        "    diff_data_sim=diff_data_sim,\n",
        "    N_population=4e6,\n",
        ")\n",
        "# Median of the prior for the delay in case reporting, we assume 10 days\n",
        "pr_delay = 10"
      ]
    },
    {
      "cell_type": "markdown",
      "metadata": {
        "id": "TRxxrqgzQk5c"
      },
      "source": [
        "Mit dem zuvor definieren params_model wollen wir nun ein sogenanntes Cov19-Modell erstellen. Dazu initialiseren wir dieses Objekt mit einem Array für die zeitabhängige Infektionsrate λ (`lambda_t_log`). Ferner setzen wir die Priori-Verteilung der Genesungsrate μ. Zudem wird auch `I_begin` durch einen Prior bestimmt.\n",
        "Um das SIR-Modell zu erstellen benötigt es dann die zeitabhängige Infektionsrate (`lambda_t_log`), die Genesungsrate μ und `I_begin`. Wir speichern das SIR-Modell in der Variablen `new_cases`. Diese wird dann verändert mit der `delay`-Funktion, in der wir die Meldungen um einen lognormal Verzögerungswert verändern. Als letztes wird noch der Wochenendeffekt betrachtet. Hier wird die Funktion `week_modulation` auf das SIR-Modell angewandt.\n",
        "Zuletzt wird noch die `student_t_likelihoo`d-Funktion auf das SIR-Modell angewandt.\n"
      ]
    },
    {
      "cell_type": "markdown",
      "metadata": {},
      "source": [
        "An dieser Stelle wird eine Liste an Priori-Median-Lambda_0-Werten erzeugt. \n",
        "Diese haben einen Einfluss auf die Berechnung des Parameters I_0"
      ]
    },
    {
      "cell_type": "code",
      "execution_count": null,
      "metadata": {
        "colab": {
          "base_uri": "https://localhost:8080/",
          "height": 791
        },
        "id": "8huHr0CgEOfE",
        "outputId": "548c85f7-92da-4a8b-e8e8-144a3cf3e1ec"
      },
      "outputs": [
        {
          "name": "stderr",
          "output_type": "stream",
          "text": [
            "WARNING:pymc.sampling.mcmc:Only 100 samples in chain.\n"
          ]
        },
        {
          "data": {
            "text/html": [
              "\n",
              "<style>\n",
              "    /* Turns off some styling */\n",
              "    progress {\n",
              "        /* gets rid of default border in Firefox and Opera. */\n",
              "        border: none;\n",
              "        /* Needs to be in here for Safari polyfill so background images work as expected. */\n",
              "        background-size: auto;\n",
              "    }\n",
              "    progress:not([value]), progress:not([value])::-webkit-progress-bar {\n",
              "        background: repeating-linear-gradient(45deg, #7e7e7e, #7e7e7e 10px, #5c5c5c 10px, #5c5c5c 20px);\n",
              "    }\n",
              "    .progress-bar-interrupted, .progress-bar-interrupted::-webkit-progress-bar {\n",
              "        background: #F44336;\n",
              "    }\n",
              "</style>\n"
            ],
            "text/plain": [
              "<IPython.core.display.HTML object>"
            ]
          },
          "metadata": {},
          "output_type": "display_data"
        },
        {
          "data": {
            "text/html": [
              "\n",
              "    <div>\n",
              "      <progress value='19396' class='' max='200000' style='width:300px; height:20px; vertical-align: middle;'></progress>\n",
              "      9.70% [19396/200000 01:18&lt;12:12 Average Loss = 837.48]\n",
              "    </div>\n",
              "    "
            ],
            "text/plain": [
              "<IPython.core.display.HTML object>"
            ]
          },
          "metadata": {},
          "output_type": "display_data"
        },
        {
          "data": {
            "text/html": [
              "\n",
              "<style>\n",
              "    /* Turns off some styling */\n",
              "    progress {\n",
              "        /* gets rid of default border in Firefox and Opera. */\n",
              "        border: none;\n",
              "        /* Needs to be in here for Safari polyfill so background images work as expected. */\n",
              "        background-size: auto;\n",
              "    }\n",
              "    progress:not([value]), progress:not([value])::-webkit-progress-bar {\n",
              "        background: repeating-linear-gradient(45deg, #7e7e7e, #7e7e7e 10px, #5c5c5c 10px, #5c5c5c 20px);\n",
              "    }\n",
              "    .progress-bar-interrupted, .progress-bar-interrupted::-webkit-progress-bar {\n",
              "        background: #F44336;\n",
              "    }\n",
              "</style>\n"
            ],
            "text/plain": [
              "<IPython.core.display.HTML object>"
            ]
          },
          "metadata": {},
          "output_type": "display_data"
        },
        {
          "data": {
            "text/html": [
              "\n",
              "    <div>\n",
              "      <progress value='150' class='' max='150' style='width:300px; height:20px; vertical-align: middle;'></progress>\n",
              "      100.00% [150/150 02:51&lt;00:00 Sampling chain 0, 0 divergences]\n",
              "    </div>\n",
              "    "
            ],
            "text/plain": [
              "<IPython.core.display.HTML object>"
            ]
          },
          "metadata": {},
          "output_type": "display_data"
        },
        {
          "data": {
            "text/html": [
              "\n",
              "<style>\n",
              "    /* Turns off some styling */\n",
              "    progress {\n",
              "        /* gets rid of default border in Firefox and Opera. */\n",
              "        border: none;\n",
              "        /* Needs to be in here for Safari polyfill so background images work as expected. */\n",
              "        background-size: auto;\n",
              "    }\n",
              "    progress:not([value]), progress:not([value])::-webkit-progress-bar {\n",
              "        background: repeating-linear-gradient(45deg, #7e7e7e, #7e7e7e 10px, #5c5c5c 10px, #5c5c5c 20px);\n",
              "    }\n",
              "    .progress-bar-interrupted, .progress-bar-interrupted::-webkit-progress-bar {\n",
              "        background: #F44336;\n",
              "    }\n",
              "</style>\n"
            ],
            "text/plain": [
              "<IPython.core.display.HTML object>"
            ]
          },
          "metadata": {},
          "output_type": "display_data"
        },
        {
          "data": {
            "text/html": [
              "\n",
              "    <div>\n",
              "      <progress value='150' class='' max='150' style='width:300px; height:20px; vertical-align: middle;'></progress>\n",
              "      100.00% [150/150 03:24&lt;00:00 Sampling chain 1, 0 divergences]\n",
              "    </div>\n",
              "    "
            ],
            "text/plain": [
              "<IPython.core.display.HTML object>"
            ]
          },
          "metadata": {},
          "output_type": "display_data"
        },
        {
          "name": "stderr",
          "output_type": "stream",
          "text": [
            "WARNING:pymc.sampling.mcmc:Only 100 samples in chain.\n"
          ]
        },
        {
          "data": {
            "text/html": [
              "\n",
              "<style>\n",
              "    /* Turns off some styling */\n",
              "    progress {\n",
              "        /* gets rid of default border in Firefox and Opera. */\n",
              "        border: none;\n",
              "        /* Needs to be in here for Safari polyfill so background images work as expected. */\n",
              "        background-size: auto;\n",
              "    }\n",
              "    progress:not([value]), progress:not([value])::-webkit-progress-bar {\n",
              "        background: repeating-linear-gradient(45deg, #7e7e7e, #7e7e7e 10px, #5c5c5c 10px, #5c5c5c 20px);\n",
              "    }\n",
              "    .progress-bar-interrupted, .progress-bar-interrupted::-webkit-progress-bar {\n",
              "        background: #F44336;\n",
              "    }\n",
              "</style>\n"
            ],
            "text/plain": [
              "<IPython.core.display.HTML object>"
            ]
          },
          "metadata": {},
          "output_type": "display_data"
        },
        {
          "data": {
            "text/html": [
              "\n",
              "    <div>\n",
              "      <progress value='19887' class='' max='200000' style='width:300px; height:20px; vertical-align: middle;'></progress>\n",
              "      9.94% [19887/200000 01:24&lt;12:49 Average Loss = 839.43]\n",
              "    </div>\n",
              "    "
            ],
            "text/plain": [
              "<IPython.core.display.HTML object>"
            ]
          },
          "metadata": {},
          "output_type": "display_data"
        },
        {
          "data": {
            "text/html": [
              "\n",
              "<style>\n",
              "    /* Turns off some styling */\n",
              "    progress {\n",
              "        /* gets rid of default border in Firefox and Opera. */\n",
              "        border: none;\n",
              "        /* Needs to be in here for Safari polyfill so background images work as expected. */\n",
              "        background-size: auto;\n",
              "    }\n",
              "    progress:not([value]), progress:not([value])::-webkit-progress-bar {\n",
              "        background: repeating-linear-gradient(45deg, #7e7e7e, #7e7e7e 10px, #5c5c5c 10px, #5c5c5c 20px);\n",
              "    }\n",
              "    .progress-bar-interrupted, .progress-bar-interrupted::-webkit-progress-bar {\n",
              "        background: #F44336;\n",
              "    }\n",
              "</style>\n"
            ],
            "text/plain": [
              "<IPython.core.display.HTML object>"
            ]
          },
          "metadata": {},
          "output_type": "display_data"
        },
        {
          "data": {
            "text/html": [
              "\n",
              "    <div>\n",
              "      <progress value='150' class='' max='150' style='width:300px; height:20px; vertical-align: middle;'></progress>\n",
              "      100.00% [150/150 02:40&lt;00:00 Sampling chain 0, 0 divergences]\n",
              "    </div>\n",
              "    "
            ],
            "text/plain": [
              "<IPython.core.display.HTML object>"
            ]
          },
          "metadata": {},
          "output_type": "display_data"
        },
        {
          "data": {
            "text/html": [
              "\n",
              "<style>\n",
              "    /* Turns off some styling */\n",
              "    progress {\n",
              "        /* gets rid of default border in Firefox and Opera. */\n",
              "        border: none;\n",
              "        /* Needs to be in here for Safari polyfill so background images work as expected. */\n",
              "        background-size: auto;\n",
              "    }\n",
              "    progress:not([value]), progress:not([value])::-webkit-progress-bar {\n",
              "        background: repeating-linear-gradient(45deg, #7e7e7e, #7e7e7e 10px, #5c5c5c 10px, #5c5c5c 20px);\n",
              "    }\n",
              "    .progress-bar-interrupted, .progress-bar-interrupted::-webkit-progress-bar {\n",
              "        background: #F44336;\n",
              "    }\n",
              "</style>\n"
            ],
            "text/plain": [
              "<IPython.core.display.HTML object>"
            ]
          },
          "metadata": {},
          "output_type": "display_data"
        },
        {
          "data": {
            "text/html": [
              "\n",
              "    <div>\n",
              "      <progress value='150' class='' max='150' style='width:300px; height:20px; vertical-align: middle;'></progress>\n",
              "      100.00% [150/150 03:31&lt;00:00 Sampling chain 1, 0 divergences]\n",
              "    </div>\n",
              "    "
            ],
            "text/plain": [
              "<IPython.core.display.HTML object>"
            ]
          },
          "metadata": {},
          "output_type": "display_data"
        },
        {
          "name": "stderr",
          "output_type": "stream",
          "text": [
            "WARNING:pymc.sampling.mcmc:Only 100 samples in chain.\n"
          ]
        },
        {
          "data": {
            "text/html": [
              "\n",
              "<style>\n",
              "    /* Turns off some styling */\n",
              "    progress {\n",
              "        /* gets rid of default border in Firefox and Opera. */\n",
              "        border: none;\n",
              "        /* Needs to be in here for Safari polyfill so background images work as expected. */\n",
              "        background-size: auto;\n",
              "    }\n",
              "    progress:not([value]), progress:not([value])::-webkit-progress-bar {\n",
              "        background: repeating-linear-gradient(45deg, #7e7e7e, #7e7e7e 10px, #5c5c5c 10px, #5c5c5c 20px);\n",
              "    }\n",
              "    .progress-bar-interrupted, .progress-bar-interrupted::-webkit-progress-bar {\n",
              "        background: #F44336;\n",
              "    }\n",
              "</style>\n"
            ],
            "text/plain": [
              "<IPython.core.display.HTML object>"
            ]
          },
          "metadata": {},
          "output_type": "display_data"
        },
        {
          "data": {
            "text/html": [
              "\n",
              "    <div>\n",
              "      <progress value='12477' class='' max='200000' style='width:300px; height:20px; vertical-align: middle;'></progress>\n",
              "      6.24% [12477/200000 00:54&lt;13:33 Average Loss = 875.19]\n",
              "    </div>\n",
              "    "
            ],
            "text/plain": [
              "<IPython.core.display.HTML object>"
            ]
          },
          "metadata": {},
          "output_type": "display_data"
        },
        {
          "data": {
            "text/html": [
              "\n",
              "<style>\n",
              "    /* Turns off some styling */\n",
              "    progress {\n",
              "        /* gets rid of default border in Firefox and Opera. */\n",
              "        border: none;\n",
              "        /* Needs to be in here for Safari polyfill so background images work as expected. */\n",
              "        background-size: auto;\n",
              "    }\n",
              "    progress:not([value]), progress:not([value])::-webkit-progress-bar {\n",
              "        background: repeating-linear-gradient(45deg, #7e7e7e, #7e7e7e 10px, #5c5c5c 10px, #5c5c5c 20px);\n",
              "    }\n",
              "    .progress-bar-interrupted, .progress-bar-interrupted::-webkit-progress-bar {\n",
              "        background: #F44336;\n",
              "    }\n",
              "</style>\n"
            ],
            "text/plain": [
              "<IPython.core.display.HTML object>"
            ]
          },
          "metadata": {},
          "output_type": "display_data"
        },
        {
          "data": {
            "text/html": [
              "\n",
              "    <div>\n",
              "      <progress value='150' class='' max='150' style='width:300px; height:20px; vertical-align: middle;'></progress>\n",
              "      100.00% [150/150 04:45&lt;00:00 Sampling chain 0, 0 divergences]\n",
              "    </div>\n",
              "    "
            ],
            "text/plain": [
              "<IPython.core.display.HTML object>"
            ]
          },
          "metadata": {},
          "output_type": "display_data"
        },
        {
          "data": {
            "text/html": [
              "\n",
              "<style>\n",
              "    /* Turns off some styling */\n",
              "    progress {\n",
              "        /* gets rid of default border in Firefox and Opera. */\n",
              "        border: none;\n",
              "        /* Needs to be in here for Safari polyfill so background images work as expected. */\n",
              "        background-size: auto;\n",
              "    }\n",
              "    progress:not([value]), progress:not([value])::-webkit-progress-bar {\n",
              "        background: repeating-linear-gradient(45deg, #7e7e7e, #7e7e7e 10px, #5c5c5c 10px, #5c5c5c 20px);\n",
              "    }\n",
              "    .progress-bar-interrupted, .progress-bar-interrupted::-webkit-progress-bar {\n",
              "        background: #F44336;\n",
              "    }\n",
              "</style>\n"
            ],
            "text/plain": [
              "<IPython.core.display.HTML object>"
            ]
          },
          "metadata": {},
          "output_type": "display_data"
        },
        {
          "data": {
            "text/html": [
              "\n",
              "    <div>\n",
              "      <progress value='150' class='' max='150' style='width:300px; height:20px; vertical-align: middle;'></progress>\n",
              "      100.00% [150/150 04:16&lt;00:00 Sampling chain 1, 0 divergences]\n",
              "    </div>\n",
              "    "
            ],
            "text/plain": [
              "<IPython.core.display.HTML object>"
            ]
          },
          "metadata": {},
          "output_type": "display_data"
        },
        {
          "name": "stderr",
          "output_type": "stream",
          "text": [
            "WARNING:pymc.sampling.mcmc:Only 100 samples in chain.\n"
          ]
        },
        {
          "data": {
            "text/html": [
              "\n",
              "<style>\n",
              "    /* Turns off some styling */\n",
              "    progress {\n",
              "        /* gets rid of default border in Firefox and Opera. */\n",
              "        border: none;\n",
              "        /* Needs to be in here for Safari polyfill so background images work as expected. */\n",
              "        background-size: auto;\n",
              "    }\n",
              "    progress:not([value]), progress:not([value])::-webkit-progress-bar {\n",
              "        background: repeating-linear-gradient(45deg, #7e7e7e, #7e7e7e 10px, #5c5c5c 10px, #5c5c5c 20px);\n",
              "    }\n",
              "    .progress-bar-interrupted, .progress-bar-interrupted::-webkit-progress-bar {\n",
              "        background: #F44336;\n",
              "    }\n",
              "</style>\n"
            ],
            "text/plain": [
              "<IPython.core.display.HTML object>"
            ]
          },
          "metadata": {},
          "output_type": "display_data"
        },
        {
          "data": {
            "text/html": [
              "\n",
              "    <div>\n",
              "      <progress value='17565' class='' max='200000' style='width:300px; height:20px; vertical-align: middle;'></progress>\n",
              "      8.78% [17565/200000 01:14&lt;12:58 Average Loss = 851.81]\n",
              "    </div>\n",
              "    "
            ],
            "text/plain": [
              "<IPython.core.display.HTML object>"
            ]
          },
          "metadata": {},
          "output_type": "display_data"
        },
        {
          "data": {
            "text/html": [
              "\n",
              "<style>\n",
              "    /* Turns off some styling */\n",
              "    progress {\n",
              "        /* gets rid of default border in Firefox and Opera. */\n",
              "        border: none;\n",
              "        /* Needs to be in here for Safari polyfill so background images work as expected. */\n",
              "        background-size: auto;\n",
              "    }\n",
              "    progress:not([value]), progress:not([value])::-webkit-progress-bar {\n",
              "        background: repeating-linear-gradient(45deg, #7e7e7e, #7e7e7e 10px, #5c5c5c 10px, #5c5c5c 20px);\n",
              "    }\n",
              "    .progress-bar-interrupted, .progress-bar-interrupted::-webkit-progress-bar {\n",
              "        background: #F44336;\n",
              "    }\n",
              "</style>\n"
            ],
            "text/plain": [
              "<IPython.core.display.HTML object>"
            ]
          },
          "metadata": {},
          "output_type": "display_data"
        },
        {
          "data": {
            "text/html": [
              "\n",
              "    <div>\n",
              "      <progress value='150' class='' max='150' style='width:300px; height:20px; vertical-align: middle;'></progress>\n",
              "      100.00% [150/150 03:13&lt;00:00 Sampling chain 0, 0 divergences]\n",
              "    </div>\n",
              "    "
            ],
            "text/plain": [
              "<IPython.core.display.HTML object>"
            ]
          },
          "metadata": {},
          "output_type": "display_data"
        },
        {
          "data": {
            "text/html": [
              "\n",
              "<style>\n",
              "    /* Turns off some styling */\n",
              "    progress {\n",
              "        /* gets rid of default border in Firefox and Opera. */\n",
              "        border: none;\n",
              "        /* Needs to be in here for Safari polyfill so background images work as expected. */\n",
              "        background-size: auto;\n",
              "    }\n",
              "    progress:not([value]), progress:not([value])::-webkit-progress-bar {\n",
              "        background: repeating-linear-gradient(45deg, #7e7e7e, #7e7e7e 10px, #5c5c5c 10px, #5c5c5c 20px);\n",
              "    }\n",
              "    .progress-bar-interrupted, .progress-bar-interrupted::-webkit-progress-bar {\n",
              "        background: #F44336;\n",
              "    }\n",
              "</style>\n"
            ],
            "text/plain": [
              "<IPython.core.display.HTML object>"
            ]
          },
          "metadata": {},
          "output_type": "display_data"
        },
        {
          "data": {
            "text/html": [
              "\n",
              "    <div>\n",
              "      <progress value='150' class='' max='150' style='width:300px; height:20px; vertical-align: middle;'></progress>\n",
              "      100.00% [150/150 02:58&lt;00:00 Sampling chain 1, 0 divergences]\n",
              "    </div>\n",
              "    "
            ],
            "text/plain": [
              "<IPython.core.display.HTML object>"
            ]
          },
          "metadata": {},
          "output_type": "display_data"
        },
        {
          "name": "stderr",
          "output_type": "stream",
          "text": [
            "WARNING:pymc.sampling.mcmc:Only 100 samples in chain.\n"
          ]
        },
        {
          "data": {
            "text/html": [
              "\n",
              "<style>\n",
              "    /* Turns off some styling */\n",
              "    progress {\n",
              "        /* gets rid of default border in Firefox and Opera. */\n",
              "        border: none;\n",
              "        /* Needs to be in here for Safari polyfill so background images work as expected. */\n",
              "        background-size: auto;\n",
              "    }\n",
              "    progress:not([value]), progress:not([value])::-webkit-progress-bar {\n",
              "        background: repeating-linear-gradient(45deg, #7e7e7e, #7e7e7e 10px, #5c5c5c 10px, #5c5c5c 20px);\n",
              "    }\n",
              "    .progress-bar-interrupted, .progress-bar-interrupted::-webkit-progress-bar {\n",
              "        background: #F44336;\n",
              "    }\n",
              "</style>\n"
            ],
            "text/plain": [
              "<IPython.core.display.HTML object>"
            ]
          },
          "metadata": {},
          "output_type": "display_data"
        },
        {
          "data": {
            "text/html": [
              "\n",
              "    <div>\n",
              "      <progress value='16474' class='' max='200000' style='width:300px; height:20px; vertical-align: middle;'></progress>\n",
              "      8.24% [16474/200000 01:11&lt;13:16 Average Loss = 856.26]\n",
              "    </div>\n",
              "    "
            ],
            "text/plain": [
              "<IPython.core.display.HTML object>"
            ]
          },
          "metadata": {},
          "output_type": "display_data"
        },
        {
          "data": {
            "text/html": [
              "\n",
              "<style>\n",
              "    /* Turns off some styling */\n",
              "    progress {\n",
              "        /* gets rid of default border in Firefox and Opera. */\n",
              "        border: none;\n",
              "        /* Needs to be in here for Safari polyfill so background images work as expected. */\n",
              "        background-size: auto;\n",
              "    }\n",
              "    progress:not([value]), progress:not([value])::-webkit-progress-bar {\n",
              "        background: repeating-linear-gradient(45deg, #7e7e7e, #7e7e7e 10px, #5c5c5c 10px, #5c5c5c 20px);\n",
              "    }\n",
              "    .progress-bar-interrupted, .progress-bar-interrupted::-webkit-progress-bar {\n",
              "        background: #F44336;\n",
              "    }\n",
              "</style>\n"
            ],
            "text/plain": [
              "<IPython.core.display.HTML object>"
            ]
          },
          "metadata": {},
          "output_type": "display_data"
        },
        {
          "data": {
            "text/html": [
              "\n",
              "    <div>\n",
              "      <progress value='150' class='' max='150' style='width:300px; height:20px; vertical-align: middle;'></progress>\n",
              "      100.00% [150/150 03:38&lt;00:00 Sampling chain 0, 0 divergences]\n",
              "    </div>\n",
              "    "
            ],
            "text/plain": [
              "<IPython.core.display.HTML object>"
            ]
          },
          "metadata": {},
          "output_type": "display_data"
        },
        {
          "data": {
            "text/html": [
              "\n",
              "<style>\n",
              "    /* Turns off some styling */\n",
              "    progress {\n",
              "        /* gets rid of default border in Firefox and Opera. */\n",
              "        border: none;\n",
              "        /* Needs to be in here for Safari polyfill so background images work as expected. */\n",
              "        background-size: auto;\n",
              "    }\n",
              "    progress:not([value]), progress:not([value])::-webkit-progress-bar {\n",
              "        background: repeating-linear-gradient(45deg, #7e7e7e, #7e7e7e 10px, #5c5c5c 10px, #5c5c5c 20px);\n",
              "    }\n",
              "    .progress-bar-interrupted, .progress-bar-interrupted::-webkit-progress-bar {\n",
              "        background: #F44336;\n",
              "    }\n",
              "</style>\n"
            ],
            "text/plain": [
              "<IPython.core.display.HTML object>"
            ]
          },
          "metadata": {},
          "output_type": "display_data"
        },
        {
          "data": {
            "text/html": [
              "\n",
              "    <div>\n",
              "      <progress value='150' class='' max='150' style='width:300px; height:20px; vertical-align: middle;'></progress>\n",
              "      100.00% [150/150 03:43&lt;00:00 Sampling chain 1, 0 divergences]\n",
              "    </div>\n",
              "    "
            ],
            "text/plain": [
              "<IPython.core.display.HTML object>"
            ]
          },
          "metadata": {},
          "output_type": "display_data"
        },
        {
          "name": "stderr",
          "output_type": "stream",
          "text": [
            "WARNING:pymc.sampling.mcmc:Only 100 samples in chain.\n"
          ]
        },
        {
          "data": {
            "text/html": [
              "\n",
              "<style>\n",
              "    /* Turns off some styling */\n",
              "    progress {\n",
              "        /* gets rid of default border in Firefox and Opera. */\n",
              "        border: none;\n",
              "        /* Needs to be in here for Safari polyfill so background images work as expected. */\n",
              "        background-size: auto;\n",
              "    }\n",
              "    progress:not([value]), progress:not([value])::-webkit-progress-bar {\n",
              "        background: repeating-linear-gradient(45deg, #7e7e7e, #7e7e7e 10px, #5c5c5c 10px, #5c5c5c 20px);\n",
              "    }\n",
              "    .progress-bar-interrupted, .progress-bar-interrupted::-webkit-progress-bar {\n",
              "        background: #F44336;\n",
              "    }\n",
              "</style>\n"
            ],
            "text/plain": [
              "<IPython.core.display.HTML object>"
            ]
          },
          "metadata": {},
          "output_type": "display_data"
        },
        {
          "data": {
            "text/html": [
              "\n",
              "    <div>\n",
              "      <progress value='15972' class='' max='200000' style='width:300px; height:20px; vertical-align: middle;'></progress>\n",
              "      7.99% [15972/200000 01:08&lt;13:12 Average Loss = 857.45]\n",
              "    </div>\n",
              "    "
            ],
            "text/plain": [
              "<IPython.core.display.HTML object>"
            ]
          },
          "metadata": {},
          "output_type": "display_data"
        },
        {
          "data": {
            "text/html": [
              "\n",
              "<style>\n",
              "    /* Turns off some styling */\n",
              "    progress {\n",
              "        /* gets rid of default border in Firefox and Opera. */\n",
              "        border: none;\n",
              "        /* Needs to be in here for Safari polyfill so background images work as expected. */\n",
              "        background-size: auto;\n",
              "    }\n",
              "    progress:not([value]), progress:not([value])::-webkit-progress-bar {\n",
              "        background: repeating-linear-gradient(45deg, #7e7e7e, #7e7e7e 10px, #5c5c5c 10px, #5c5c5c 20px);\n",
              "    }\n",
              "    .progress-bar-interrupted, .progress-bar-interrupted::-webkit-progress-bar {\n",
              "        background: #F44336;\n",
              "    }\n",
              "</style>\n"
            ],
            "text/plain": [
              "<IPython.core.display.HTML object>"
            ]
          },
          "metadata": {},
          "output_type": "display_data"
        },
        {
          "data": {
            "text/html": [
              "\n",
              "    <div>\n",
              "      <progress value='150' class='' max='150' style='width:300px; height:20px; vertical-align: middle;'></progress>\n",
              "      100.00% [150/150 04:06&lt;00:00 Sampling chain 0, 0 divergences]\n",
              "    </div>\n",
              "    "
            ],
            "text/plain": [
              "<IPython.core.display.HTML object>"
            ]
          },
          "metadata": {},
          "output_type": "display_data"
        },
        {
          "data": {
            "text/html": [
              "\n",
              "<style>\n",
              "    /* Turns off some styling */\n",
              "    progress {\n",
              "        /* gets rid of default border in Firefox and Opera. */\n",
              "        border: none;\n",
              "        /* Needs to be in here for Safari polyfill so background images work as expected. */\n",
              "        background-size: auto;\n",
              "    }\n",
              "    progress:not([value]), progress:not([value])::-webkit-progress-bar {\n",
              "        background: repeating-linear-gradient(45deg, #7e7e7e, #7e7e7e 10px, #5c5c5c 10px, #5c5c5c 20px);\n",
              "    }\n",
              "    .progress-bar-interrupted, .progress-bar-interrupted::-webkit-progress-bar {\n",
              "        background: #F44336;\n",
              "    }\n",
              "</style>\n"
            ],
            "text/plain": [
              "<IPython.core.display.HTML object>"
            ]
          },
          "metadata": {},
          "output_type": "display_data"
        },
        {
          "data": {
            "text/html": [
              "\n",
              "    <div>\n",
              "      <progress value='150' class='' max='150' style='width:300px; height:20px; vertical-align: middle;'></progress>\n",
              "      100.00% [150/150 03:25&lt;00:00 Sampling chain 1, 0 divergences]\n",
              "    </div>\n",
              "    "
            ],
            "text/plain": [
              "<IPython.core.display.HTML object>"
            ]
          },
          "metadata": {},
          "output_type": "display_data"
        },
        {
          "name": "stderr",
          "output_type": "stream",
          "text": [
            "WARNING:pymc.sampling.mcmc:Only 100 samples in chain.\n"
          ]
        },
        {
          "data": {
            "text/html": [
              "\n",
              "<style>\n",
              "    /* Turns off some styling */\n",
              "    progress {\n",
              "        /* gets rid of default border in Firefox and Opera. */\n",
              "        border: none;\n",
              "        /* Needs to be in here for Safari polyfill so background images work as expected. */\n",
              "        background-size: auto;\n",
              "    }\n",
              "    progress:not([value]), progress:not([value])::-webkit-progress-bar {\n",
              "        background: repeating-linear-gradient(45deg, #7e7e7e, #7e7e7e 10px, #5c5c5c 10px, #5c5c5c 20px);\n",
              "    }\n",
              "    .progress-bar-interrupted, .progress-bar-interrupted::-webkit-progress-bar {\n",
              "        background: #F44336;\n",
              "    }\n",
              "</style>\n"
            ],
            "text/plain": [
              "<IPython.core.display.HTML object>"
            ]
          },
          "metadata": {},
          "output_type": "display_data"
        },
        {
          "data": {
            "text/html": [
              "\n",
              "    <div>\n",
              "      <progress value='15766' class='' max='200000' style='width:300px; height:20px; vertical-align: middle;'></progress>\n",
              "      7.88% [15766/200000 01:05&lt;12:48 Average Loss = 859.52]\n",
              "    </div>\n",
              "    "
            ],
            "text/plain": [
              "<IPython.core.display.HTML object>"
            ]
          },
          "metadata": {},
          "output_type": "display_data"
        },
        {
          "data": {
            "text/html": [
              "\n",
              "<style>\n",
              "    /* Turns off some styling */\n",
              "    progress {\n",
              "        /* gets rid of default border in Firefox and Opera. */\n",
              "        border: none;\n",
              "        /* Needs to be in here for Safari polyfill so background images work as expected. */\n",
              "        background-size: auto;\n",
              "    }\n",
              "    progress:not([value]), progress:not([value])::-webkit-progress-bar {\n",
              "        background: repeating-linear-gradient(45deg, #7e7e7e, #7e7e7e 10px, #5c5c5c 10px, #5c5c5c 20px);\n",
              "    }\n",
              "    .progress-bar-interrupted, .progress-bar-interrupted::-webkit-progress-bar {\n",
              "        background: #F44336;\n",
              "    }\n",
              "</style>\n"
            ],
            "text/plain": [
              "<IPython.core.display.HTML object>"
            ]
          },
          "metadata": {},
          "output_type": "display_data"
        },
        {
          "data": {
            "text/html": [
              "\n",
              "    <div>\n",
              "      <progress value='150' class='' max='150' style='width:300px; height:20px; vertical-align: middle;'></progress>\n",
              "      100.00% [150/150 04:53&lt;00:00 Sampling chain 0, 0 divergences]\n",
              "    </div>\n",
              "    "
            ],
            "text/plain": [
              "<IPython.core.display.HTML object>"
            ]
          },
          "metadata": {},
          "output_type": "display_data"
        },
        {
          "data": {
            "text/html": [
              "\n",
              "<style>\n",
              "    /* Turns off some styling */\n",
              "    progress {\n",
              "        /* gets rid of default border in Firefox and Opera. */\n",
              "        border: none;\n",
              "        /* Needs to be in here for Safari polyfill so background images work as expected. */\n",
              "        background-size: auto;\n",
              "    }\n",
              "    progress:not([value]), progress:not([value])::-webkit-progress-bar {\n",
              "        background: repeating-linear-gradient(45deg, #7e7e7e, #7e7e7e 10px, #5c5c5c 10px, #5c5c5c 20px);\n",
              "    }\n",
              "    .progress-bar-interrupted, .progress-bar-interrupted::-webkit-progress-bar {\n",
              "        background: #F44336;\n",
              "    }\n",
              "</style>\n"
            ],
            "text/plain": [
              "<IPython.core.display.HTML object>"
            ]
          },
          "metadata": {},
          "output_type": "display_data"
        },
        {
          "data": {
            "text/html": [
              "\n",
              "    <div>\n",
              "      <progress value='150' class='' max='150' style='width:300px; height:20px; vertical-align: middle;'></progress>\n",
              "      100.00% [150/150 03:39&lt;00:00 Sampling chain 1, 0 divergences]\n",
              "    </div>\n",
              "    "
            ],
            "text/plain": [
              "<IPython.core.display.HTML object>"
            ]
          },
          "metadata": {},
          "output_type": "display_data"
        },
        {
          "name": "stderr",
          "output_type": "stream",
          "text": [
            "WARNING:pymc.sampling.mcmc:Only 100 samples in chain.\n"
          ]
        },
        {
          "data": {
            "text/html": [
              "\n",
              "<style>\n",
              "    /* Turns off some styling */\n",
              "    progress {\n",
              "        /* gets rid of default border in Firefox and Opera. */\n",
              "        border: none;\n",
              "        /* Needs to be in here for Safari polyfill so background images work as expected. */\n",
              "        background-size: auto;\n",
              "    }\n",
              "    progress:not([value]), progress:not([value])::-webkit-progress-bar {\n",
              "        background: repeating-linear-gradient(45deg, #7e7e7e, #7e7e7e 10px, #5c5c5c 10px, #5c5c5c 20px);\n",
              "    }\n",
              "    .progress-bar-interrupted, .progress-bar-interrupted::-webkit-progress-bar {\n",
              "        background: #F44336;\n",
              "    }\n",
              "</style>\n"
            ],
            "text/plain": [
              "<IPython.core.display.HTML object>"
            ]
          },
          "metadata": {},
          "output_type": "display_data"
        },
        {
          "data": {
            "text/html": [
              "\n",
              "    <div>\n",
              "      <progress value='16975' class='' max='200000' style='width:300px; height:20px; vertical-align: middle;'></progress>\n",
              "      8.49% [16975/200000 01:13&lt;13:07 Average Loss = 854.35]\n",
              "    </div>\n",
              "    "
            ],
            "text/plain": [
              "<IPython.core.display.HTML object>"
            ]
          },
          "metadata": {},
          "output_type": "display_data"
        },
        {
          "data": {
            "text/html": [
              "\n",
              "<style>\n",
              "    /* Turns off some styling */\n",
              "    progress {\n",
              "        /* gets rid of default border in Firefox and Opera. */\n",
              "        border: none;\n",
              "        /* Needs to be in here for Safari polyfill so background images work as expected. */\n",
              "        background-size: auto;\n",
              "    }\n",
              "    progress:not([value]), progress:not([value])::-webkit-progress-bar {\n",
              "        background: repeating-linear-gradient(45deg, #7e7e7e, #7e7e7e 10px, #5c5c5c 10px, #5c5c5c 20px);\n",
              "    }\n",
              "    .progress-bar-interrupted, .progress-bar-interrupted::-webkit-progress-bar {\n",
              "        background: #F44336;\n",
              "    }\n",
              "</style>\n"
            ],
            "text/plain": [
              "<IPython.core.display.HTML object>"
            ]
          },
          "metadata": {},
          "output_type": "display_data"
        },
        {
          "data": {
            "text/html": [
              "\n",
              "    <div>\n",
              "      <progress value='150' class='' max='150' style='width:300px; height:20px; vertical-align: middle;'></progress>\n",
              "      100.00% [150/150 03:59&lt;00:00 Sampling chain 0, 0 divergences]\n",
              "    </div>\n",
              "    "
            ],
            "text/plain": [
              "<IPython.core.display.HTML object>"
            ]
          },
          "metadata": {},
          "output_type": "display_data"
        },
        {
          "data": {
            "text/html": [
              "\n",
              "<style>\n",
              "    /* Turns off some styling */\n",
              "    progress {\n",
              "        /* gets rid of default border in Firefox and Opera. */\n",
              "        border: none;\n",
              "        /* Needs to be in here for Safari polyfill so background images work as expected. */\n",
              "        background-size: auto;\n",
              "    }\n",
              "    progress:not([value]), progress:not([value])::-webkit-progress-bar {\n",
              "        background: repeating-linear-gradient(45deg, #7e7e7e, #7e7e7e 10px, #5c5c5c 10px, #5c5c5c 20px);\n",
              "    }\n",
              "    .progress-bar-interrupted, .progress-bar-interrupted::-webkit-progress-bar {\n",
              "        background: #F44336;\n",
              "    }\n",
              "</style>\n"
            ],
            "text/plain": [
              "<IPython.core.display.HTML object>"
            ]
          },
          "metadata": {},
          "output_type": "display_data"
        },
        {
          "data": {
            "text/html": [
              "\n",
              "    <div>\n",
              "      <progress value='150' class='' max='150' style='width:300px; height:20px; vertical-align: middle;'></progress>\n",
              "      100.00% [150/150 03:32&lt;00:00 Sampling chain 1, 0 divergences]\n",
              "    </div>\n",
              "    "
            ],
            "text/plain": [
              "<IPython.core.display.HTML object>"
            ]
          },
          "metadata": {},
          "output_type": "display_data"
        },
        {
          "name": "stderr",
          "output_type": "stream",
          "text": [
            "WARNING:pymc.sampling.mcmc:Only 100 samples in chain.\n"
          ]
        },
        {
          "data": {
            "text/html": [
              "\n",
              "<style>\n",
              "    /* Turns off some styling */\n",
              "    progress {\n",
              "        /* gets rid of default border in Firefox and Opera. */\n",
              "        border: none;\n",
              "        /* Needs to be in here for Safari polyfill so background images work as expected. */\n",
              "        background-size: auto;\n",
              "    }\n",
              "    progress:not([value]), progress:not([value])::-webkit-progress-bar {\n",
              "        background: repeating-linear-gradient(45deg, #7e7e7e, #7e7e7e 10px, #5c5c5c 10px, #5c5c5c 20px);\n",
              "    }\n",
              "    .progress-bar-interrupted, .progress-bar-interrupted::-webkit-progress-bar {\n",
              "        background: #F44336;\n",
              "    }\n",
              "</style>\n"
            ],
            "text/plain": [
              "<IPython.core.display.HTML object>"
            ]
          },
          "metadata": {},
          "output_type": "display_data"
        },
        {
          "data": {
            "text/html": [
              "\n",
              "    <div>\n",
              "      <progress value='16356' class='' max='200000' style='width:300px; height:20px; vertical-align: middle;'></progress>\n",
              "      8.18% [16356/200000 01:12&lt;13:29 Average Loss = 859.62]\n",
              "    </div>\n",
              "    "
            ],
            "text/plain": [
              "<IPython.core.display.HTML object>"
            ]
          },
          "metadata": {},
          "output_type": "display_data"
        },
        {
          "data": {
            "text/html": [
              "\n",
              "<style>\n",
              "    /* Turns off some styling */\n",
              "    progress {\n",
              "        /* gets rid of default border in Firefox and Opera. */\n",
              "        border: none;\n",
              "        /* Needs to be in here for Safari polyfill so background images work as expected. */\n",
              "        background-size: auto;\n",
              "    }\n",
              "    progress:not([value]), progress:not([value])::-webkit-progress-bar {\n",
              "        background: repeating-linear-gradient(45deg, #7e7e7e, #7e7e7e 10px, #5c5c5c 10px, #5c5c5c 20px);\n",
              "    }\n",
              "    .progress-bar-interrupted, .progress-bar-interrupted::-webkit-progress-bar {\n",
              "        background: #F44336;\n",
              "    }\n",
              "</style>\n"
            ],
            "text/plain": [
              "<IPython.core.display.HTML object>"
            ]
          },
          "metadata": {},
          "output_type": "display_data"
        },
        {
          "data": {
            "text/html": [
              "\n",
              "    <div>\n",
              "      <progress value='150' class='' max='150' style='width:300px; height:20px; vertical-align: middle;'></progress>\n",
              "      100.00% [150/150 03:44&lt;00:00 Sampling chain 0, 0 divergences]\n",
              "    </div>\n",
              "    "
            ],
            "text/plain": [
              "<IPython.core.display.HTML object>"
            ]
          },
          "metadata": {},
          "output_type": "display_data"
        },
        {
          "data": {
            "text/html": [
              "\n",
              "<style>\n",
              "    /* Turns off some styling */\n",
              "    progress {\n",
              "        /* gets rid of default border in Firefox and Opera. */\n",
              "        border: none;\n",
              "        /* Needs to be in here for Safari polyfill so background images work as expected. */\n",
              "        background-size: auto;\n",
              "    }\n",
              "    progress:not([value]), progress:not([value])::-webkit-progress-bar {\n",
              "        background: repeating-linear-gradient(45deg, #7e7e7e, #7e7e7e 10px, #5c5c5c 10px, #5c5c5c 20px);\n",
              "    }\n",
              "    .progress-bar-interrupted, .progress-bar-interrupted::-webkit-progress-bar {\n",
              "        background: #F44336;\n",
              "    }\n",
              "</style>\n"
            ],
            "text/plain": [
              "<IPython.core.display.HTML object>"
            ]
          },
          "metadata": {},
          "output_type": "display_data"
        },
        {
          "data": {
            "text/html": [
              "\n",
              "    <div>\n",
              "      <progress value='150' class='' max='150' style='width:300px; height:20px; vertical-align: middle;'></progress>\n",
              "      100.00% [150/150 04:10&lt;00:00 Sampling chain 1, 0 divergences]\n",
              "    </div>\n",
              "    "
            ],
            "text/plain": [
              "<IPython.core.display.HTML object>"
            ]
          },
          "metadata": {},
          "output_type": "display_data"
        },
        {
          "name": "stderr",
          "output_type": "stream",
          "text": [
            "WARNING:pymc.sampling.mcmc:Only 100 samples in chain.\n"
          ]
        },
        {
          "data": {
            "text/html": [
              "\n",
              "<style>\n",
              "    /* Turns off some styling */\n",
              "    progress {\n",
              "        /* gets rid of default border in Firefox and Opera. */\n",
              "        border: none;\n",
              "        /* Needs to be in here for Safari polyfill so background images work as expected. */\n",
              "        background-size: auto;\n",
              "    }\n",
              "    progress:not([value]), progress:not([value])::-webkit-progress-bar {\n",
              "        background: repeating-linear-gradient(45deg, #7e7e7e, #7e7e7e 10px, #5c5c5c 10px, #5c5c5c 20px);\n",
              "    }\n",
              "    .progress-bar-interrupted, .progress-bar-interrupted::-webkit-progress-bar {\n",
              "        background: #F44336;\n",
              "    }\n",
              "</style>\n"
            ],
            "text/plain": [
              "<IPython.core.display.HTML object>"
            ]
          },
          "metadata": {},
          "output_type": "display_data"
        },
        {
          "data": {
            "text/html": [
              "\n",
              "    <div>\n",
              "      <progress value='15887' class='' max='200000' style='width:300px; height:20px; vertical-align: middle;'></progress>\n",
              "      7.94% [15887/200000 01:10&lt;13:35 Average Loss = 861.12]\n",
              "    </div>\n",
              "    "
            ],
            "text/plain": [
              "<IPython.core.display.HTML object>"
            ]
          },
          "metadata": {},
          "output_type": "display_data"
        },
        {
          "data": {
            "text/html": [
              "\n",
              "<style>\n",
              "    /* Turns off some styling */\n",
              "    progress {\n",
              "        /* gets rid of default border in Firefox and Opera. */\n",
              "        border: none;\n",
              "        /* Needs to be in here for Safari polyfill so background images work as expected. */\n",
              "        background-size: auto;\n",
              "    }\n",
              "    progress:not([value]), progress:not([value])::-webkit-progress-bar {\n",
              "        background: repeating-linear-gradient(45deg, #7e7e7e, #7e7e7e 10px, #5c5c5c 10px, #5c5c5c 20px);\n",
              "    }\n",
              "    .progress-bar-interrupted, .progress-bar-interrupted::-webkit-progress-bar {\n",
              "        background: #F44336;\n",
              "    }\n",
              "</style>\n"
            ],
            "text/plain": [
              "<IPython.core.display.HTML object>"
            ]
          },
          "metadata": {},
          "output_type": "display_data"
        },
        {
          "data": {
            "text/html": [
              "\n",
              "    <div>\n",
              "      <progress value='150' class='' max='150' style='width:300px; height:20px; vertical-align: middle;'></progress>\n",
              "      100.00% [150/150 04:36&lt;00:00 Sampling chain 0, 0 divergences]\n",
              "    </div>\n",
              "    "
            ],
            "text/plain": [
              "<IPython.core.display.HTML object>"
            ]
          },
          "metadata": {},
          "output_type": "display_data"
        },
        {
          "data": {
            "text/html": [
              "\n",
              "<style>\n",
              "    /* Turns off some styling */\n",
              "    progress {\n",
              "        /* gets rid of default border in Firefox and Opera. */\n",
              "        border: none;\n",
              "        /* Needs to be in here for Safari polyfill so background images work as expected. */\n",
              "        background-size: auto;\n",
              "    }\n",
              "    progress:not([value]), progress:not([value])::-webkit-progress-bar {\n",
              "        background: repeating-linear-gradient(45deg, #7e7e7e, #7e7e7e 10px, #5c5c5c 10px, #5c5c5c 20px);\n",
              "    }\n",
              "    .progress-bar-interrupted, .progress-bar-interrupted::-webkit-progress-bar {\n",
              "        background: #F44336;\n",
              "    }\n",
              "</style>\n"
            ],
            "text/plain": [
              "<IPython.core.display.HTML object>"
            ]
          },
          "metadata": {},
          "output_type": "display_data"
        },
        {
          "data": {
            "text/html": [
              "\n",
              "    <div>\n",
              "      <progress value='150' class='' max='150' style='width:300px; height:20px; vertical-align: middle;'></progress>\n",
              "      100.00% [150/150 04:53&lt;00:00 Sampling chain 1, 0 divergences]\n",
              "    </div>\n",
              "    "
            ],
            "text/plain": [
              "<IPython.core.display.HTML object>"
            ]
          },
          "metadata": {},
          "output_type": "display_data"
        }
      ],
      "source": [
        "# Definition der pr_median_lambda_0-Werte für die Sensitivitätsanalyse\n",
        "pr_median_lambda_0_values = [0.1, 0.2,0.3,0.4,0.5, 0.6,0.7,0.8,0.9,1.0]\n",
        "# Liste zur Speicherung der Log-Likelihood-Werte\n",
        "log_likelihoods = []\n",
        "traces_list = []\n",
        "# Iteration über verschiedene pr_median_lambda_0-Werte\n",
        "for pr_median_lambda_0_value in pr_median_lambda_0_values:\n",
        "    with cov19.model.Cov19Model(**params_model) as this_model:\n",
        "        # Ersetze den festen Wert von pr_median_lambda_0 durch den aktuellen Wert in der Iteration\n",
        "        lambda_t_log = cov19.model.lambda_t_with_sigmoids(\n",
        "            pr_median_lambda_0=pr_median_lambda_0_value,\n",
        "            pr_sigma_lambda_0=0.5,\n",
        "            change_points_list=change_points,\n",
        "            name_lambda_t=\"lambda_t\",\n",
        "        )\n",
        "        # set prior distribution for the recovery rate\n",
        "        mu = pm.LogNormal(name=\"mu\", mu=np.log(1 / 8), sigma=0.2)\n",
        "\n",
        "        # This builds a decorrelated prior for I_begin for faster inference.\n",
        "        # It is not necessary to use it, one can simply remove it and use the default argument\n",
        "        # for pr_I_begin in cov19.SIR\n",
        "        I_begin = cov19.model.uncorrelated_prior_I(\n",
        "            lambda_t_log=lambda_t_log,\n",
        "            mu=mu,\n",
        "            pr_median_delay=pr_delay,\n",
        "            name_I_begin=\"I_begin\",\n",
        "            name_I_begin_ratio_log=\"I_begin_ratio_log\",\n",
        "            pr_sigma_I_begin=2,\n",
        "            n_data_points_used=5,\n",
        "        )\n",
        "\n",
        "        # Use lambda_t_log and mu to run the SIR model\n",
        "        new_cases = cov19.model.SIR(\n",
        "            lambda_t_log=lambda_t_log,\n",
        "            mu=mu,\n",
        "            I_begin=I_begin,\n",
        "        )\n",
        "\n",
        "        # Delay the cases by a lognormal reporting delay\n",
        "        new_cases = cov19.model.delay_cases(\n",
        "            cases=new_cases,\n",
        "            delay_kernel=\"lognormal\",\n",
        "            median_delay_kwargs={\n",
        "                \"name\": \"delay\",\n",
        "                \"mu\": pr_delay,\n",
        "                \"sigma\": 0.2,\n",
        "            },\n",
        "        )\n",
        "\n",
        "        # Modulate the inferred cases by a abs(sin(x)) function, to account for weekend effects\n",
        "        # Also adds the \"new_cases\" variable to the trace that has all model features.\n",
        "        new_cases = cov19.model.week_modulation(\n",
        "            cases=new_cases,\n",
        "            week_modulation_type=\"step\",\n",
        "            weekend_factor_kwargs={\n",
        "                \"name\": \"weekend_factor\",\n",
        "                \"mu\": np.log(0.3),\n",
        "                \"sigma\": 0.5,\n",
        "            },\n",
        "            weekend_days=(6, 7),\n",
        "        )\n",
        "        pm.Deterministic(\"new_cases\", new_cases)\n",
        "\n",
        "        # Define the likelihood, uses the new_cases_obs set as model parameter\n",
        "        cov19.model.student_t_likelihood(new_cases)\n",
        "\n",
        "        # Führe den MCMC-Algorithmus durch\n",
        "        with this_model:\n",
        "            tune = 50\n",
        "            draws = 100\n",
        "            trace_sensitivity = pm.sample(tune=tune, draws=draws, init=\"advi+adapt_diag\", target_accept=0.9)\n",
        "\n",
        "        # Speichere den Trace in der Liste\n",
        "        trace_list.append(trace_sensitivity)\n",
        "\n",
        "\n"
      ]
    },
    {
      "cell_type": "markdown",
      "metadata": {
        "id": "k-__DN10DRN9"
      },
      "source": [
        "### Validierung\n",
        "Wir vergleichen nun die vorhergesagten Fallzahlen auf Basis des veränderten lambda_0-Wertes."
      ]
    },
    {
      "cell_type": "code",
      "execution_count": null,
      "metadata": {
        "colab": {
          "base_uri": "https://localhost:8080/",
          "height": 564
        },
        "id": "vRMuyTUzDqmb",
        "outputId": "87c0ac6b-0812-459d-aba9-a03841f9ad85"
      },
      "outputs": [
        {
          "data": {
            "image/png": "[encoded data removed]",
            "text/plain": [
              "<Figure size 1000x600 with 1 Axes>"
            ]
          },
          "metadata": {},
          "output_type": "display_data"
        }
      ],
      "source": [
        "observed_cases = new_cases_obs\n",
        "\n",
        "# Annahme: observed_cases und trace_list sind verfügbar\n",
        "plt.figure(figsize=(10, 6))\n",
        "\n",
        "\n",
        "# Plot für vorhergesagte Fälle für alle Traces\n",
        "for i, trace in enumerate(trace_list):\n",
        "    predicted_cases = trace.posterior[\"new_cases\"].mean(dim=(\"chain\", \"draw\")).values[:len(new_cases_obs)] + offset\n",
        "    plt.plot(time_axis, predicted_cases, label=f'Predicted Cases - Trace {i + 1}')\n",
        "\n",
        "# Legende und Achsentitel\n",
        "plt.legend()\n",
        "plt.xlabel('Time')\n",
        "plt.ylabel('Number of Cases')\n",
        "plt.title('Observed vs Predicted Cases for All Traces')\n",
        "\n",
        "# Anzeige des Plots\n",
        "plt.show()\n"
      ]
    },
    {
      "cell_type": "markdown",
      "metadata": {},
      "source": [
        "An dieser Stelle wird nochmal der MSE jeweils berechnet"
      ]
    },
    {
      "cell_type": "code",
      "execution_count": null,
      "metadata": {
        "colab": {
          "base_uri": "https://localhost:8080/"
        },
        "id": "UYwsyDzZNjrK",
        "outputId": "77d71666-8e1d-40e1-dc1d-45e3a08ccd4e"
      },
      "outputs": [
        {
          "name": "stdout",
          "output_type": "stream",
          "text": [
            "Varianz der neu beobachteten Fälle: 3228203.0352968676\n",
            "Trace trace1:\n",
            "Mean Squared Error: 4608965.01656765\n",
            "Normalized Mean Squared Error: 1.4277184446497513\n",
            "\n",
            "Trace trace2:\n",
            "Mean Squared Error: 4631897.029888691\n",
            "Normalized Mean Squared Error: 1.434822091189422\n",
            "\n",
            "Trace trace3:\n",
            "Mean Squared Error: 4659662.431133097\n",
            "Normalized Mean Squared Error: 1.4434229756260022\n",
            "\n"
          ]
        },
        {
          "data": {
            "text/plain": [
              "({'trace1': 4608965.01656765,\n",
              "  'trace2': 4631897.029888691,\n",
              "  'trace3': 4659662.431133097},\n",
              " {'trace1': 1.4277184446497513,\n",
              "  'trace2': 1.434822091189422,\n",
              "  'trace3': 1.4434229756260022})"
            ]
          },
          "execution_count": 40,
          "metadata": {},
          "output_type": "execute_result"
        }
      ],
      "source": [
        "# Beobachtete und vorhergesagte Fälle für jeden Trace\n",
        "observed_cases = new_cases_obs\n",
        "predicted_cases_traces = {\n",
        "    \"trace1\": trace_list[0].posterior[\"new_cases\"].mean(dim=(\"chain\", \"draw\")).values[:len(new_cases_obs)],\n",
        "    \"trace2\": trace_list[1].posterior[\"new_cases\"].mean(dim=(\"chain\", \"draw\")).values[:len(new_cases_obs)],\n",
        "    \"trace3\": trace_list[2].posterior[\"new_cases\"].mean(dim=(\"chain\", \"draw\")).values[:len(new_cases_obs)],\n",
        "    \"trace4\": trace_list[3].posterior[\"new_cases\"].mean(dim=(\"chain\", \"draw\")).values[:len(new_cases_obs)],\n",
        "    \"trace5\": trace_list[4].posterior[\"new_cases\"].mean(dim=(\"chain\", \"draw\")).values[:len(new_cases_obs)],\n",
        "    \"trace6\": trace_list[5].posterior[\"new_cases\"].mean(dim=(\"chain\", \"draw\")).values[:len(new_cases_obs)],\n",
        "    \"trace7\": trace_list[6].posterior[\"new_cases\"].mean(dim=(\"chain\", \"draw\")).values[:len(new_cases_obs)],\n",
        "    \"trace8\": trace_list[7].posterior[\"new_cases\"].mean(dim=(\"chain\", \"draw\")).values[:len(new_cases_obs)],\n",
        "    \"trace9\": trace_list[8].posterior[\"new_cases\"].mean(dim=(\"chain\", \"draw\")).values[:len(new_cases_obs)],\n",
        "    \"trace10\": trace_list[9].posterior[\"new_cases\"].mean(dim=(\"chain\", \"draw\")).values[:len(new_cases_obs)],\n",
        "    \"trace11\": trace_list[10].posterior[\"new_cases\"].mean(dim=(\"chain\", \"draw\")).values[:len(new_cases_obs)],\n",
        "}\n",
        "\n",
        "# Varianz der beobachteten Fälle\n",
        "variance_observed = observed_cases.var()\n",
        "print(\"Varianz der neu beobachteten Fälle:\", variance_observed)\n",
        "\n",
        "# Berechne den Mean Squared Error (MSE) und den Normalized Mean Squared Error (NMSE) für jeden Trace\n",
        "mse_values = {}\n",
        "nmse_values = {}\n",
        "\n",
        "for trace_name, predicted_cases in predicted_cases_traces.items():\n",
        "    # Berechne die quadratischen Fehler\n",
        "    squared_errors = (observed_cases - predicted_cases)**2\n",
        "\n",
        "    # Berechne den Durchschnitt der quadratischen Fehler (MSE)\n",
        "    mse = squared_errors.mean()\n",
        "    mse_values[trace_name] = mse\n",
        "\n",
        "    # Berechne den Normalized Mean Squared Error (NMSE)\n",
        "    nmse = mse / variance_observed\n",
        "    nmse_values[trace_name] = nmse\n",
        "\n",
        "    print(f\"Trace {trace_name}:\")\n",
        "    print(\"Mean Squared Error:\", mse)\n",
        "    print(\"Normalized Mean Squared Error:\", nmse)\n",
        "    print()\n",
        "\n",
        "# Rückgabe der berechneten Werte, falls sie weiterverwendet werden sollen\n",
        "mse_values, nmse_values"
      ]
    }
  ],
  "metadata": {
    "colab": {
      "provenance": []
    },
    "kernelspec": {
      "display_name": "Python [conda env:dev_env]",
      "language": "python",
      "name": "conda-env-dev_env-py"
    },
    "language_info": {
      "codemirror_mode": {
        "name": "ipython",
        "version": 3
      },
      "file_extension": ".py",
      "mimetype": "text/x-python",
      "name": "python",
      "nbconvert_exporter": "python",
      "pygments_lexer": "ipython3",
      "version": "3.10.4"
    }
  },
  "nbformat": 4,
  "nbformat_minor": 0
}
